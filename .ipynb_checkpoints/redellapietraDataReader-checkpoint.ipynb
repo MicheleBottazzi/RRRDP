{
 "cells": [
  {
   "cell_type": "code",
   "execution_count": 1,
   "metadata": {},
   "outputs": [],
   "source": [
    "import pandas as pd\n",
    "import numpy as np\n",
    "import matplotlib.pyplot as plt\n",
    "from datetime import datetime\n",
    "import os\n",
    "import glob"
   ]
  },
  {
   "cell_type": "code",
   "execution_count": 2,
   "metadata": {},
   "outputs": [
    {
     "data": {
      "text/plain": [
       "'/home/drugo/Sim/RRRDP'"
      ]
     },
     "execution_count": 2,
     "metadata": {},
     "output_type": "execute_result"
    }
   ],
   "source": [
    "os.getcwd()"
   ]
  },
  {
   "cell_type": "code",
   "execution_count": 3,
   "metadata": {},
   "outputs": [],
   "source": [
    "dateparseD = lambda x: pd.datetime.strptime(x, '%d/%m/%Y %H:%M')\n",
    "dateparseM = lambda x: pd.datetime.strptime(x, '%m/%d/%Y %H:%M')\n",
    "dateparseY = lambda x: pd.datetime.strptime(x, '%Y-%m-%d %H:%M')\n",
    "\n",
    "# df = pd.read_csv(infile, parse_dates=['datetime'], date_parser=dateparse)"
   ]
  },
  {
   "cell_type": "code",
   "execution_count": 4,
   "metadata": {},
   "outputs": [],
   "source": [
    "path = \"/home/drugo/Sim/RRRDP/\"                \n",
    "os.chdir(path)"
   ]
  },
  {
   "cell_type": "code",
   "execution_count": 5,
   "metadata": {},
   "outputs": [
    {
     "name": "stdout",
     "output_type": "stream",
     "text": [
      "/home/drugo/Sim/RRRDP/data/RioRessi/1\n"
     ]
    }
   ],
   "source": [
    "cd data/RioRessi/1/"
   ]
  },
  {
   "cell_type": "code",
   "execution_count": 6,
   "metadata": {},
   "outputs": [
    {
     "name": "stdout",
     "output_type": "stream",
     "text": [
      "DemRioRessi_1.asc                 RioRessi_LongwaveUpwelling.csv\r\n",
      "DemRioRessi_1.prj                 RioRessi_NetRadiation.csv\r\n",
      "RioRessi_centroid_ID_1.dbf        RioRessi_PRES.csv\r\n",
      "RioRessi_centroid_ID_1.prj        RioRessi_PRP.csv\r\n",
      "RioRessi_centroid_ID_1.qix        RioRessi_RAD.csv\r\n",
      "RioRessi_centroid_ID_1.qpj        RioRessi_RH.csv\r\n",
      "RioRessi_centroid_ID_1.shp        RioRessi_ShortwaveDiffuse.csv\r\n",
      "RioRessi_centroid_ID_1.shx        RioRessi_ShortwaveDirect.csv\r\n",
      "RioRessi_CI.csv                   RioRessi_ShortwaveTOA.csv\r\n",
      "RioRessi_ET_FAO.csv               RioRessi_ShortwaveTotal.csv\r\n",
      "RioRessi_ET_PT.csv                RioRessi_stress0.csv\r\n",
      "RioRessi_LAI.csv                  RioRessi_stress.csv\r\n",
      "RioRessi_latentHeat_FAO.csv       RioRessi_SWC.csv\r\n",
      "RioRessi_latentHeat_PT.csv        RioRessi_TEMP.csv\r\n",
      "RioRessi_LongwaveDownwelling.csv  RioRessi_WIND.csv\r\n"
     ]
    }
   ],
   "source": [
    "ls"
   ]
  },
  {
   "cell_type": "code",
   "execution_count": 146,
   "metadata": {},
   "outputs": [],
   "source": [
    "files = glob.glob(\"RioRessi_*.csv\")"
   ]
  },
  {
   "cell_type": "code",
   "execution_count": 147,
   "metadata": {},
   "outputs": [
    {
     "data": {
      "text/plain": [
       "'RioRessi_SWC.csv'"
      ]
     },
     "execution_count": 147,
     "metadata": {},
     "output_type": "execute_result"
    }
   ],
   "source": [
    "files[3]"
   ]
  },
  {
   "cell_type": "code",
   "execution_count": 148,
   "metadata": {},
   "outputs": [
    {
     "name": "stdout",
     "output_type": "stream",
     "text": [
      "RioRessi_ShortwaveTOA.csv\n",
      "RioRessi_NetRadiation.csv\n",
      "RioRessi_LAI.csv\n",
      "RioRessi_SWC.csv\n",
      "RioRessi_LongwaveDownwelling.csv\n",
      "RioRessi_LongwaveUpwelling.csv\n",
      "RioRessi_RH.csv\n",
      "RioRessi_PRES.csv\n",
      "RioRessi_ShortwaveDirect.csv\n",
      "RioRessi_WIND.csv\n",
      "RioRessi_ShortwaveDiffuse.csv\n",
      "RioRessi_ShortwaveTotal.csv\n",
      "RioRessi_TEMP.csv\n",
      "RioRessi_RAD.csv\n",
      "RioRessi_PRP.csv\n",
      "RioRessi_CI.csv\n"
     ]
    }
   ],
   "source": [
    "for x in files:\n",
    "    print(x)"
   ]
  },
  {
   "cell_type": "markdown",
   "metadata": {},
   "source": [
    "# Relative H"
   ]
  },
  {
   "cell_type": "code",
   "execution_count": 97,
   "metadata": {},
   "outputs": [
    {
     "name": "stdout",
     "output_type": "stream",
     "text": [
      "RioRessi_RH.csv\n"
     ]
    },
    {
     "data": {
      "text/html": [
       "<div>\n",
       "<style scoped>\n",
       "    .dataframe tbody tr th:only-of-type {\n",
       "        vertical-align: middle;\n",
       "    }\n",
       "\n",
       "    .dataframe tbody tr th {\n",
       "        vertical-align: top;\n",
       "    }\n",
       "\n",
       "    .dataframe thead th {\n",
       "        text-align: right;\n",
       "    }\n",
       "</style>\n",
       "<table border=\"1\" class=\"dataframe\">\n",
       "  <thead>\n",
       "    <tr style=\"text-align: right;\">\n",
       "      <th></th>\n",
       "      <th>Relative humidity (%)</th>\n",
       "      <th>Relative humidity (%).1</th>\n",
       "    </tr>\n",
       "    <tr>\n",
       "      <th>Unnamed: 1</th>\n",
       "      <th></th>\n",
       "      <th></th>\n",
       "    </tr>\n",
       "  </thead>\n",
       "  <tbody>\n",
       "    <tr>\n",
       "      <th>2012-08-01 00:00:00</th>\n",
       "      <td>NaN</td>\n",
       "      <td>76.25</td>\n",
       "    </tr>\n",
       "    <tr>\n",
       "      <th>2012-08-01 01:00:00</th>\n",
       "      <td>NaN</td>\n",
       "      <td>74.00</td>\n",
       "    </tr>\n",
       "    <tr>\n",
       "      <th>2012-08-01 02:00:00</th>\n",
       "      <td>NaN</td>\n",
       "      <td>74.50</td>\n",
       "    </tr>\n",
       "    <tr>\n",
       "      <th>2012-08-01 03:00:00</th>\n",
       "      <td>NaN</td>\n",
       "      <td>72.50</td>\n",
       "    </tr>\n",
       "    <tr>\n",
       "      <th>2012-08-01 04:00:00</th>\n",
       "      <td>NaN</td>\n",
       "      <td>70.50</td>\n",
       "    </tr>\n",
       "  </tbody>\n",
       "</table>\n",
       "</div>"
      ],
      "text/plain": [
       "                     Relative humidity (%)  Relative humidity (%).1\n",
       "Unnamed: 1                                                         \n",
       "2012-08-01 00:00:00                    NaN                    76.25\n",
       "2012-08-01 01:00:00                    NaN                    74.00\n",
       "2012-08-01 02:00:00                    NaN                    74.50\n",
       "2012-08-01 03:00:00                    NaN                    72.50\n",
       "2012-08-01 04:00:00                    NaN                    70.50"
      ]
     },
     "execution_count": 97,
     "metadata": {},
     "output_type": "execute_result"
    }
   ],
   "source": [
    "print(files[0])\n",
    "dfR= pd.read_csv(files[0],parse_dates=['Unnamed: 1'],\n",
    "                 sep=',',skiprows=0,low_memory=False, na_values=-9999)#, date_parser=dateparseD)\n",
    "dfR.index = dfR['Unnamed: 1']\n",
    "dfR = dfR.iloc[:,2:]\n",
    "dfR.head()"
   ]
  },
  {
   "cell_type": "code",
   "execution_count": 98,
   "metadata": {},
   "outputs": [],
   "source": [
    "dfR['RH'] = dfR.mean(axis=1)"
   ]
  },
  {
   "cell_type": "code",
   "execution_count": 99,
   "metadata": {},
   "outputs": [
    {
     "data": {
      "text/plain": [
       "<matplotlib.axes._subplots.AxesSubplot at 0x7fd217dac198>"
      ]
     },
     "execution_count": 99,
     "metadata": {},
     "output_type": "execute_result"
    },
    {
     "data": {
      "image/png": "[encoded data removed]",
      "text/plain": [
       "<Figure size 432x288 with 1 Axes>"
      ]
     },
     "metadata": {},
     "output_type": "display_data"
    }
   ],
   "source": [
    "dfR.plot()"
   ]
  },
  {
   "cell_type": "code",
   "execution_count": 100,
   "metadata": {},
   "outputs": [],
   "source": [
    "dfR.to_csv(files[0],na_rep=-9999)"
   ]
  },
  {
   "cell_type": "markdown",
   "metadata": {},
   "source": [
    "# Atmospheric pressure"
   ]
  },
  {
   "cell_type": "code",
   "execution_count": 101,
   "metadata": {},
   "outputs": [
    {
     "name": "stdout",
     "output_type": "stream",
     "text": [
      "RioRessi_PRES.csv\n"
     ]
    },
    {
     "data": {
      "text/html": [
       "<div>\n",
       "<style scoped>\n",
       "    .dataframe tbody tr th:only-of-type {\n",
       "        vertical-align: middle;\n",
       "    }\n",
       "\n",
       "    .dataframe tbody tr th {\n",
       "        vertical-align: top;\n",
       "    }\n",
       "\n",
       "    .dataframe thead th {\n",
       "        text-align: right;\n",
       "    }\n",
       "</style>\n",
       "<table border=\"1\" class=\"dataframe\">\n",
       "  <thead>\n",
       "    <tr style=\"text-align: right;\">\n",
       "      <th></th>\n",
       "      <th>Atmo. pressure (kPa)</th>\n",
       "    </tr>\n",
       "    <tr>\n",
       "      <th>Unnamed: 1</th>\n",
       "      <th></th>\n",
       "    </tr>\n",
       "  </thead>\n",
       "  <tbody>\n",
       "    <tr>\n",
       "      <th>2012-08-01 00:00:00</th>\n",
       "      <td>NaN</td>\n",
       "    </tr>\n",
       "    <tr>\n",
       "      <th>2012-08-01 01:00:00</th>\n",
       "      <td>NaN</td>\n",
       "    </tr>\n",
       "    <tr>\n",
       "      <th>2012-08-01 02:00:00</th>\n",
       "      <td>NaN</td>\n",
       "    </tr>\n",
       "    <tr>\n",
       "      <th>2012-08-01 03:00:00</th>\n",
       "      <td>NaN</td>\n",
       "    </tr>\n",
       "    <tr>\n",
       "      <th>2012-08-01 04:00:00</th>\n",
       "      <td>NaN</td>\n",
       "    </tr>\n",
       "  </tbody>\n",
       "</table>\n",
       "</div>"
      ],
      "text/plain": [
       "                     Atmo. pressure (kPa)\n",
       "Unnamed: 1                               \n",
       "2012-08-01 00:00:00                   NaN\n",
       "2012-08-01 01:00:00                   NaN\n",
       "2012-08-01 02:00:00                   NaN\n",
       "2012-08-01 03:00:00                   NaN\n",
       "2012-08-01 04:00:00                   NaN"
      ]
     },
     "execution_count": 101,
     "metadata": {},
     "output_type": "execute_result"
    }
   ],
   "source": [
    "print(files[1])\n",
    "dfPA= pd.read_csv(files[1],parse_dates=['Unnamed: 1'],\n",
    "                 sep=',',skiprows=0,low_memory=False, na_values=-9999)#, date_parser=dateparseD)\n",
    "dfPA.index = dfPA['Unnamed: 1']\n",
    "dfPA = dfPA.iloc[:,2:]\n",
    "dfPA.head()"
   ]
  },
  {
   "cell_type": "code",
   "execution_count": 102,
   "metadata": {},
   "outputs": [],
   "source": [
    "dfPA['PA'] = dfPA['Atmo. pressure (kPa)']*1000"
   ]
  },
  {
   "cell_type": "code",
   "execution_count": 103,
   "metadata": {},
   "outputs": [
    {
     "data": {
      "text/plain": [
       "<matplotlib.axes._subplots.AxesSubplot at 0x7fd2182b7400>"
      ]
     },
     "execution_count": 103,
     "metadata": {},
     "output_type": "execute_result"
    },
    {
     "data": {
      "image/png": "[encoded data removed]",
      "text/plain": [
       "<Figure size 432x288 with 1 Axes>"
      ]
     },
     "metadata": {},
     "output_type": "display_data"
    }
   ],
   "source": [
    "dfPA.plot()"
   ]
  },
  {
   "cell_type": "code",
   "execution_count": 104,
   "metadata": {},
   "outputs": [],
   "source": [
    "dfPA.to_csv(files[1],na_rep=-9999)"
   ]
  },
  {
   "cell_type": "markdown",
   "metadata": {},
   "source": [
    "# Wind"
   ]
  },
  {
   "cell_type": "code",
   "execution_count": 105,
   "metadata": {},
   "outputs": [
    {
     "name": "stdout",
     "output_type": "stream",
     "text": [
      "RioRessi_WIND.csv\n"
     ]
    },
    {
     "data": {
      "text/html": [
       "<div>\n",
       "<style scoped>\n",
       "    .dataframe tbody tr th:only-of-type {\n",
       "        vertical-align: middle;\n",
       "    }\n",
       "\n",
       "    .dataframe tbody tr th {\n",
       "        vertical-align: top;\n",
       "    }\n",
       "\n",
       "    .dataframe thead th {\n",
       "        text-align: right;\n",
       "    }\n",
       "</style>\n",
       "<table border=\"1\" class=\"dataframe\">\n",
       "  <thead>\n",
       "    <tr style=\"text-align: right;\">\n",
       "      <th></th>\n",
       "      <th>Wind speed (m/s) at Castana</th>\n",
       "      <th>Wind speed (m/s) at Valli del Pasubio</th>\n",
       "      <th>Wind</th>\n",
       "    </tr>\n",
       "    <tr>\n",
       "      <th>Unnamed: 1</th>\n",
       "      <th></th>\n",
       "      <th></th>\n",
       "      <th></th>\n",
       "    </tr>\n",
       "  </thead>\n",
       "  <tbody>\n",
       "    <tr>\n",
       "      <th>2012-08-01 00:00:00</th>\n",
       "      <td>0.0</td>\n",
       "      <td>1.240000</td>\n",
       "      <td>0.620000</td>\n",
       "    </tr>\n",
       "    <tr>\n",
       "      <th>2012-08-01 01:00:00</th>\n",
       "      <td>0.0</td>\n",
       "      <td>0.950000</td>\n",
       "      <td>0.475000</td>\n",
       "    </tr>\n",
       "    <tr>\n",
       "      <th>2012-08-01 02:00:00</th>\n",
       "      <td>0.0</td>\n",
       "      <td>1.150000</td>\n",
       "      <td>0.575000</td>\n",
       "    </tr>\n",
       "    <tr>\n",
       "      <th>2012-08-01 03:00:00</th>\n",
       "      <td>0.0</td>\n",
       "      <td>1.333333</td>\n",
       "      <td>0.666667</td>\n",
       "    </tr>\n",
       "    <tr>\n",
       "      <th>2012-08-01 04:00:00</th>\n",
       "      <td>0.0</td>\n",
       "      <td>0.933333</td>\n",
       "      <td>0.466667</td>\n",
       "    </tr>\n",
       "  </tbody>\n",
       "</table>\n",
       "</div>"
      ],
      "text/plain": [
       "                     Wind speed (m/s) at Castana  \\\n",
       "Unnamed: 1                                         \n",
       "2012-08-01 00:00:00                          0.0   \n",
       "2012-08-01 01:00:00                          0.0   \n",
       "2012-08-01 02:00:00                          0.0   \n",
       "2012-08-01 03:00:00                          0.0   \n",
       "2012-08-01 04:00:00                          0.0   \n",
       "\n",
       "                     Wind speed (m/s) at Valli del Pasubio      Wind  \n",
       "Unnamed: 1                                                            \n",
       "2012-08-01 00:00:00                               1.240000  0.620000  \n",
       "2012-08-01 01:00:00                               0.950000  0.475000  \n",
       "2012-08-01 02:00:00                               1.150000  0.575000  \n",
       "2012-08-01 03:00:00                               1.333333  0.666667  \n",
       "2012-08-01 04:00:00                               0.933333  0.466667  "
      ]
     },
     "execution_count": 105,
     "metadata": {},
     "output_type": "execute_result"
    }
   ],
   "source": [
    "print(files[2])\n",
    "dfW= pd.read_csv(files[2],parse_dates=['Unnamed: 1'],\n",
    "                 sep=',',skiprows=0,low_memory=False, na_values=-9999)#, date_parser=dateparseD)\n",
    "dfW.index = dfW['Unnamed: 1']\n",
    "dfW = dfW.iloc[:,2:]\n",
    "dfW.head()"
   ]
  },
  {
   "cell_type": "code",
   "execution_count": 106,
   "metadata": {},
   "outputs": [],
   "source": [
    "dfW['Wind'] = dfW.mean(axis=1)"
   ]
  },
  {
   "cell_type": "code",
   "execution_count": 107,
   "metadata": {},
   "outputs": [
    {
     "data": {
      "text/plain": [
       "<matplotlib.axes._subplots.AxesSubplot at 0x7fd2182f7588>"
      ]
     },
     "execution_count": 107,
     "metadata": {},
     "output_type": "execute_result"
    },
    {
     "data": {
      "image/png": "[encoded data removed]",
      "text/plain": [
       "<Figure size 432x288 with 1 Axes>"
      ]
     },
     "metadata": {},
     "output_type": "display_data"
    }
   ],
   "source": [
    "dfW.plot()"
   ]
  },
  {
   "cell_type": "code",
   "execution_count": 108,
   "metadata": {},
   "outputs": [],
   "source": [
    "dfW.to_csv(files[2],na_rep=-9999)"
   ]
  },
  {
   "cell_type": "markdown",
   "metadata": {},
   "source": [
    "# Temperature"
   ]
  },
  {
   "cell_type": "code",
   "execution_count": 113,
   "metadata": {},
   "outputs": [
    {
     "name": "stdout",
     "output_type": "stream",
     "text": [
      "RioRessi_TEMP.csv\n"
     ]
    },
    {
     "data": {
      "text/html": [
       "<div>\n",
       "<style scoped>\n",
       "    .dataframe tbody tr th:only-of-type {\n",
       "        vertical-align: middle;\n",
       "    }\n",
       "\n",
       "    .dataframe tbody tr th {\n",
       "        vertical-align: top;\n",
       "    }\n",
       "\n",
       "    .dataframe thead th {\n",
       "        text-align: right;\n",
       "    }\n",
       "</style>\n",
       "<table border=\"1\" class=\"dataframe\">\n",
       "  <thead>\n",
       "    <tr style=\"text-align: right;\">\n",
       "      <th></th>\n",
       "      <th>Air temperature (°C)</th>\n",
       "      <th>Air temperature at Contrà Doppio (°C)</th>\n",
       "    </tr>\n",
       "    <tr>\n",
       "      <th>Unnamed: 1</th>\n",
       "      <th></th>\n",
       "      <th></th>\n",
       "    </tr>\n",
       "  </thead>\n",
       "  <tbody>\n",
       "    <tr>\n",
       "      <th>2012-08-01 00:00:00</th>\n",
       "      <td>NaN</td>\n",
       "      <td>NaN</td>\n",
       "    </tr>\n",
       "    <tr>\n",
       "      <th>2012-08-01 01:00:00</th>\n",
       "      <td>NaN</td>\n",
       "      <td>NaN</td>\n",
       "    </tr>\n",
       "    <tr>\n",
       "      <th>2012-08-01 02:00:00</th>\n",
       "      <td>NaN</td>\n",
       "      <td>NaN</td>\n",
       "    </tr>\n",
       "    <tr>\n",
       "      <th>2012-08-01 03:00:00</th>\n",
       "      <td>NaN</td>\n",
       "      <td>NaN</td>\n",
       "    </tr>\n",
       "    <tr>\n",
       "      <th>2012-08-01 04:00:00</th>\n",
       "      <td>NaN</td>\n",
       "      <td>NaN</td>\n",
       "    </tr>\n",
       "  </tbody>\n",
       "</table>\n",
       "</div>"
      ],
      "text/plain": [
       "                     Air temperature (°C)  \\\n",
       "Unnamed: 1                                  \n",
       "2012-08-01 00:00:00                   NaN   \n",
       "2012-08-01 01:00:00                   NaN   \n",
       "2012-08-01 02:00:00                   NaN   \n",
       "2012-08-01 03:00:00                   NaN   \n",
       "2012-08-01 04:00:00                   NaN   \n",
       "\n",
       "                     Air temperature at Contrà Doppio (°C)  \n",
       "Unnamed: 1                                                  \n",
       "2012-08-01 00:00:00                                    NaN  \n",
       "2012-08-01 01:00:00                                    NaN  \n",
       "2012-08-01 02:00:00                                    NaN  \n",
       "2012-08-01 03:00:00                                    NaN  \n",
       "2012-08-01 04:00:00                                    NaN  "
      ]
     },
     "execution_count": 113,
     "metadata": {},
     "output_type": "execute_result"
    }
   ],
   "source": [
    "print(files[3])\n",
    "dfT= pd.read_csv(files[3],parse_dates=['Unnamed: 1'],\n",
    "                 sep=',',skiprows=0,low_memory=False, na_values=-9999)#, date_parser=dateparseD)\n",
    "dfT.index = dfT['Unnamed: 1']\n",
    "dfT = dfT.iloc[:,2:]\n",
    "dfT.head()"
   ]
  },
  {
   "cell_type": "code",
   "execution_count": 115,
   "metadata": {},
   "outputs": [],
   "source": [
    "dfT['T'] = dfT.mean(axis=1)"
   ]
  },
  {
   "cell_type": "code",
   "execution_count": 116,
   "metadata": {},
   "outputs": [
    {
     "data": {
      "text/plain": [
       "<matplotlib.axes._subplots.AxesSubplot at 0x7fd217daca90>"
      ]
     },
     "execution_count": 116,
     "metadata": {},
     "output_type": "execute_result"
    },
    {
     "data": {
      "image/png": "[encoded data removed]",
      "text/plain": [
       "<Figure size 432x288 with 1 Axes>"
      ]
     },
     "metadata": {},
     "output_type": "display_data"
    }
   ],
   "source": [
    "dfT.plot()"
   ]
  },
  {
   "cell_type": "code",
   "execution_count": 117,
   "metadata": {},
   "outputs": [],
   "source": [
    "dfT.to_csv(files[3],na_rep=-9999)"
   ]
  },
  {
   "cell_type": "markdown",
   "metadata": {},
   "source": [
    "# Radiation"
   ]
  },
  {
   "cell_type": "code",
   "execution_count": 122,
   "metadata": {},
   "outputs": [
    {
     "name": "stdout",
     "output_type": "stream",
     "text": [
      "RioRessi_RAD.csv\n"
     ]
    },
    {
     "data": {
      "text/html": [
       "<div>\n",
       "<style scoped>\n",
       "    .dataframe tbody tr th:only-of-type {\n",
       "        vertical-align: middle;\n",
       "    }\n",
       "\n",
       "    .dataframe tbody tr th {\n",
       "        vertical-align: top;\n",
       "    }\n",
       "\n",
       "    .dataframe thead th {\n",
       "        text-align: right;\n",
       "    }\n",
       "</style>\n",
       "<table border=\"1\" class=\"dataframe\">\n",
       "  <thead>\n",
       "    <tr style=\"text-align: right;\">\n",
       "      <th></th>\n",
       "      <th>Global solar radiation (W/m2)</th>\n",
       "      <th>Global solar radiation (W/m2).1</th>\n",
       "    </tr>\n",
       "    <tr>\n",
       "      <th>Unnamed: 1</th>\n",
       "      <th></th>\n",
       "      <th></th>\n",
       "    </tr>\n",
       "  </thead>\n",
       "  <tbody>\n",
       "    <tr>\n",
       "      <th>2012-08-01 00:00:00</th>\n",
       "      <td>NaN</td>\n",
       "      <td>0.0</td>\n",
       "    </tr>\n",
       "    <tr>\n",
       "      <th>2012-08-01 01:00:00</th>\n",
       "      <td>NaN</td>\n",
       "      <td>0.0</td>\n",
       "    </tr>\n",
       "    <tr>\n",
       "      <th>2012-08-01 02:00:00</th>\n",
       "      <td>NaN</td>\n",
       "      <td>0.0</td>\n",
       "    </tr>\n",
       "    <tr>\n",
       "      <th>2012-08-01 03:00:00</th>\n",
       "      <td>NaN</td>\n",
       "      <td>0.0</td>\n",
       "    </tr>\n",
       "    <tr>\n",
       "      <th>2012-08-01 04:00:00</th>\n",
       "      <td>NaN</td>\n",
       "      <td>0.0</td>\n",
       "    </tr>\n",
       "  </tbody>\n",
       "</table>\n",
       "</div>"
      ],
      "text/plain": [
       "                     Global solar radiation (W/m2)  \\\n",
       "Unnamed: 1                                           \n",
       "2012-08-01 00:00:00                            NaN   \n",
       "2012-08-01 01:00:00                            NaN   \n",
       "2012-08-01 02:00:00                            NaN   \n",
       "2012-08-01 03:00:00                            NaN   \n",
       "2012-08-01 04:00:00                            NaN   \n",
       "\n",
       "                     Global solar radiation (W/m2).1  \n",
       "Unnamed: 1                                            \n",
       "2012-08-01 00:00:00                              0.0  \n",
       "2012-08-01 01:00:00                              0.0  \n",
       "2012-08-01 02:00:00                              0.0  \n",
       "2012-08-01 03:00:00                              0.0  \n",
       "2012-08-01 04:00:00                              0.0  "
      ]
     },
     "execution_count": 122,
     "metadata": {},
     "output_type": "execute_result"
    }
   ],
   "source": [
    "print(files[4])\n",
    "dfSW= pd.read_csv(files[4],parse_dates=['Unnamed: 1'],\n",
    "                 sep=',',skiprows=0,low_memory=False, na_values=-9999)#, date_parser=dateparseD)\n",
    "dfSW.index = dfSW['Unnamed: 1']\n",
    "dfSW = dfSW.iloc[:,2:]\n",
    "dfSW.head()"
   ]
  },
  {
   "cell_type": "code",
   "execution_count": 124,
   "metadata": {},
   "outputs": [],
   "source": [
    "dfSW['SW'] = dfSW.mean(axis=1)"
   ]
  },
  {
   "cell_type": "code",
   "execution_count": 125,
   "metadata": {},
   "outputs": [
    {
     "data": {
      "text/plain": [
       "<matplotlib.axes._subplots.AxesSubplot at 0x7fd2159cf4a8>"
      ]
     },
     "execution_count": 125,
     "metadata": {},
     "output_type": "execute_result"
    },
    {
     "data": {
      "image/png": "[encoded data removed]",
      "text/plain": [
       "<Figure size 432x288 with 1 Axes>"
      ]
     },
     "metadata": {},
     "output_type": "display_data"
    }
   ],
   "source": [
    "dfSW.plot()"
   ]
  },
  {
   "cell_type": "code",
   "execution_count": 126,
   "metadata": {},
   "outputs": [],
   "source": [
    "dfSW.to_csv(files[4],na_rep=-9999)"
   ]
  },
  {
   "cell_type": "markdown",
   "metadata": {},
   "source": [
    "# Precipitation"
   ]
  },
  {
   "cell_type": "code",
   "execution_count": 128,
   "metadata": {},
   "outputs": [
    {
     "name": "stdout",
     "output_type": "stream",
     "text": [
      "RioRessi_PRP.csv\n"
     ]
    },
    {
     "data": {
      "text/html": [
       "<div>\n",
       "<style scoped>\n",
       "    .dataframe tbody tr th:only-of-type {\n",
       "        vertical-align: middle;\n",
       "    }\n",
       "\n",
       "    .dataframe tbody tr th {\n",
       "        vertical-align: top;\n",
       "    }\n",
       "\n",
       "    .dataframe thead th {\n",
       "        text-align: right;\n",
       "    }\n",
       "</style>\n",
       "<table border=\"1\" class=\"dataframe\">\n",
       "  <thead>\n",
       "    <tr style=\"text-align: right;\">\n",
       "      <th></th>\n",
       "      <th>Precipitation (mm)</th>\n",
       "      <th>Precipitation (mm).1</th>\n",
       "    </tr>\n",
       "    <tr>\n",
       "      <th>Unnamed: 1</th>\n",
       "      <th></th>\n",
       "      <th></th>\n",
       "    </tr>\n",
       "  </thead>\n",
       "  <tbody>\n",
       "    <tr>\n",
       "      <th>2012-08-01 00:00:00</th>\n",
       "      <td>NaN</td>\n",
       "      <td>NaN</td>\n",
       "    </tr>\n",
       "    <tr>\n",
       "      <th>2012-08-01 01:00:00</th>\n",
       "      <td>NaN</td>\n",
       "      <td>NaN</td>\n",
       "    </tr>\n",
       "    <tr>\n",
       "      <th>2012-08-01 02:00:00</th>\n",
       "      <td>NaN</td>\n",
       "      <td>NaN</td>\n",
       "    </tr>\n",
       "    <tr>\n",
       "      <th>2012-08-01 03:00:00</th>\n",
       "      <td>NaN</td>\n",
       "      <td>NaN</td>\n",
       "    </tr>\n",
       "    <tr>\n",
       "      <th>2012-08-01 04:00:00</th>\n",
       "      <td>NaN</td>\n",
       "      <td>NaN</td>\n",
       "    </tr>\n",
       "  </tbody>\n",
       "</table>\n",
       "</div>"
      ],
      "text/plain": [
       "                     Precipitation (mm)  Precipitation (mm).1\n",
       "Unnamed: 1                                                   \n",
       "2012-08-01 00:00:00                 NaN                   NaN\n",
       "2012-08-01 01:00:00                 NaN                   NaN\n",
       "2012-08-01 02:00:00                 NaN                   NaN\n",
       "2012-08-01 03:00:00                 NaN                   NaN\n",
       "2012-08-01 04:00:00                 NaN                   NaN"
      ]
     },
     "execution_count": 128,
     "metadata": {},
     "output_type": "execute_result"
    }
   ],
   "source": [
    "print(files[5])\n",
    "dfPRP= pd.read_csv(files[5],parse_dates=['Unnamed: 1'],\n",
    "                 sep=',',skiprows=0,low_memory=False, na_values=-9999)#, date_parser=dateparseD)\n",
    "dfPRP.index = dfPRP['Unnamed: 1']\n",
    "dfPRP = dfPRP.iloc[:,2:]\n",
    "dfPRP.head()"
   ]
  },
  {
   "cell_type": "code",
   "execution_count": 129,
   "metadata": {},
   "outputs": [],
   "source": [
    "dfPRP['PRP'] = dfPRP.mean(axis=1)"
   ]
  },
  {
   "cell_type": "code",
   "execution_count": 130,
   "metadata": {},
   "outputs": [
    {
     "data": {
      "text/plain": [
       "<matplotlib.axes._subplots.AxesSubplot at 0x7fd2129a07b8>"
      ]
     },
     "execution_count": 130,
     "metadata": {},
     "output_type": "execute_result"
    },
    {
     "data": {
      "image/png": "[encoded data removed]",
      "text/plain": [
       "<Figure size 432x288 with 1 Axes>"
      ]
     },
     "metadata": {},
     "output_type": "display_data"
    }
   ],
   "source": [
    "dfPRP.plot()"
   ]
  },
  {
   "cell_type": "code",
   "execution_count": 131,
   "metadata": {},
   "outputs": [],
   "source": [
    "dfPRP.to_csv(files[5],na_rep=-9999)"
   ]
  },
  {
   "cell_type": "code",
   "execution_count": 132,
   "metadata": {},
   "outputs": [],
   "source": [
    "dfPRP1 = dfPRP.resample('Y').agg('sum')"
   ]
  },
  {
   "cell_type": "code",
   "execution_count": 133,
   "metadata": {},
   "outputs": [
    {
     "data": {
      "text/html": [
       "<div>\n",
       "<style scoped>\n",
       "    .dataframe tbody tr th:only-of-type {\n",
       "        vertical-align: middle;\n",
       "    }\n",
       "\n",
       "    .dataframe tbody tr th {\n",
       "        vertical-align: top;\n",
       "    }\n",
       "\n",
       "    .dataframe thead th {\n",
       "        text-align: right;\n",
       "    }\n",
       "</style>\n",
       "<table border=\"1\" class=\"dataframe\">\n",
       "  <thead>\n",
       "    <tr style=\"text-align: right;\">\n",
       "      <th></th>\n",
       "      <th>Precipitation (mm)</th>\n",
       "      <th>Precipitation (mm).1</th>\n",
       "      <th>PRP</th>\n",
       "    </tr>\n",
       "    <tr>\n",
       "      <th>Unnamed: 1</th>\n",
       "      <th></th>\n",
       "      <th></th>\n",
       "      <th></th>\n",
       "    </tr>\n",
       "  </thead>\n",
       "  <tbody>\n",
       "    <tr>\n",
       "      <th>2012-12-31</th>\n",
       "      <td>0.000000</td>\n",
       "      <td>302.4</td>\n",
       "      <td>302.400000</td>\n",
       "    </tr>\n",
       "    <tr>\n",
       "      <th>2013-12-31</th>\n",
       "      <td>0.000000</td>\n",
       "      <td>554.5</td>\n",
       "      <td>554.500000</td>\n",
       "    </tr>\n",
       "    <tr>\n",
       "      <th>2014-12-31</th>\n",
       "      <td>0.000000</td>\n",
       "      <td>2965.0</td>\n",
       "      <td>2965.000000</td>\n",
       "    </tr>\n",
       "    <tr>\n",
       "      <th>2015-12-31</th>\n",
       "      <td>0.000000</td>\n",
       "      <td>1138.8</td>\n",
       "      <td>1138.800000</td>\n",
       "    </tr>\n",
       "    <tr>\n",
       "      <th>2016-12-31</th>\n",
       "      <td>0.000000</td>\n",
       "      <td>1677.8</td>\n",
       "      <td>1677.800000</td>\n",
       "    </tr>\n",
       "    <tr>\n",
       "      <th>2017-12-31</th>\n",
       "      <td>0.000000</td>\n",
       "      <td>1408.4</td>\n",
       "      <td>1408.400000</td>\n",
       "    </tr>\n",
       "    <tr>\n",
       "      <th>2018-12-31</th>\n",
       "      <td>128.666667</td>\n",
       "      <td>818.4</td>\n",
       "      <td>947.066667</td>\n",
       "    </tr>\n",
       "    <tr>\n",
       "      <th>2019-12-31</th>\n",
       "      <td>72.316667</td>\n",
       "      <td>0.0</td>\n",
       "      <td>72.316667</td>\n",
       "    </tr>\n",
       "  </tbody>\n",
       "</table>\n",
       "</div>"
      ],
      "text/plain": [
       "            Precipitation (mm)  Precipitation (mm).1          PRP\n",
       "Unnamed: 1                                                       \n",
       "2012-12-31            0.000000                 302.4   302.400000\n",
       "2013-12-31            0.000000                 554.5   554.500000\n",
       "2014-12-31            0.000000                2965.0  2965.000000\n",
       "2015-12-31            0.000000                1138.8  1138.800000\n",
       "2016-12-31            0.000000                1677.8  1677.800000\n",
       "2017-12-31            0.000000                1408.4  1408.400000\n",
       "2018-12-31          128.666667                 818.4   947.066667\n",
       "2019-12-31           72.316667                   0.0    72.316667"
      ]
     },
     "execution_count": 133,
     "metadata": {},
     "output_type": "execute_result"
    }
   ],
   "source": [
    "dfPRP1"
   ]
  },
  {
   "cell_type": "markdown",
   "metadata": {},
   "source": [
    "# Flow"
   ]
  },
  {
   "cell_type": "code",
   "execution_count": 11,
   "metadata": {},
   "outputs": [
    {
     "data": {
      "text/html": [
       "<div>\n",
       "<style scoped>\n",
       "    .dataframe tbody tr th:only-of-type {\n",
       "        vertical-align: middle;\n",
       "    }\n",
       "\n",
       "    .dataframe tbody tr th {\n",
       "        vertical-align: top;\n",
       "    }\n",
       "\n",
       "    .dataframe thead th {\n",
       "        text-align: right;\n",
       "    }\n",
       "</style>\n",
       "<table border=\"1\" class=\"dataframe\">\n",
       "  <thead>\n",
       "    <tr style=\"text-align: right;\">\n",
       "      <th></th>\n",
       "      <th>Streamflow (l/s)</th>\n",
       "    </tr>\n",
       "    <tr>\n",
       "      <th>Date time (standard time)</th>\n",
       "      <th></th>\n",
       "    </tr>\n",
       "  </thead>\n",
       "  <tbody>\n",
       "    <tr>\n",
       "      <th>2016-11-01 00:00:00</th>\n",
       "      <td>0.11</td>\n",
       "    </tr>\n",
       "    <tr>\n",
       "      <th>2016-11-01 00:05:00</th>\n",
       "      <td>0.11</td>\n",
       "    </tr>\n",
       "    <tr>\n",
       "      <th>2016-11-01 00:10:00</th>\n",
       "      <td>0.11</td>\n",
       "    </tr>\n",
       "    <tr>\n",
       "      <th>2016-11-01 00:15:00</th>\n",
       "      <td>0.11</td>\n",
       "    </tr>\n",
       "    <tr>\n",
       "      <th>2016-11-01 00:20:00</th>\n",
       "      <td>0.11</td>\n",
       "    </tr>\n",
       "  </tbody>\n",
       "</table>\n",
       "</div>"
      ],
      "text/plain": [
       "                           Streamflow (l/s)\n",
       "Date time (standard time)                  \n",
       "2016-11-01 00:00:00                    0.11\n",
       "2016-11-01 00:05:00                    0.11\n",
       "2016-11-01 00:10:00                    0.11\n",
       "2016-11-01 00:15:00                    0.11\n",
       "2016-11-01 00:20:00                    0.11"
      ]
     },
     "execution_count": 11,
     "metadata": {},
     "output_type": "execute_result"
    }
   ],
   "source": [
    "# print(files[0])\n",
    "dfR= pd.read_csv('Ressi_streamflow_Nov2016-Dec2017.csv',parse_dates=['Date time (standard time)'],\n",
    "                 sep=',',skiprows=0,low_memory=False, na_values=-9999)#, date_parser=dateparseD)\n",
    "dfR.index = dfR['Date time (standard time)']\n",
    "dfR = dfR.iloc[:,1:]\n",
    "dfR.head()"
   ]
  },
  {
   "cell_type": "code",
   "execution_count": 12,
   "metadata": {},
   "outputs": [
    {
     "data": {
      "text/html": [
       "<div>\n",
       "<style scoped>\n",
       "    .dataframe tbody tr th:only-of-type {\n",
       "        vertical-align: middle;\n",
       "    }\n",
       "\n",
       "    .dataframe tbody tr th {\n",
       "        vertical-align: top;\n",
       "    }\n",
       "\n",
       "    .dataframe thead th {\n",
       "        text-align: right;\n",
       "    }\n",
       "</style>\n",
       "<table border=\"1\" class=\"dataframe\">\n",
       "  <thead>\n",
       "    <tr style=\"text-align: right;\">\n",
       "      <th></th>\n",
       "      <th>Streamflow (l/s)</th>\n",
       "    </tr>\n",
       "    <tr>\n",
       "      <th>Date time (standard time)</th>\n",
       "      <th></th>\n",
       "    </tr>\n",
       "  </thead>\n",
       "  <tbody>\n",
       "    <tr>\n",
       "      <th>2016-11-01 00:00:00</th>\n",
       "      <td>0.109167</td>\n",
       "    </tr>\n",
       "    <tr>\n",
       "      <th>2016-11-01 01:00:00</th>\n",
       "      <td>0.100000</td>\n",
       "    </tr>\n",
       "    <tr>\n",
       "      <th>2016-11-01 02:00:00</th>\n",
       "      <td>0.099167</td>\n",
       "    </tr>\n",
       "    <tr>\n",
       "      <th>2016-11-01 03:00:00</th>\n",
       "      <td>0.096667</td>\n",
       "    </tr>\n",
       "    <tr>\n",
       "      <th>2016-11-01 04:00:00</th>\n",
       "      <td>0.093333</td>\n",
       "    </tr>\n",
       "  </tbody>\n",
       "</table>\n",
       "</div>"
      ],
      "text/plain": [
       "                           Streamflow (l/s)\n",
       "Date time (standard time)                  \n",
       "2016-11-01 00:00:00                0.109167\n",
       "2016-11-01 01:00:00                0.100000\n",
       "2016-11-01 02:00:00                0.099167\n",
       "2016-11-01 03:00:00                0.096667\n",
       "2016-11-01 04:00:00                0.093333"
      ]
     },
     "execution_count": 12,
     "metadata": {},
     "output_type": "execute_result"
    }
   ],
   "source": [
    "dfR = dfR.resample('H').agg('mean')\n",
    "dfR.head()"
   ]
  },
  {
   "cell_type": "code",
   "execution_count": 14,
   "metadata": {},
   "outputs": [
    {
     "data": {
      "text/html": [
       "<div>\n",
       "<style scoped>\n",
       "    .dataframe tbody tr th:only-of-type {\n",
       "        vertical-align: middle;\n",
       "    }\n",
       "\n",
       "    .dataframe tbody tr th {\n",
       "        vertical-align: top;\n",
       "    }\n",
       "\n",
       "    .dataframe thead th {\n",
       "        text-align: right;\n",
       "    }\n",
       "</style>\n",
       "<table border=\"1\" class=\"dataframe\">\n",
       "  <thead>\n",
       "    <tr style=\"text-align: right;\">\n",
       "      <th></th>\n",
       "      <th>Streamflow (l/s)</th>\n",
       "      <th>Flow</th>\n",
       "    </tr>\n",
       "    <tr>\n",
       "      <th>Date time (standard time)</th>\n",
       "      <th></th>\n",
       "      <th></th>\n",
       "    </tr>\n",
       "  </thead>\n",
       "  <tbody>\n",
       "    <tr>\n",
       "      <th>2016-11-01 00:00:00</th>\n",
       "      <td>0.109167</td>\n",
       "      <td>0.000109</td>\n",
       "    </tr>\n",
       "    <tr>\n",
       "      <th>2016-11-01 01:00:00</th>\n",
       "      <td>0.100000</td>\n",
       "      <td>0.000100</td>\n",
       "    </tr>\n",
       "    <tr>\n",
       "      <th>2016-11-01 02:00:00</th>\n",
       "      <td>0.099167</td>\n",
       "      <td>0.000099</td>\n",
       "    </tr>\n",
       "    <tr>\n",
       "      <th>2016-11-01 03:00:00</th>\n",
       "      <td>0.096667</td>\n",
       "      <td>0.000097</td>\n",
       "    </tr>\n",
       "    <tr>\n",
       "      <th>2016-11-01 04:00:00</th>\n",
       "      <td>0.093333</td>\n",
       "      <td>0.000093</td>\n",
       "    </tr>\n",
       "  </tbody>\n",
       "</table>\n",
       "</div>"
      ],
      "text/plain": [
       "                           Streamflow (l/s)      Flow\n",
       "Date time (standard time)                            \n",
       "2016-11-01 00:00:00                0.109167  0.000109\n",
       "2016-11-01 01:00:00                0.100000  0.000100\n",
       "2016-11-01 02:00:00                0.099167  0.000099\n",
       "2016-11-01 03:00:00                0.096667  0.000097\n",
       "2016-11-01 04:00:00                0.093333  0.000093"
      ]
     },
     "execution_count": 14,
     "metadata": {},
     "output_type": "execute_result"
    }
   ],
   "source": [
    "dfR.head()"
   ]
  },
  {
   "cell_type": "code",
   "execution_count": 13,
   "metadata": {},
   "outputs": [],
   "source": [
    "dfR['Flow'] = dfR['Streamflow (l/s)']/1000"
   ]
  },
  {
   "cell_type": "code",
   "execution_count": 99,
   "metadata": {},
   "outputs": [
    {
     "data": {
      "text/plain": [
       "<matplotlib.axes._subplots.AxesSubplot at 0x7fd217dac198>"
      ]
     },
     "execution_count": 99,
     "metadata": {},
     "output_type": "execute_result"
    },
    {
     "data": {
      "image/png": "[encoded data removed]",
      "text/plain": [
       "<Figure size 432x288 with 1 Axes>"
      ]
     },
     "metadata": {},
     "output_type": "display_data"
    }
   ],
   "source": [
    "dfR.plot()"
   ]
  },
  {
   "cell_type": "code",
   "execution_count": 15,
   "metadata": {},
   "outputs": [],
   "source": [
    "dfR.to_csv('RioRessi_FLOW.csv',na_rep=-9999)"
   ]
  },
  {
   "cell_type": "markdown",
   "metadata": {},
   "source": [
    "# SWC"
   ]
  },
  {
   "cell_type": "code",
   "execution_count": 157,
   "metadata": {},
   "outputs": [
    {
     "data": {
      "text/html": [
       "<div>\n",
       "<style scoped>\n",
       "    .dataframe tbody tr th:only-of-type {\n",
       "        vertical-align: middle;\n",
       "    }\n",
       "\n",
       "    .dataframe tbody tr th {\n",
       "        vertical-align: top;\n",
       "    }\n",
       "\n",
       "    .dataframe thead th {\n",
       "        text-align: right;\n",
       "    }\n",
       "</style>\n",
       "<table border=\"1\" class=\"dataframe\">\n",
       "  <thead>\n",
       "    <tr style=\"text-align: right;\">\n",
       "      <th></th>\n",
       "      <th>1</th>\n",
       "    </tr>\n",
       "    <tr>\n",
       "      <th>Unnamed: 1</th>\n",
       "      <th></th>\n",
       "    </tr>\n",
       "  </thead>\n",
       "  <tbody>\n",
       "    <tr>\n",
       "      <th>2012-08-01 00:00:00</th>\n",
       "      <td>NaN</td>\n",
       "    </tr>\n",
       "    <tr>\n",
       "      <th>2012-08-01 01:00:00</th>\n",
       "      <td>NaN</td>\n",
       "    </tr>\n",
       "    <tr>\n",
       "      <th>2012-08-01 02:00:00</th>\n",
       "      <td>NaN</td>\n",
       "    </tr>\n",
       "    <tr>\n",
       "      <th>2012-08-01 03:00:00</th>\n",
       "      <td>NaN</td>\n",
       "    </tr>\n",
       "    <tr>\n",
       "      <th>2012-08-01 04:00:00</th>\n",
       "      <td>NaN</td>\n",
       "    </tr>\n",
       "  </tbody>\n",
       "</table>\n",
       "</div>"
      ],
      "text/plain": [
       "                      1\n",
       "Unnamed: 1             \n",
       "2012-08-01 00:00:00 NaN\n",
       "2012-08-01 01:00:00 NaN\n",
       "2012-08-01 02:00:00 NaN\n",
       "2012-08-01 03:00:00 NaN\n",
       "2012-08-01 04:00:00 NaN"
      ]
     },
     "execution_count": 157,
     "metadata": {},
     "output_type": "execute_result"
    }
   ],
   "source": [
    "# print(files[5])\n",
    "dfSWC= pd.read_csv('RioRessi_SWC.csv', parse_dates=['Unnamed: 1'],\n",
    "                 sep=',',skiprows=2,low_memory=False, na_values=-9999)#, date_parser=dateparseD)\n",
    "dfSWC.index = dfSWC['Unnamed: 1']\n",
    "dfSWC = dfSWC.iloc[:,2:]\n",
    "dfSWC.head()"
   ]
  },
  {
   "cell_type": "code",
   "execution_count": 158,
   "metadata": {},
   "outputs": [
    {
     "data": {
      "text/html": [
       "<div>\n",
       "<style scoped>\n",
       "    .dataframe tbody tr th:only-of-type {\n",
       "        vertical-align: middle;\n",
       "    }\n",
       "\n",
       "    .dataframe tbody tr th {\n",
       "        vertical-align: top;\n",
       "    }\n",
       "\n",
       "    .dataframe thead th {\n",
       "        text-align: right;\n",
       "    }\n",
       "</style>\n",
       "<table border=\"1\" class=\"dataframe\">\n",
       "  <thead>\n",
       "    <tr style=\"text-align: right;\">\n",
       "      <th></th>\n",
       "      <th>1</th>\n",
       "    </tr>\n",
       "  </thead>\n",
       "  <tbody>\n",
       "    <tr>\n",
       "      <th>count</th>\n",
       "      <td>37113.000000</td>\n",
       "    </tr>\n",
       "    <tr>\n",
       "      <th>mean</th>\n",
       "      <td>0.229012</td>\n",
       "    </tr>\n",
       "    <tr>\n",
       "      <th>std</th>\n",
       "      <td>0.026971</td>\n",
       "    </tr>\n",
       "    <tr>\n",
       "      <th>min</th>\n",
       "      <td>0.144700</td>\n",
       "    </tr>\n",
       "    <tr>\n",
       "      <th>25%</th>\n",
       "      <td>0.213450</td>\n",
       "    </tr>\n",
       "    <tr>\n",
       "      <th>50%</th>\n",
       "      <td>0.230000</td>\n",
       "    </tr>\n",
       "    <tr>\n",
       "      <th>75%</th>\n",
       "      <td>0.245925</td>\n",
       "    </tr>\n",
       "    <tr>\n",
       "      <th>max</th>\n",
       "      <td>0.337400</td>\n",
       "    </tr>\n",
       "  </tbody>\n",
       "</table>\n",
       "</div>"
      ],
      "text/plain": [
       "                  1\n",
       "count  37113.000000\n",
       "mean       0.229012\n",
       "std        0.026971\n",
       "min        0.144700\n",
       "25%        0.213450\n",
       "50%        0.230000\n",
       "75%        0.245925\n",
       "max        0.337400"
      ]
     },
     "execution_count": 158,
     "metadata": {},
     "output_type": "execute_result"
    }
   ],
   "source": [
    "dfSWC.describe()"
   ]
  },
  {
   "cell_type": "code",
   "execution_count": 159,
   "metadata": {},
   "outputs": [
    {
     "data": {
      "text/plain": [
       "<matplotlib.axes._subplots.AxesSubplot at 0x7fd210fbc3c8>"
      ]
     },
     "execution_count": 159,
     "metadata": {},
     "output_type": "execute_result"
    },
    {
     "data": {
      "image/png": "[encoded data removed]",
      "text/plain": [
       "<Figure size 432x288 with 1 Axes>"
      ]
     },
     "metadata": {},
     "output_type": "display_data"
    }
   ],
   "source": [
    "dfSWC.plot()"
   ]
  },
  {
   "cell_type": "code",
   "execution_count": 174,
   "metadata": {},
   "outputs": [],
   "source": [
    "a = [0.144700, 0.213450, 0.230000,0.245925,0.337400]\n",
    "c = [0.229012-2*0.026971,0.229012-0.026971,0.229012,0.229012+0.026971,0.229012+2*0.026971,]\n",
    "b = [1,2,3,4,5]"
   ]
  },
  {
   "cell_type": "code",
   "execution_count": 177,
   "metadata": {},
   "outputs": [
    {
     "data": {
      "text/plain": [
       "[<matplotlib.lines.Line2D at 0x7fd210974780>]"
      ]
     },
     "execution_count": 177,
     "metadata": {},
     "output_type": "execute_result"
    },
    {
     "data": {
      "image/png": "[encoded data removed]",
      "text/plain": [
       "<Figure size 432x288 with 1 Axes>"
      ]
     },
     "metadata": {},
     "output_type": "display_data"
    }
   ],
   "source": [
    "plt.plot(b,a,'o')\n",
    "plt.plot(b,c,'o')"
   ]
  },
  {
   "cell_type": "code",
   "execution_count": 161,
   "metadata": {},
   "outputs": [
    {
     "ename": "AttributeError",
     "evalue": "'list' object has no attribute 'plot'",
     "output_type": "error",
     "traceback": [
      "\u001b[0;31m---------------------------------------------------------------------------\u001b[0m",
      "\u001b[0;31mAttributeError\u001b[0m                            Traceback (most recent call last)",
      "\u001b[0;32m<ipython-input-161-61464571263d>\u001b[0m in \u001b[0;36m<module>\u001b[0;34m()\u001b[0m\n\u001b[0;32m----> 1\u001b[0;31m \u001b[0ma\u001b[0m\u001b[0;34m.\u001b[0m\u001b[0mplot\u001b[0m\u001b[0;34m(\u001b[0m\u001b[0;34m)\u001b[0m\u001b[0;34m\u001b[0m\u001b[0;34m\u001b[0m\u001b[0m\n\u001b[0m",
      "\u001b[0;31mAttributeError\u001b[0m: 'list' object has no attribute 'plot'"
     ]
    }
   ],
   "source": [
    "a.plot()"
   ]
  },
  {
   "cell_type": "code",
   "execution_count": 178,
   "metadata": {},
   "outputs": [
    {
     "data": {
      "text/plain": [
       "0.17507"
      ]
     },
     "execution_count": 178,
     "metadata": {},
     "output_type": "execute_result"
    }
   ],
   "source": [
    "0.229012-2*0.026971"
   ]
  },
  {
   "cell_type": "code",
   "execution_count": 179,
   "metadata": {},
   "outputs": [
    {
     "data": {
      "text/plain": [
       "0.282954"
      ]
     },
     "execution_count": 179,
     "metadata": {},
     "output_type": "execute_result"
    }
   ],
   "source": [
    "0.229012+2*0.026971"
   ]
  },
  {
   "cell_type": "code",
   "execution_count": 180,
   "metadata": {},
   "outputs": [
    {
     "data": {
      "text/html": [
       "<div>\n",
       "<style scoped>\n",
       "    .dataframe tbody tr th:only-of-type {\n",
       "        vertical-align: middle;\n",
       "    }\n",
       "\n",
       "    .dataframe tbody tr th {\n",
       "        vertical-align: top;\n",
       "    }\n",
       "\n",
       "    .dataframe thead th {\n",
       "        text-align: right;\n",
       "    }\n",
       "</style>\n",
       "<table border=\"1\" class=\"dataframe\">\n",
       "  <thead>\n",
       "    <tr style=\"text-align: right;\">\n",
       "      <th></th>\n",
       "      <th>Atmo. pressure (kPa)</th>\n",
       "      <th>PA</th>\n",
       "    </tr>\n",
       "  </thead>\n",
       "  <tbody>\n",
       "    <tr>\n",
       "      <th>count</th>\n",
       "      <td>8137.000000</td>\n",
       "      <td>8137.000000</td>\n",
       "    </tr>\n",
       "    <tr>\n",
       "      <th>mean</th>\n",
       "      <td>94.277916</td>\n",
       "      <td>94277.916122</td>\n",
       "    </tr>\n",
       "    <tr>\n",
       "      <th>std</th>\n",
       "      <td>0.661850</td>\n",
       "      <td>661.850204</td>\n",
       "    </tr>\n",
       "    <tr>\n",
       "      <th>min</th>\n",
       "      <td>91.842500</td>\n",
       "      <td>91842.500000</td>\n",
       "    </tr>\n",
       "    <tr>\n",
       "      <th>25%</th>\n",
       "      <td>93.950000</td>\n",
       "      <td>93950.000000</td>\n",
       "    </tr>\n",
       "    <tr>\n",
       "      <th>50%</th>\n",
       "      <td>94.326667</td>\n",
       "      <td>94326.666667</td>\n",
       "    </tr>\n",
       "    <tr>\n",
       "      <th>75%</th>\n",
       "      <td>94.676667</td>\n",
       "      <td>94676.666667</td>\n",
       "    </tr>\n",
       "    <tr>\n",
       "      <th>max</th>\n",
       "      <td>96.318333</td>\n",
       "      <td>96318.333333</td>\n",
       "    </tr>\n",
       "  </tbody>\n",
       "</table>\n",
       "</div>"
      ],
      "text/plain": [
       "       Atmo. pressure (kPa)            PA\n",
       "count           8137.000000   8137.000000\n",
       "mean              94.277916  94277.916122\n",
       "std                0.661850    661.850204\n",
       "min               91.842500  91842.500000\n",
       "25%               93.950000  93950.000000\n",
       "50%               94.326667  94326.666667\n",
       "75%               94.676667  94676.666667\n",
       "max               96.318333  96318.333333"
      ]
     },
     "execution_count": 180,
     "metadata": {},
     "output_type": "execute_result"
    }
   ],
   "source": [
    "dfPA.describe()"
   ]
  },
  {
   "cell_type": "code",
   "execution_count": 181,
   "metadata": {},
   "outputs": [
    {
     "data": {
      "text/html": [
       "<div>\n",
       "<style scoped>\n",
       "    .dataframe tbody tr th:only-of-type {\n",
       "        vertical-align: middle;\n",
       "    }\n",
       "\n",
       "    .dataframe tbody tr th {\n",
       "        vertical-align: top;\n",
       "    }\n",
       "\n",
       "    .dataframe thead th {\n",
       "        text-align: right;\n",
       "    }\n",
       "</style>\n",
       "<table border=\"1\" class=\"dataframe\">\n",
       "  <thead>\n",
       "    <tr style=\"text-align: right;\">\n",
       "      <th></th>\n",
       "      <th>Air temperature (°C)</th>\n",
       "      <th>Air temperature at Contrà Doppio (°C)</th>\n",
       "      <th>T</th>\n",
       "    </tr>\n",
       "  </thead>\n",
       "  <tbody>\n",
       "    <tr>\n",
       "      <th>count</th>\n",
       "      <td>8137.000000</td>\n",
       "      <td>20437.000000</td>\n",
       "      <td>25420.000000</td>\n",
       "    </tr>\n",
       "    <tr>\n",
       "      <th>mean</th>\n",
       "      <td>11.378069</td>\n",
       "      <td>11.159310</td>\n",
       "      <td>10.376968</td>\n",
       "    </tr>\n",
       "    <tr>\n",
       "      <th>std</th>\n",
       "      <td>7.662433</td>\n",
       "      <td>7.632726</td>\n",
       "      <td>7.527651</td>\n",
       "    </tr>\n",
       "    <tr>\n",
       "      <th>min</th>\n",
       "      <td>-4.583333</td>\n",
       "      <td>-11.900000</td>\n",
       "      <td>-11.900000</td>\n",
       "    </tr>\n",
       "    <tr>\n",
       "      <th>25%</th>\n",
       "      <td>5.308333</td>\n",
       "      <td>4.900000</td>\n",
       "      <td>4.300000</td>\n",
       "    </tr>\n",
       "    <tr>\n",
       "      <th>50%</th>\n",
       "      <td>11.175000</td>\n",
       "      <td>11.600000</td>\n",
       "      <td>10.200000</td>\n",
       "    </tr>\n",
       "    <tr>\n",
       "      <th>75%</th>\n",
       "      <td>17.058333</td>\n",
       "      <td>16.950000</td>\n",
       "      <td>16.133333</td>\n",
       "    </tr>\n",
       "    <tr>\n",
       "      <th>max</th>\n",
       "      <td>30.450000</td>\n",
       "      <td>30.600000</td>\n",
       "      <td>30.600000</td>\n",
       "    </tr>\n",
       "  </tbody>\n",
       "</table>\n",
       "</div>"
      ],
      "text/plain": [
       "       Air temperature (°C)  Air temperature at Contrà Doppio (°C)  \\\n",
       "count           8137.000000                           20437.000000   \n",
       "mean              11.378069                              11.159310   \n",
       "std                7.662433                               7.632726   \n",
       "min               -4.583333                             -11.900000   \n",
       "25%                5.308333                               4.900000   \n",
       "50%               11.175000                              11.600000   \n",
       "75%               17.058333                              16.950000   \n",
       "max               30.450000                              30.600000   \n",
       "\n",
       "                  T  \n",
       "count  25420.000000  \n",
       "mean      10.376968  \n",
       "std        7.527651  \n",
       "min      -11.900000  \n",
       "25%        4.300000  \n",
       "50%       10.200000  \n",
       "75%       16.133333  \n",
       "max       30.600000  "
      ]
     },
     "execution_count": 181,
     "metadata": {},
     "output_type": "execute_result"
    }
   ],
   "source": [
    "dfT.describe()"
   ]
  },
  {
   "cell_type": "markdown",
   "metadata": {},
   "source": [
    "# ET"
   ]
  },
  {
   "cell_type": "code",
   "execution_count": 182,
   "metadata": {},
   "outputs": [
    {
     "data": {
      "text/plain": [
       "'/home/drugo/Sim/RRRDP/data/RioRessi/1'"
      ]
     },
     "execution_count": 182,
     "metadata": {},
     "output_type": "execute_result"
    }
   ],
   "source": [
    "os.getcwd()"
   ]
  },
  {
   "cell_type": "code",
   "execution_count": 183,
   "metadata": {},
   "outputs": [],
   "source": [
    "os.chdir('/home/drugo/Sim/RRRDP/')"
   ]
  },
  {
   "cell_type": "code",
   "execution_count": 198,
   "metadata": {},
   "outputs": [
    {
     "data": {
      "text/html": [
       "<div>\n",
       "<style scoped>\n",
       "    .dataframe tbody tr th:only-of-type {\n",
       "        vertical-align: middle;\n",
       "    }\n",
       "\n",
       "    .dataframe tbody tr th {\n",
       "        vertical-align: top;\n",
       "    }\n",
       "\n",
       "    .dataframe thead th {\n",
       "        text-align: right;\n",
       "    }\n",
       "</style>\n",
       "<table border=\"1\" class=\"dataframe\">\n",
       "  <thead>\n",
       "    <tr style=\"text-align: right;\">\n",
       "      <th></th>\n",
       "      <th>ET_PT</th>\n",
       "    </tr>\n",
       "    <tr>\n",
       "      <th>Date</th>\n",
       "      <th></th>\n",
       "    </tr>\n",
       "  </thead>\n",
       "  <tbody>\n",
       "    <tr>\n",
       "      <th>2012-08-01 00:00:00</th>\n",
       "      <td>NaN</td>\n",
       "    </tr>\n",
       "    <tr>\n",
       "      <th>2012-08-01 01:00:00</th>\n",
       "      <td>NaN</td>\n",
       "    </tr>\n",
       "    <tr>\n",
       "      <th>2012-08-01 02:00:00</th>\n",
       "      <td>NaN</td>\n",
       "    </tr>\n",
       "    <tr>\n",
       "      <th>2012-08-01 03:00:00</th>\n",
       "      <td>NaN</td>\n",
       "    </tr>\n",
       "    <tr>\n",
       "      <th>2012-08-01 04:00:00</th>\n",
       "      <td>NaN</td>\n",
       "    </tr>\n",
       "  </tbody>\n",
       "</table>\n",
       "</div>"
      ],
      "text/plain": [
       "                     ET_PT\n",
       "Date                      \n",
       "2012-08-01 00:00:00    NaN\n",
       "2012-08-01 01:00:00    NaN\n",
       "2012-08-01 02:00:00    NaN\n",
       "2012-08-01 03:00:00    NaN\n",
       "2012-08-01 04:00:00    NaN"
      ]
     },
     "execution_count": 198,
     "metadata": {},
     "output_type": "execute_result"
    }
   ],
   "source": [
    "dfET_PT= pd.read_csv('data/RioRessi/1/RioRessi_ET_PT.csv', parse_dates=['yyyy-MM-dd HH:mm'],\n",
    "                 sep=',',skiprows=6,low_memory=False, na_values=-9999)#, date_parser=dateparseD)\n",
    "dfET_PT.columns = ['','Date','ET_PT']\n",
    "dfET_PT.index = dfET_PT['Date']\n",
    "dfET_PT = dfET_PT.iloc[:,2:]\n",
    "dfET_PT.head()"
   ]
  },
  {
   "cell_type": "code",
   "execution_count": 199,
   "metadata": {},
   "outputs": [
    {
     "data": {
      "text/html": [
       "<div>\n",
       "<style scoped>\n",
       "    .dataframe tbody tr th:only-of-type {\n",
       "        vertical-align: middle;\n",
       "    }\n",
       "\n",
       "    .dataframe tbody tr th {\n",
       "        vertical-align: top;\n",
       "    }\n",
       "\n",
       "    .dataframe thead th {\n",
       "        text-align: right;\n",
       "    }\n",
       "</style>\n",
       "<table border=\"1\" class=\"dataframe\">\n",
       "  <thead>\n",
       "    <tr style=\"text-align: right;\">\n",
       "      <th></th>\n",
       "      <th>ET_FAO</th>\n",
       "    </tr>\n",
       "    <tr>\n",
       "      <th>Date</th>\n",
       "      <th></th>\n",
       "    </tr>\n",
       "  </thead>\n",
       "  <tbody>\n",
       "    <tr>\n",
       "      <th>2012-08-01 00:00:00</th>\n",
       "      <td>0.011039</td>\n",
       "    </tr>\n",
       "    <tr>\n",
       "      <th>2012-08-01 01:00:00</th>\n",
       "      <td>0.009415</td>\n",
       "    </tr>\n",
       "    <tr>\n",
       "      <th>2012-08-01 02:00:00</th>\n",
       "      <td>0.011049</td>\n",
       "    </tr>\n",
       "    <tr>\n",
       "      <th>2012-08-01 03:00:00</th>\n",
       "      <td>0.013671</td>\n",
       "    </tr>\n",
       "    <tr>\n",
       "      <th>2012-08-01 04:00:00</th>\n",
       "      <td>0.010506</td>\n",
       "    </tr>\n",
       "  </tbody>\n",
       "</table>\n",
       "</div>"
      ],
      "text/plain": [
       "                       ET_FAO\n",
       "Date                         \n",
       "2012-08-01 00:00:00  0.011039\n",
       "2012-08-01 01:00:00  0.009415\n",
       "2012-08-01 02:00:00  0.011049\n",
       "2012-08-01 03:00:00  0.013671\n",
       "2012-08-01 04:00:00  0.010506"
      ]
     },
     "execution_count": 199,
     "metadata": {},
     "output_type": "execute_result"
    }
   ],
   "source": [
    "dfET_FAO= pd.read_csv('data/RioRessi/1/RioRessi_ET_FAO.csv', parse_dates=['yyyy-MM-dd HH:mm'],\n",
    "                 sep=',',skiprows=6,low_memory=False, na_values=-9999)#, date_parser=dateparseD)\n",
    "dfET_FAO.columns = ['','Date','ET_FAO']\n",
    "dfET_FAO.index = dfET_FAO['Date']\n",
    "dfET_FAO = dfET_FAO.iloc[:,2:]\n",
    "dfET_FAO.head()"
   ]
  },
  {
   "cell_type": "code",
   "execution_count": 226,
   "metadata": {},
   "outputs": [
    {
     "data": {
      "text/html": [
       "<div>\n",
       "<style scoped>\n",
       "    .dataframe tbody tr th:only-of-type {\n",
       "        vertical-align: middle;\n",
       "    }\n",
       "\n",
       "    .dataframe tbody tr th {\n",
       "        vertical-align: top;\n",
       "    }\n",
       "\n",
       "    .dataframe thead th {\n",
       "        text-align: right;\n",
       "    }\n",
       "</style>\n",
       "<table border=\"1\" class=\"dataframe\">\n",
       "  <thead>\n",
       "    <tr style=\"text-align: right;\">\n",
       "      <th></th>\n",
       "      <th>ET SO</th>\n",
       "    </tr>\n",
       "    <tr>\n",
       "      <th>Date</th>\n",
       "      <th></th>\n",
       "    </tr>\n",
       "  </thead>\n",
       "  <tbody>\n",
       "    <tr>\n",
       "      <th>2012-08-01 00:00:00</th>\n",
       "      <td>0.028096</td>\n",
       "    </tr>\n",
       "    <tr>\n",
       "      <th>2012-08-01 01:00:00</th>\n",
       "      <td>0.026331</td>\n",
       "    </tr>\n",
       "    <tr>\n",
       "      <th>2012-08-01 02:00:00</th>\n",
       "      <td>0.028866</td>\n",
       "    </tr>\n",
       "    <tr>\n",
       "      <th>2012-08-01 03:00:00</th>\n",
       "      <td>0.033943</td>\n",
       "    </tr>\n",
       "    <tr>\n",
       "      <th>2012-08-01 04:00:00</th>\n",
       "      <td>0.029570</td>\n",
       "    </tr>\n",
       "  </tbody>\n",
       "</table>\n",
       "</div>"
      ],
      "text/plain": [
       "                        ET SO\n",
       "Date                         \n",
       "2012-08-01 00:00:00  0.028096\n",
       "2012-08-01 01:00:00  0.026331\n",
       "2012-08-01 02:00:00  0.028866\n",
       "2012-08-01 03:00:00  0.033943\n",
       "2012-08-01 04:00:00  0.029570"
      ]
     },
     "execution_count": 226,
     "metadata": {},
     "output_type": "execute_result"
    }
   ],
   "source": [
    "dfET_SO= pd.read_csv('output/RioRessiOut/RioRessi_Transpiration.csv', parse_dates=['yyyy-MM-dd HH:mm'],\n",
    "                 sep=',',skiprows=6,low_memory=False, na_values=-9999)#, date_parser=dateparseD)\n",
    "dfET_SO.columns = ['','Date','ET SO']\n",
    "dfET_SO.index = dfET_SO['Date']\n",
    "dfET_SO = dfET_SO.iloc[:,2:]\n",
    "dfET_SO.head()"
   ]
  },
  {
   "cell_type": "code",
   "execution_count": 227,
   "metadata": {},
   "outputs": [],
   "source": [
    "# dfET_SO_SH= pd.read_csv('output/RioRessiOut/RioRessi_ET_SO_Shadow.csv', parse_dates=['yyyy-MM-dd HH:mm'],\n",
    "#                  sep=',',skiprows=6,low_memory=False, na_values=-9999)#, date_parser=dateparseD)\n",
    "# dfET_SO_SH.columns = ['','Date','ET SO SH']\n",
    "# dfET_SO_SH.index = dfET_SO_SH['Date']\n",
    "# dfET_SO_SH = dfET_SO_SH.iloc[:,2:]\n",
    "# dfET_SO_SH.head()"
   ]
  },
  {
   "cell_type": "code",
   "execution_count": 228,
   "metadata": {},
   "outputs": [],
   "source": [
    "dfET = pd.concat([dfET_PT,dfET_FAO,dfET_SO],axis=1)\n",
    "# dfET = pd.concat([dfET_PT,dfET_FAO,dfET_SO_SUN,dfET_SO_SH],axis=1)\n",
    "# dfET['SO'] = dfET['ET SO SUN'] + dfET['ET SO SH']"
   ]
  },
  {
   "cell_type": "code",
   "execution_count": 229,
   "metadata": {},
   "outputs": [
    {
     "data": {
      "text/html": [
       "<div>\n",
       "<style scoped>\n",
       "    .dataframe tbody tr th:only-of-type {\n",
       "        vertical-align: middle;\n",
       "    }\n",
       "\n",
       "    .dataframe tbody tr th {\n",
       "        vertical-align: top;\n",
       "    }\n",
       "\n",
       "    .dataframe thead th {\n",
       "        text-align: right;\n",
       "    }\n",
       "</style>\n",
       "<table border=\"1\" class=\"dataframe\">\n",
       "  <thead>\n",
       "    <tr style=\"text-align: right;\">\n",
       "      <th></th>\n",
       "      <th>ET_PT</th>\n",
       "      <th>ET_FAO</th>\n",
       "      <th>ET SO</th>\n",
       "    </tr>\n",
       "    <tr>\n",
       "      <th>Date</th>\n",
       "      <th></th>\n",
       "      <th></th>\n",
       "      <th></th>\n",
       "    </tr>\n",
       "  </thead>\n",
       "  <tbody>\n",
       "    <tr>\n",
       "      <th>2012-08-01 00:00:00</th>\n",
       "      <td>NaN</td>\n",
       "      <td>0.011039</td>\n",
       "      <td>0.028096</td>\n",
       "    </tr>\n",
       "    <tr>\n",
       "      <th>2012-08-01 01:00:00</th>\n",
       "      <td>NaN</td>\n",
       "      <td>0.009415</td>\n",
       "      <td>0.026331</td>\n",
       "    </tr>\n",
       "    <tr>\n",
       "      <th>2012-08-01 02:00:00</th>\n",
       "      <td>NaN</td>\n",
       "      <td>0.011049</td>\n",
       "      <td>0.028866</td>\n",
       "    </tr>\n",
       "    <tr>\n",
       "      <th>2012-08-01 03:00:00</th>\n",
       "      <td>NaN</td>\n",
       "      <td>0.013671</td>\n",
       "      <td>0.033943</td>\n",
       "    </tr>\n",
       "    <tr>\n",
       "      <th>2012-08-01 04:00:00</th>\n",
       "      <td>NaN</td>\n",
       "      <td>0.010506</td>\n",
       "      <td>0.029570</td>\n",
       "    </tr>\n",
       "    <tr>\n",
       "      <th>2012-08-01 05:00:00</th>\n",
       "      <td>NaN</td>\n",
       "      <td>0.015346</td>\n",
       "      <td>0.039383</td>\n",
       "    </tr>\n",
       "    <tr>\n",
       "      <th>2012-08-01 06:00:00</th>\n",
       "      <td>NaN</td>\n",
       "      <td>0.017551</td>\n",
       "      <td>0.094136</td>\n",
       "    </tr>\n",
       "    <tr>\n",
       "      <th>2012-08-01 07:00:00</th>\n",
       "      <td>NaN</td>\n",
       "      <td>0.004931</td>\n",
       "      <td>0.093249</td>\n",
       "    </tr>\n",
       "    <tr>\n",
       "      <th>2012-08-01 08:00:00</th>\n",
       "      <td>NaN</td>\n",
       "      <td>0.001951</td>\n",
       "      <td>0.065810</td>\n",
       "    </tr>\n",
       "    <tr>\n",
       "      <th>2012-08-01 09:00:00</th>\n",
       "      <td>NaN</td>\n",
       "      <td>0.009689</td>\n",
       "      <td>0.230567</td>\n",
       "    </tr>\n",
       "    <tr>\n",
       "      <th>2012-08-01 10:00:00</th>\n",
       "      <td>NaN</td>\n",
       "      <td>0.015886</td>\n",
       "      <td>0.326494</td>\n",
       "    </tr>\n",
       "    <tr>\n",
       "      <th>2012-08-01 11:00:00</th>\n",
       "      <td>NaN</td>\n",
       "      <td>0.029108</td>\n",
       "      <td>0.456085</td>\n",
       "    </tr>\n",
       "    <tr>\n",
       "      <th>2012-08-01 12:00:00</th>\n",
       "      <td>NaN</td>\n",
       "      <td>0.050568</td>\n",
       "      <td>0.562842</td>\n",
       "    </tr>\n",
       "    <tr>\n",
       "      <th>2012-08-01 13:00:00</th>\n",
       "      <td>NaN</td>\n",
       "      <td>0.066811</td>\n",
       "      <td>0.582431</td>\n",
       "    </tr>\n",
       "    <tr>\n",
       "      <th>2012-08-01 14:00:00</th>\n",
       "      <td>NaN</td>\n",
       "      <td>0.054009</td>\n",
       "      <td>0.479574</td>\n",
       "    </tr>\n",
       "    <tr>\n",
       "      <th>2012-08-01 15:00:00</th>\n",
       "      <td>NaN</td>\n",
       "      <td>0.056339</td>\n",
       "      <td>0.456459</td>\n",
       "    </tr>\n",
       "    <tr>\n",
       "      <th>2012-08-01 16:00:00</th>\n",
       "      <td>NaN</td>\n",
       "      <td>0.040771</td>\n",
       "      <td>0.313359</td>\n",
       "    </tr>\n",
       "    <tr>\n",
       "      <th>2012-08-01 17:00:00</th>\n",
       "      <td>NaN</td>\n",
       "      <td>0.023728</td>\n",
       "      <td>0.163231</td>\n",
       "    </tr>\n",
       "    <tr>\n",
       "      <th>2012-08-01 18:00:00</th>\n",
       "      <td>NaN</td>\n",
       "      <td>0.026151</td>\n",
       "      <td>0.070501</td>\n",
       "    </tr>\n",
       "    <tr>\n",
       "      <th>2012-08-01 19:00:00</th>\n",
       "      <td>NaN</td>\n",
       "      <td>0.018454</td>\n",
       "      <td>0.050925</td>\n",
       "    </tr>\n",
       "    <tr>\n",
       "      <th>2012-08-01 20:00:00</th>\n",
       "      <td>NaN</td>\n",
       "      <td>0.017659</td>\n",
       "      <td>0.044618</td>\n",
       "    </tr>\n",
       "    <tr>\n",
       "      <th>2012-08-01 21:00:00</th>\n",
       "      <td>NaN</td>\n",
       "      <td>0.017093</td>\n",
       "      <td>0.043382</td>\n",
       "    </tr>\n",
       "    <tr>\n",
       "      <th>2012-08-01 22:00:00</th>\n",
       "      <td>NaN</td>\n",
       "      <td>0.015798</td>\n",
       "      <td>0.040863</td>\n",
       "    </tr>\n",
       "    <tr>\n",
       "      <th>2012-08-01 23:00:00</th>\n",
       "      <td>NaN</td>\n",
       "      <td>0.015383</td>\n",
       "      <td>0.040187</td>\n",
       "    </tr>\n",
       "    <tr>\n",
       "      <th>2012-08-02 00:00:00</th>\n",
       "      <td>NaN</td>\n",
       "      <td>0.014755</td>\n",
       "      <td>0.038946</td>\n",
       "    </tr>\n",
       "    <tr>\n",
       "      <th>2012-08-02 01:00:00</th>\n",
       "      <td>NaN</td>\n",
       "      <td>0.018229</td>\n",
       "      <td>0.045070</td>\n",
       "    </tr>\n",
       "    <tr>\n",
       "      <th>2012-08-02 02:00:00</th>\n",
       "      <td>NaN</td>\n",
       "      <td>0.011785</td>\n",
       "      <td>0.033614</td>\n",
       "    </tr>\n",
       "    <tr>\n",
       "      <th>2012-08-02 03:00:00</th>\n",
       "      <td>NaN</td>\n",
       "      <td>0.012240</td>\n",
       "      <td>0.034016</td>\n",
       "    </tr>\n",
       "    <tr>\n",
       "      <th>2012-08-02 04:00:00</th>\n",
       "      <td>NaN</td>\n",
       "      <td>0.013630</td>\n",
       "      <td>0.036565</td>\n",
       "    </tr>\n",
       "    <tr>\n",
       "      <th>2012-08-02 05:00:00</th>\n",
       "      <td>NaN</td>\n",
       "      <td>0.015478</td>\n",
       "      <td>0.042897</td>\n",
       "    </tr>\n",
       "    <tr>\n",
       "      <th>...</th>\n",
       "      <td>...</td>\n",
       "      <td>...</td>\n",
       "      <td>...</td>\n",
       "    </tr>\n",
       "    <tr>\n",
       "      <th>2019-05-09 18:00:00</th>\n",
       "      <td>0.0</td>\n",
       "      <td>0.008934</td>\n",
       "      <td>0.068104</td>\n",
       "    </tr>\n",
       "    <tr>\n",
       "      <th>2019-05-09 19:00:00</th>\n",
       "      <td>0.0</td>\n",
       "      <td>0.005265</td>\n",
       "      <td>0.026596</td>\n",
       "    </tr>\n",
       "    <tr>\n",
       "      <th>2019-05-09 20:00:00</th>\n",
       "      <td>0.0</td>\n",
       "      <td>0.004376</td>\n",
       "      <td>0.021355</td>\n",
       "    </tr>\n",
       "    <tr>\n",
       "      <th>2019-05-09 21:00:00</th>\n",
       "      <td>0.0</td>\n",
       "      <td>0.004607</td>\n",
       "      <td>0.022475</td>\n",
       "    </tr>\n",
       "    <tr>\n",
       "      <th>2019-05-09 22:00:00</th>\n",
       "      <td>0.0</td>\n",
       "      <td>0.003855</td>\n",
       "      <td>0.018645</td>\n",
       "    </tr>\n",
       "    <tr>\n",
       "      <th>2019-05-09 23:00:00</th>\n",
       "      <td>0.0</td>\n",
       "      <td>0.002973</td>\n",
       "      <td>0.014301</td>\n",
       "    </tr>\n",
       "    <tr>\n",
       "      <th>2019-05-10 00:00:00</th>\n",
       "      <td>0.0</td>\n",
       "      <td>0.002589</td>\n",
       "      <td>0.012393</td>\n",
       "    </tr>\n",
       "    <tr>\n",
       "      <th>2019-05-10 01:00:00</th>\n",
       "      <td>0.0</td>\n",
       "      <td>0.001592</td>\n",
       "      <td>0.007543</td>\n",
       "    </tr>\n",
       "    <tr>\n",
       "      <th>2019-05-10 02:00:00</th>\n",
       "      <td>0.0</td>\n",
       "      <td>0.001502</td>\n",
       "      <td>0.007110</td>\n",
       "    </tr>\n",
       "    <tr>\n",
       "      <th>2019-05-10 03:00:00</th>\n",
       "      <td>0.0</td>\n",
       "      <td>0.001508</td>\n",
       "      <td>0.007112</td>\n",
       "    </tr>\n",
       "    <tr>\n",
       "      <th>2019-05-10 04:00:00</th>\n",
       "      <td>0.0</td>\n",
       "      <td>0.001413</td>\n",
       "      <td>0.006616</td>\n",
       "    </tr>\n",
       "    <tr>\n",
       "      <th>2019-05-10 05:00:00</th>\n",
       "      <td>0.0</td>\n",
       "      <td>0.001283</td>\n",
       "      <td>0.024341</td>\n",
       "    </tr>\n",
       "    <tr>\n",
       "      <th>2019-05-10 06:00:00</th>\n",
       "      <td>0.0</td>\n",
       "      <td>0.001834</td>\n",
       "      <td>0.062893</td>\n",
       "    </tr>\n",
       "    <tr>\n",
       "      <th>2019-05-10 07:00:00</th>\n",
       "      <td>0.0</td>\n",
       "      <td>0.004388</td>\n",
       "      <td>0.110837</td>\n",
       "    </tr>\n",
       "    <tr>\n",
       "      <th>2019-05-10 08:00:00</th>\n",
       "      <td>0.0</td>\n",
       "      <td>0.006140</td>\n",
       "      <td>0.142769</td>\n",
       "    </tr>\n",
       "    <tr>\n",
       "      <th>2019-05-10 09:00:00</th>\n",
       "      <td>NaN</td>\n",
       "      <td>0.012547</td>\n",
       "      <td>0.059638</td>\n",
       "    </tr>\n",
       "    <tr>\n",
       "      <th>2019-05-10 10:00:00</th>\n",
       "      <td>NaN</td>\n",
       "      <td>0.012547</td>\n",
       "      <td>0.059638</td>\n",
       "    </tr>\n",
       "    <tr>\n",
       "      <th>2019-05-10 11:00:00</th>\n",
       "      <td>NaN</td>\n",
       "      <td>0.012547</td>\n",
       "      <td>0.059638</td>\n",
       "    </tr>\n",
       "    <tr>\n",
       "      <th>2019-05-10 12:00:00</th>\n",
       "      <td>NaN</td>\n",
       "      <td>0.012547</td>\n",
       "      <td>0.059638</td>\n",
       "    </tr>\n",
       "    <tr>\n",
       "      <th>2019-05-10 13:00:00</th>\n",
       "      <td>NaN</td>\n",
       "      <td>0.012547</td>\n",
       "      <td>0.059638</td>\n",
       "    </tr>\n",
       "    <tr>\n",
       "      <th>2019-05-10 14:00:00</th>\n",
       "      <td>NaN</td>\n",
       "      <td>0.012547</td>\n",
       "      <td>0.059638</td>\n",
       "    </tr>\n",
       "    <tr>\n",
       "      <th>2019-05-10 15:00:00</th>\n",
       "      <td>NaN</td>\n",
       "      <td>0.012547</td>\n",
       "      <td>0.059638</td>\n",
       "    </tr>\n",
       "    <tr>\n",
       "      <th>2019-05-10 16:00:00</th>\n",
       "      <td>NaN</td>\n",
       "      <td>0.012547</td>\n",
       "      <td>0.059638</td>\n",
       "    </tr>\n",
       "    <tr>\n",
       "      <th>2019-05-10 17:00:00</th>\n",
       "      <td>NaN</td>\n",
       "      <td>0.012547</td>\n",
       "      <td>0.059638</td>\n",
       "    </tr>\n",
       "    <tr>\n",
       "      <th>2019-05-10 18:00:00</th>\n",
       "      <td>NaN</td>\n",
       "      <td>0.011843</td>\n",
       "      <td>0.059638</td>\n",
       "    </tr>\n",
       "    <tr>\n",
       "      <th>2019-05-10 19:00:00</th>\n",
       "      <td>NaN</td>\n",
       "      <td>0.011402</td>\n",
       "      <td>0.059638</td>\n",
       "    </tr>\n",
       "    <tr>\n",
       "      <th>2019-05-10 20:00:00</th>\n",
       "      <td>NaN</td>\n",
       "      <td>0.011402</td>\n",
       "      <td>0.059638</td>\n",
       "    </tr>\n",
       "    <tr>\n",
       "      <th>2019-05-10 21:00:00</th>\n",
       "      <td>NaN</td>\n",
       "      <td>0.011402</td>\n",
       "      <td>0.059638</td>\n",
       "    </tr>\n",
       "    <tr>\n",
       "      <th>2019-05-10 22:00:00</th>\n",
       "      <td>NaN</td>\n",
       "      <td>0.011402</td>\n",
       "      <td>0.059638</td>\n",
       "    </tr>\n",
       "    <tr>\n",
       "      <th>2019-05-10 23:00:00</th>\n",
       "      <td>NaN</td>\n",
       "      <td>0.011402</td>\n",
       "      <td>0.059638</td>\n",
       "    </tr>\n",
       "  </tbody>\n",
       "</table>\n",
       "<p>59376 rows × 3 columns</p>\n",
       "</div>"
      ],
      "text/plain": [
       "                     ET_PT    ET_FAO     ET SO\n",
       "Date                                          \n",
       "2012-08-01 00:00:00    NaN  0.011039  0.028096\n",
       "2012-08-01 01:00:00    NaN  0.009415  0.026331\n",
       "2012-08-01 02:00:00    NaN  0.011049  0.028866\n",
       "2012-08-01 03:00:00    NaN  0.013671  0.033943\n",
       "2012-08-01 04:00:00    NaN  0.010506  0.029570\n",
       "2012-08-01 05:00:00    NaN  0.015346  0.039383\n",
       "2012-08-01 06:00:00    NaN  0.017551  0.094136\n",
       "2012-08-01 07:00:00    NaN  0.004931  0.093249\n",
       "2012-08-01 08:00:00    NaN  0.001951  0.065810\n",
       "2012-08-01 09:00:00    NaN  0.009689  0.230567\n",
       "2012-08-01 10:00:00    NaN  0.015886  0.326494\n",
       "2012-08-01 11:00:00    NaN  0.029108  0.456085\n",
       "2012-08-01 12:00:00    NaN  0.050568  0.562842\n",
       "2012-08-01 13:00:00    NaN  0.066811  0.582431\n",
       "2012-08-01 14:00:00    NaN  0.054009  0.479574\n",
       "2012-08-01 15:00:00    NaN  0.056339  0.456459\n",
       "2012-08-01 16:00:00    NaN  0.040771  0.313359\n",
       "2012-08-01 17:00:00    NaN  0.023728  0.163231\n",
       "2012-08-01 18:00:00    NaN  0.026151  0.070501\n",
       "2012-08-01 19:00:00    NaN  0.018454  0.050925\n",
       "2012-08-01 20:00:00    NaN  0.017659  0.044618\n",
       "2012-08-01 21:00:00    NaN  0.017093  0.043382\n",
       "2012-08-01 22:00:00    NaN  0.015798  0.040863\n",
       "2012-08-01 23:00:00    NaN  0.015383  0.040187\n",
       "2012-08-02 00:00:00    NaN  0.014755  0.038946\n",
       "2012-08-02 01:00:00    NaN  0.018229  0.045070\n",
       "2012-08-02 02:00:00    NaN  0.011785  0.033614\n",
       "2012-08-02 03:00:00    NaN  0.012240  0.034016\n",
       "2012-08-02 04:00:00    NaN  0.013630  0.036565\n",
       "2012-08-02 05:00:00    NaN  0.015478  0.042897\n",
       "...                    ...       ...       ...\n",
       "2019-05-09 18:00:00    0.0  0.008934  0.068104\n",
       "2019-05-09 19:00:00    0.0  0.005265  0.026596\n",
       "2019-05-09 20:00:00    0.0  0.004376  0.021355\n",
       "2019-05-09 21:00:00    0.0  0.004607  0.022475\n",
       "2019-05-09 22:00:00    0.0  0.003855  0.018645\n",
       "2019-05-09 23:00:00    0.0  0.002973  0.014301\n",
       "2019-05-10 00:00:00    0.0  0.002589  0.012393\n",
       "2019-05-10 01:00:00    0.0  0.001592  0.007543\n",
       "2019-05-10 02:00:00    0.0  0.001502  0.007110\n",
       "2019-05-10 03:00:00    0.0  0.001508  0.007112\n",
       "2019-05-10 04:00:00    0.0  0.001413  0.006616\n",
       "2019-05-10 05:00:00    0.0  0.001283  0.024341\n",
       "2019-05-10 06:00:00    0.0  0.001834  0.062893\n",
       "2019-05-10 07:00:00    0.0  0.004388  0.110837\n",
       "2019-05-10 08:00:00    0.0  0.006140  0.142769\n",
       "2019-05-10 09:00:00    NaN  0.012547  0.059638\n",
       "2019-05-10 10:00:00    NaN  0.012547  0.059638\n",
       "2019-05-10 11:00:00    NaN  0.012547  0.059638\n",
       "2019-05-10 12:00:00    NaN  0.012547  0.059638\n",
       "2019-05-10 13:00:00    NaN  0.012547  0.059638\n",
       "2019-05-10 14:00:00    NaN  0.012547  0.059638\n",
       "2019-05-10 15:00:00    NaN  0.012547  0.059638\n",
       "2019-05-10 16:00:00    NaN  0.012547  0.059638\n",
       "2019-05-10 17:00:00    NaN  0.012547  0.059638\n",
       "2019-05-10 18:00:00    NaN  0.011843  0.059638\n",
       "2019-05-10 19:00:00    NaN  0.011402  0.059638\n",
       "2019-05-10 20:00:00    NaN  0.011402  0.059638\n",
       "2019-05-10 21:00:00    NaN  0.011402  0.059638\n",
       "2019-05-10 22:00:00    NaN  0.011402  0.059638\n",
       "2019-05-10 23:00:00    NaN  0.011402  0.059638\n",
       "\n",
       "[59376 rows x 3 columns]"
      ]
     },
     "execution_count": 229,
     "metadata": {},
     "output_type": "execute_result"
    }
   ],
   "source": [
    "dfET"
   ]
  },
  {
   "cell_type": "code",
   "execution_count": 225,
   "metadata": {
    "scrolled": true
   },
   "outputs": [
    {
     "data": {
      "text/plain": [
       "<matplotlib.axes._subplots.AxesSubplot at 0x7fd20ec86a90>"
      ]
     },
     "execution_count": 225,
     "metadata": {},
     "output_type": "execute_result"
    },
    {
     "data": {
      "image/png": "[encoded data removed]",
      "text/plain": [
       "<Figure size 432x288 with 1 Axes>"
      ]
     },
     "metadata": {},
     "output_type": "display_data"
    },
    {
     "data": {
      "image/png": "[encoded data removed]",
      "text/plain": [
       "<Figure size 432x288 with 1 Axes>"
      ]
     },
     "metadata": {},
     "output_type": "display_data"
    },
    {
     "data": {
      "image/png": "[encoded data removed]",
      "text/plain": [
       "<Figure size 432x288 with 1 Axes>"
      ]
     },
     "metadata": {},
     "output_type": "display_data"
    }
   ],
   "source": [
    "dfET[['ET_PT']].plot()\n",
    "dfET[['ET_FAO']].plot()\n",
    "dfET[['ET SO']].plot()"
   ]
  },
  {
   "cell_type": "markdown",
   "metadata": {},
   "source": [
    "# Latent heat"
   ]
  },
  {
   "cell_type": "code",
   "execution_count": null,
   "metadata": {},
   "outputs": [],
   "source": []
  },
  {
   "cell_type": "markdown",
   "metadata": {},
   "source": [
    "# ET"
   ]
  },
  {
   "cell_type": "code",
   "execution_count": 231,
   "metadata": {},
   "outputs": [
    {
     "data": {
      "text/plain": [
       "'/home/drugo/Sim/RRRDP'"
      ]
     },
     "execution_count": 231,
     "metadata": {},
     "output_type": "execute_result"
    }
   ],
   "source": [
    "os.getcwd()"
   ]
  },
  {
   "cell_type": "code",
   "execution_count": 232,
   "metadata": {},
   "outputs": [],
   "source": [
    "os.chdir('/home/drugo/Sim/RRRDP/')"
   ]
  },
  {
   "cell_type": "code",
   "execution_count": 234,
   "metadata": {},
   "outputs": [
    {
     "data": {
      "text/html": [
       "<div>\n",
       "<style scoped>\n",
       "    .dataframe tbody tr th:only-of-type {\n",
       "        vertical-align: middle;\n",
       "    }\n",
       "\n",
       "    .dataframe tbody tr th {\n",
       "        vertical-align: top;\n",
       "    }\n",
       "\n",
       "    .dataframe thead th {\n",
       "        text-align: right;\n",
       "    }\n",
       "</style>\n",
       "<table border=\"1\" class=\"dataframe\">\n",
       "  <thead>\n",
       "    <tr style=\"text-align: right;\">\n",
       "      <th></th>\n",
       "      <th>EL PT</th>\n",
       "    </tr>\n",
       "    <tr>\n",
       "      <th>Date</th>\n",
       "      <th></th>\n",
       "    </tr>\n",
       "  </thead>\n",
       "  <tbody>\n",
       "    <tr>\n",
       "      <th>2012-08-01 00:00:00</th>\n",
       "      <td>NaN</td>\n",
       "    </tr>\n",
       "    <tr>\n",
       "      <th>2012-08-01 01:00:00</th>\n",
       "      <td>NaN</td>\n",
       "    </tr>\n",
       "    <tr>\n",
       "      <th>2012-08-01 02:00:00</th>\n",
       "      <td>NaN</td>\n",
       "    </tr>\n",
       "    <tr>\n",
       "      <th>2012-08-01 03:00:00</th>\n",
       "      <td>NaN</td>\n",
       "    </tr>\n",
       "    <tr>\n",
       "      <th>2012-08-01 04:00:00</th>\n",
       "      <td>NaN</td>\n",
       "    </tr>\n",
       "  </tbody>\n",
       "</table>\n",
       "</div>"
      ],
      "text/plain": [
       "                     EL PT\n",
       "Date                      \n",
       "2012-08-01 00:00:00    NaN\n",
       "2012-08-01 01:00:00    NaN\n",
       "2012-08-01 02:00:00    NaN\n",
       "2012-08-01 03:00:00    NaN\n",
       "2012-08-01 04:00:00    NaN"
      ]
     },
     "execution_count": 234,
     "metadata": {},
     "output_type": "execute_result"
    }
   ],
   "source": [
    "dfEL_PT= pd.read_csv('data/RioRessi/1/RioRessi_latentHeat_PT.csv', parse_dates=['yyyy-MM-dd HH:mm'],\n",
    "                 sep=',',skiprows=6,low_memory=False, na_values=-9999)#, date_parser=dateparseD)\n",
    "dfEL_PT.columns = ['','Date','EL PT']\n",
    "dfEL_PT.index = dfEL_PT['Date']\n",
    "dfEL_PT = dfEL_PT.iloc[:,2:]\n",
    "dfEL_PT.head()"
   ]
  },
  {
   "cell_type": "code",
   "execution_count": 235,
   "metadata": {},
   "outputs": [
    {
     "data": {
      "text/html": [
       "<div>\n",
       "<style scoped>\n",
       "    .dataframe tbody tr th:only-of-type {\n",
       "        vertical-align: middle;\n",
       "    }\n",
       "\n",
       "    .dataframe tbody tr th {\n",
       "        vertical-align: top;\n",
       "    }\n",
       "\n",
       "    .dataframe thead th {\n",
       "        text-align: right;\n",
       "    }\n",
       "</style>\n",
       "<table border=\"1\" class=\"dataframe\">\n",
       "  <thead>\n",
       "    <tr style=\"text-align: right;\">\n",
       "      <th></th>\n",
       "      <th>EL FAO</th>\n",
       "    </tr>\n",
       "    <tr>\n",
       "      <th>Date</th>\n",
       "      <th></th>\n",
       "    </tr>\n",
       "  </thead>\n",
       "  <tbody>\n",
       "    <tr>\n",
       "      <th>2012-08-01 00:00:00</th>\n",
       "      <td>NaN</td>\n",
       "    </tr>\n",
       "    <tr>\n",
       "      <th>2012-08-01 01:00:00</th>\n",
       "      <td>NaN</td>\n",
       "    </tr>\n",
       "    <tr>\n",
       "      <th>2012-08-01 02:00:00</th>\n",
       "      <td>NaN</td>\n",
       "    </tr>\n",
       "    <tr>\n",
       "      <th>2012-08-01 03:00:00</th>\n",
       "      <td>NaN</td>\n",
       "    </tr>\n",
       "    <tr>\n",
       "      <th>2012-08-01 04:00:00</th>\n",
       "      <td>NaN</td>\n",
       "    </tr>\n",
       "  </tbody>\n",
       "</table>\n",
       "</div>"
      ],
      "text/plain": [
       "                     EL FAO\n",
       "Date                       \n",
       "2012-08-01 00:00:00     NaN\n",
       "2012-08-01 01:00:00     NaN\n",
       "2012-08-01 02:00:00     NaN\n",
       "2012-08-01 03:00:00     NaN\n",
       "2012-08-01 04:00:00     NaN"
      ]
     },
     "execution_count": 235,
     "metadata": {},
     "output_type": "execute_result"
    }
   ],
   "source": [
    "dfEL_FAO= pd.read_csv('data/RioRessi/1/RioRessi_latentHeat_PT.csv', parse_dates=['yyyy-MM-dd HH:mm'],\n",
    "                 sep=',',skiprows=6,low_memory=False, na_values=-9999)#, date_parser=dateparseD)\n",
    "dfEL_FAO.columns = ['','Date','EL FAO']\n",
    "dfEL_FAO.index = dfEL_FAO['Date']\n",
    "dfEL_FAO = dfEL_FAO.iloc[:,2:]\n",
    "dfEL_FAO.head()"
   ]
  },
  {
   "cell_type": "code",
   "execution_count": 236,
   "metadata": {},
   "outputs": [
    {
     "data": {
      "text/html": [
       "<div>\n",
       "<style scoped>\n",
       "    .dataframe tbody tr th:only-of-type {\n",
       "        vertical-align: middle;\n",
       "    }\n",
       "\n",
       "    .dataframe tbody tr th {\n",
       "        vertical-align: top;\n",
       "    }\n",
       "\n",
       "    .dataframe thead th {\n",
       "        text-align: right;\n",
       "    }\n",
       "</style>\n",
       "<table border=\"1\" class=\"dataframe\">\n",
       "  <thead>\n",
       "    <tr style=\"text-align: right;\">\n",
       "      <th></th>\n",
       "      <th>EL SO</th>\n",
       "    </tr>\n",
       "    <tr>\n",
       "      <th>Date</th>\n",
       "      <th></th>\n",
       "    </tr>\n",
       "  </thead>\n",
       "  <tbody>\n",
       "    <tr>\n",
       "      <th>2012-08-01 00:00:00</th>\n",
       "      <td>NaN</td>\n",
       "    </tr>\n",
       "    <tr>\n",
       "      <th>2012-08-01 01:00:00</th>\n",
       "      <td>NaN</td>\n",
       "    </tr>\n",
       "    <tr>\n",
       "      <th>2012-08-01 02:00:00</th>\n",
       "      <td>NaN</td>\n",
       "    </tr>\n",
       "    <tr>\n",
       "      <th>2012-08-01 03:00:00</th>\n",
       "      <td>NaN</td>\n",
       "    </tr>\n",
       "    <tr>\n",
       "      <th>2012-08-01 04:00:00</th>\n",
       "      <td>NaN</td>\n",
       "    </tr>\n",
       "  </tbody>\n",
       "</table>\n",
       "</div>"
      ],
      "text/plain": [
       "                     EL SO\n",
       "Date                      \n",
       "2012-08-01 00:00:00    NaN\n",
       "2012-08-01 01:00:00    NaN\n",
       "2012-08-01 02:00:00    NaN\n",
       "2012-08-01 03:00:00    NaN\n",
       "2012-08-01 04:00:00    NaN"
      ]
     },
     "execution_count": 236,
     "metadata": {},
     "output_type": "execute_result"
    }
   ],
   "source": [
    "dfEL_SO= pd.read_csv('output/RioRessiOut/RioRessi_ET_SO.csv', parse_dates=['yyyy-MM-dd HH:mm'],\n",
    "                 sep=',',skiprows=6,low_memory=False, na_values=-9999)#, date_parser=dateparseD)\n",
    "dfEL_SO.columns = ['','Date','EL SO']\n",
    "dfEL_SO.index = dfEL_SO['Date']\n",
    "dfEL_SO = dfEL_SO.iloc[:,2:]\n",
    "dfEL_SO.head()"
   ]
  },
  {
   "cell_type": "code",
   "execution_count": 237,
   "metadata": {},
   "outputs": [],
   "source": [
    "# dfET_SO_SH= pd.read_csv('output/RioRessiOut/RioRessi_ET_SO_Shadow.csv', parse_dates=['yyyy-MM-dd HH:mm'],\n",
    "#                  sep=',',skiprows=6,low_memory=False, na_values=-9999)#, date_parser=dateparseD)\n",
    "# dfET_SO_SH.columns = ['','Date','ET SO SH']\n",
    "# dfET_SO_SH.index = dfET_SO_SH['Date']\n",
    "# dfET_SO_SH = dfET_SO_SH.iloc[:,2:]\n",
    "# dfET_SO_SH.head()"
   ]
  },
  {
   "cell_type": "code",
   "execution_count": 239,
   "metadata": {},
   "outputs": [],
   "source": [
    "dfEL = pd.concat([dfEL_PT,dfEL_FAO,dfEL_SO],axis=1)\n",
    "# dfET = pd.concat([dfET_PT,dfET_FAO,dfET_SO_SUN,dfET_SO_SH],axis=1)\n",
    "# dfET['SO'] = dfET['ET SO SUN'] + dfET['ET SO SH']"
   ]
  },
  {
   "cell_type": "code",
   "execution_count": 240,
   "metadata": {},
   "outputs": [
    {
     "data": {
      "text/html": [
       "<div>\n",
       "<style scoped>\n",
       "    .dataframe tbody tr th:only-of-type {\n",
       "        vertical-align: middle;\n",
       "    }\n",
       "\n",
       "    .dataframe tbody tr th {\n",
       "        vertical-align: top;\n",
       "    }\n",
       "\n",
       "    .dataframe thead th {\n",
       "        text-align: right;\n",
       "    }\n",
       "</style>\n",
       "<table border=\"1\" class=\"dataframe\">\n",
       "  <thead>\n",
       "    <tr style=\"text-align: right;\">\n",
       "      <th></th>\n",
       "      <th>EL PT</th>\n",
       "      <th>EL FAO</th>\n",
       "      <th>EL SO</th>\n",
       "    </tr>\n",
       "    <tr>\n",
       "      <th>Date</th>\n",
       "      <th></th>\n",
       "      <th></th>\n",
       "      <th></th>\n",
       "    </tr>\n",
       "  </thead>\n",
       "  <tbody>\n",
       "    <tr>\n",
       "      <th>2012-08-01 00:00:00</th>\n",
       "      <td>NaN</td>\n",
       "      <td>NaN</td>\n",
       "      <td>NaN</td>\n",
       "    </tr>\n",
       "    <tr>\n",
       "      <th>2012-08-01 01:00:00</th>\n",
       "      <td>NaN</td>\n",
       "      <td>NaN</td>\n",
       "      <td>NaN</td>\n",
       "    </tr>\n",
       "    <tr>\n",
       "      <th>2012-08-01 02:00:00</th>\n",
       "      <td>NaN</td>\n",
       "      <td>NaN</td>\n",
       "      <td>NaN</td>\n",
       "    </tr>\n",
       "    <tr>\n",
       "      <th>2012-08-01 03:00:00</th>\n",
       "      <td>NaN</td>\n",
       "      <td>NaN</td>\n",
       "      <td>NaN</td>\n",
       "    </tr>\n",
       "    <tr>\n",
       "      <th>2012-08-01 04:00:00</th>\n",
       "      <td>NaN</td>\n",
       "      <td>NaN</td>\n",
       "      <td>NaN</td>\n",
       "    </tr>\n",
       "    <tr>\n",
       "      <th>2012-08-01 05:00:00</th>\n",
       "      <td>NaN</td>\n",
       "      <td>NaN</td>\n",
       "      <td>NaN</td>\n",
       "    </tr>\n",
       "    <tr>\n",
       "      <th>2012-08-01 06:00:00</th>\n",
       "      <td>NaN</td>\n",
       "      <td>NaN</td>\n",
       "      <td>36.213434</td>\n",
       "    </tr>\n",
       "    <tr>\n",
       "      <th>2012-08-01 07:00:00</th>\n",
       "      <td>NaN</td>\n",
       "      <td>NaN</td>\n",
       "      <td>48.554107</td>\n",
       "    </tr>\n",
       "    <tr>\n",
       "      <th>2012-08-01 08:00:00</th>\n",
       "      <td>NaN</td>\n",
       "      <td>NaN</td>\n",
       "      <td>36.127093</td>\n",
       "    </tr>\n",
       "    <tr>\n",
       "      <th>2012-08-01 09:00:00</th>\n",
       "      <td>NaN</td>\n",
       "      <td>NaN</td>\n",
       "      <td>128.162461</td>\n",
       "    </tr>\n",
       "    <tr>\n",
       "      <th>2012-08-01 10:00:00</th>\n",
       "      <td>NaN</td>\n",
       "      <td>NaN</td>\n",
       "      <td>181.882048</td>\n",
       "    </tr>\n",
       "    <tr>\n",
       "      <th>2012-08-01 11:00:00</th>\n",
       "      <td>NaN</td>\n",
       "      <td>NaN</td>\n",
       "      <td>254.413540</td>\n",
       "    </tr>\n",
       "    <tr>\n",
       "      <th>2012-08-01 12:00:00</th>\n",
       "      <td>NaN</td>\n",
       "      <td>NaN</td>\n",
       "      <td>321.936175</td>\n",
       "    </tr>\n",
       "    <tr>\n",
       "      <th>2012-08-01 13:00:00</th>\n",
       "      <td>NaN</td>\n",
       "      <td>NaN</td>\n",
       "      <td>341.839483</td>\n",
       "    </tr>\n",
       "    <tr>\n",
       "      <th>2012-08-01 14:00:00</th>\n",
       "      <td>NaN</td>\n",
       "      <td>NaN</td>\n",
       "      <td>282.672780</td>\n",
       "    </tr>\n",
       "    <tr>\n",
       "      <th>2012-08-01 15:00:00</th>\n",
       "      <td>NaN</td>\n",
       "      <td>NaN</td>\n",
       "      <td>269.921336</td>\n",
       "    </tr>\n",
       "    <tr>\n",
       "      <th>2012-08-01 16:00:00</th>\n",
       "      <td>NaN</td>\n",
       "      <td>NaN</td>\n",
       "      <td>183.057121</td>\n",
       "    </tr>\n",
       "    <tr>\n",
       "      <th>2012-08-01 17:00:00</th>\n",
       "      <td>NaN</td>\n",
       "      <td>NaN</td>\n",
       "      <td>90.580695</td>\n",
       "    </tr>\n",
       "    <tr>\n",
       "      <th>2012-08-01 18:00:00</th>\n",
       "      <td>NaN</td>\n",
       "      <td>NaN</td>\n",
       "      <td>28.952974</td>\n",
       "    </tr>\n",
       "    <tr>\n",
       "      <th>2012-08-01 19:00:00</th>\n",
       "      <td>NaN</td>\n",
       "      <td>NaN</td>\n",
       "      <td>9.540404</td>\n",
       "    </tr>\n",
       "    <tr>\n",
       "      <th>2012-08-01 20:00:00</th>\n",
       "      <td>NaN</td>\n",
       "      <td>NaN</td>\n",
       "      <td>NaN</td>\n",
       "    </tr>\n",
       "    <tr>\n",
       "      <th>2012-08-01 21:00:00</th>\n",
       "      <td>NaN</td>\n",
       "      <td>NaN</td>\n",
       "      <td>NaN</td>\n",
       "    </tr>\n",
       "    <tr>\n",
       "      <th>2012-08-01 22:00:00</th>\n",
       "      <td>NaN</td>\n",
       "      <td>NaN</td>\n",
       "      <td>NaN</td>\n",
       "    </tr>\n",
       "    <tr>\n",
       "      <th>2012-08-01 23:00:00</th>\n",
       "      <td>NaN</td>\n",
       "      <td>NaN</td>\n",
       "      <td>NaN</td>\n",
       "    </tr>\n",
       "    <tr>\n",
       "      <th>2012-08-02 00:00:00</th>\n",
       "      <td>NaN</td>\n",
       "      <td>NaN</td>\n",
       "      <td>NaN</td>\n",
       "    </tr>\n",
       "    <tr>\n",
       "      <th>2012-08-02 01:00:00</th>\n",
       "      <td>NaN</td>\n",
       "      <td>NaN</td>\n",
       "      <td>NaN</td>\n",
       "    </tr>\n",
       "    <tr>\n",
       "      <th>2012-08-02 02:00:00</th>\n",
       "      <td>NaN</td>\n",
       "      <td>NaN</td>\n",
       "      <td>NaN</td>\n",
       "    </tr>\n",
       "    <tr>\n",
       "      <th>2012-08-02 03:00:00</th>\n",
       "      <td>NaN</td>\n",
       "      <td>NaN</td>\n",
       "      <td>NaN</td>\n",
       "    </tr>\n",
       "    <tr>\n",
       "      <th>2012-08-02 04:00:00</th>\n",
       "      <td>NaN</td>\n",
       "      <td>NaN</td>\n",
       "      <td>NaN</td>\n",
       "    </tr>\n",
       "    <tr>\n",
       "      <th>2012-08-02 05:00:00</th>\n",
       "      <td>NaN</td>\n",
       "      <td>NaN</td>\n",
       "      <td>NaN</td>\n",
       "    </tr>\n",
       "    <tr>\n",
       "      <th>...</th>\n",
       "      <td>...</td>\n",
       "      <td>...</td>\n",
       "      <td>...</td>\n",
       "    </tr>\n",
       "    <tr>\n",
       "      <th>2019-05-09 18:00:00</th>\n",
       "      <td>0.0</td>\n",
       "      <td>0.0</td>\n",
       "      <td>22.570635</td>\n",
       "    </tr>\n",
       "    <tr>\n",
       "      <th>2019-05-09 19:00:00</th>\n",
       "      <td>0.0</td>\n",
       "      <td>0.0</td>\n",
       "      <td>2.862754</td>\n",
       "    </tr>\n",
       "    <tr>\n",
       "      <th>2019-05-09 20:00:00</th>\n",
       "      <td>0.0</td>\n",
       "      <td>0.0</td>\n",
       "      <td>NaN</td>\n",
       "    </tr>\n",
       "    <tr>\n",
       "      <th>2019-05-09 21:00:00</th>\n",
       "      <td>0.0</td>\n",
       "      <td>0.0</td>\n",
       "      <td>NaN</td>\n",
       "    </tr>\n",
       "    <tr>\n",
       "      <th>2019-05-09 22:00:00</th>\n",
       "      <td>0.0</td>\n",
       "      <td>0.0</td>\n",
       "      <td>NaN</td>\n",
       "    </tr>\n",
       "    <tr>\n",
       "      <th>2019-05-09 23:00:00</th>\n",
       "      <td>0.0</td>\n",
       "      <td>0.0</td>\n",
       "      <td>NaN</td>\n",
       "    </tr>\n",
       "    <tr>\n",
       "      <th>2019-05-10 00:00:00</th>\n",
       "      <td>0.0</td>\n",
       "      <td>0.0</td>\n",
       "      <td>NaN</td>\n",
       "    </tr>\n",
       "    <tr>\n",
       "      <th>2019-05-10 01:00:00</th>\n",
       "      <td>0.0</td>\n",
       "      <td>0.0</td>\n",
       "      <td>NaN</td>\n",
       "    </tr>\n",
       "    <tr>\n",
       "      <th>2019-05-10 02:00:00</th>\n",
       "      <td>0.0</td>\n",
       "      <td>0.0</td>\n",
       "      <td>NaN</td>\n",
       "    </tr>\n",
       "    <tr>\n",
       "      <th>2019-05-10 03:00:00</th>\n",
       "      <td>0.0</td>\n",
       "      <td>0.0</td>\n",
       "      <td>NaN</td>\n",
       "    </tr>\n",
       "    <tr>\n",
       "      <th>2019-05-10 04:00:00</th>\n",
       "      <td>0.0</td>\n",
       "      <td>0.0</td>\n",
       "      <td>NaN</td>\n",
       "    </tr>\n",
       "    <tr>\n",
       "      <th>2019-05-10 05:00:00</th>\n",
       "      <td>0.0</td>\n",
       "      <td>0.0</td>\n",
       "      <td>3.988479</td>\n",
       "    </tr>\n",
       "    <tr>\n",
       "      <th>2019-05-10 06:00:00</th>\n",
       "      <td>0.0</td>\n",
       "      <td>0.0</td>\n",
       "      <td>23.451208</td>\n",
       "    </tr>\n",
       "    <tr>\n",
       "      <th>2019-05-10 07:00:00</th>\n",
       "      <td>0.0</td>\n",
       "      <td>0.0</td>\n",
       "      <td>50.771355</td>\n",
       "    </tr>\n",
       "    <tr>\n",
       "      <th>2019-05-10 08:00:00</th>\n",
       "      <td>0.0</td>\n",
       "      <td>0.0</td>\n",
       "      <td>72.787403</td>\n",
       "    </tr>\n",
       "    <tr>\n",
       "      <th>2019-05-10 09:00:00</th>\n",
       "      <td>NaN</td>\n",
       "      <td>NaN</td>\n",
       "      <td>0.000000</td>\n",
       "    </tr>\n",
       "    <tr>\n",
       "      <th>2019-05-10 10:00:00</th>\n",
       "      <td>NaN</td>\n",
       "      <td>NaN</td>\n",
       "      <td>0.000000</td>\n",
       "    </tr>\n",
       "    <tr>\n",
       "      <th>2019-05-10 11:00:00</th>\n",
       "      <td>NaN</td>\n",
       "      <td>NaN</td>\n",
       "      <td>0.000000</td>\n",
       "    </tr>\n",
       "    <tr>\n",
       "      <th>2019-05-10 12:00:00</th>\n",
       "      <td>NaN</td>\n",
       "      <td>NaN</td>\n",
       "      <td>0.000000</td>\n",
       "    </tr>\n",
       "    <tr>\n",
       "      <th>2019-05-10 13:00:00</th>\n",
       "      <td>NaN</td>\n",
       "      <td>NaN</td>\n",
       "      <td>0.000000</td>\n",
       "    </tr>\n",
       "    <tr>\n",
       "      <th>2019-05-10 14:00:00</th>\n",
       "      <td>NaN</td>\n",
       "      <td>NaN</td>\n",
       "      <td>0.000000</td>\n",
       "    </tr>\n",
       "    <tr>\n",
       "      <th>2019-05-10 15:00:00</th>\n",
       "      <td>NaN</td>\n",
       "      <td>NaN</td>\n",
       "      <td>0.000000</td>\n",
       "    </tr>\n",
       "    <tr>\n",
       "      <th>2019-05-10 16:00:00</th>\n",
       "      <td>NaN</td>\n",
       "      <td>NaN</td>\n",
       "      <td>0.000000</td>\n",
       "    </tr>\n",
       "    <tr>\n",
       "      <th>2019-05-10 17:00:00</th>\n",
       "      <td>NaN</td>\n",
       "      <td>NaN</td>\n",
       "      <td>0.000000</td>\n",
       "    </tr>\n",
       "    <tr>\n",
       "      <th>2019-05-10 18:00:00</th>\n",
       "      <td>NaN</td>\n",
       "      <td>NaN</td>\n",
       "      <td>0.000000</td>\n",
       "    </tr>\n",
       "    <tr>\n",
       "      <th>2019-05-10 19:00:00</th>\n",
       "      <td>NaN</td>\n",
       "      <td>NaN</td>\n",
       "      <td>0.000000</td>\n",
       "    </tr>\n",
       "    <tr>\n",
       "      <th>2019-05-10 20:00:00</th>\n",
       "      <td>NaN</td>\n",
       "      <td>NaN</td>\n",
       "      <td>NaN</td>\n",
       "    </tr>\n",
       "    <tr>\n",
       "      <th>2019-05-10 21:00:00</th>\n",
       "      <td>NaN</td>\n",
       "      <td>NaN</td>\n",
       "      <td>NaN</td>\n",
       "    </tr>\n",
       "    <tr>\n",
       "      <th>2019-05-10 22:00:00</th>\n",
       "      <td>NaN</td>\n",
       "      <td>NaN</td>\n",
       "      <td>NaN</td>\n",
       "    </tr>\n",
       "    <tr>\n",
       "      <th>2019-05-10 23:00:00</th>\n",
       "      <td>NaN</td>\n",
       "      <td>NaN</td>\n",
       "      <td>NaN</td>\n",
       "    </tr>\n",
       "  </tbody>\n",
       "</table>\n",
       "<p>59376 rows × 3 columns</p>\n",
       "</div>"
      ],
      "text/plain": [
       "                     EL PT  EL FAO       EL SO\n",
       "Date                                          \n",
       "2012-08-01 00:00:00    NaN     NaN         NaN\n",
       "2012-08-01 01:00:00    NaN     NaN         NaN\n",
       "2012-08-01 02:00:00    NaN     NaN         NaN\n",
       "2012-08-01 03:00:00    NaN     NaN         NaN\n",
       "2012-08-01 04:00:00    NaN     NaN         NaN\n",
       "2012-08-01 05:00:00    NaN     NaN         NaN\n",
       "2012-08-01 06:00:00    NaN     NaN   36.213434\n",
       "2012-08-01 07:00:00    NaN     NaN   48.554107\n",
       "2012-08-01 08:00:00    NaN     NaN   36.127093\n",
       "2012-08-01 09:00:00    NaN     NaN  128.162461\n",
       "2012-08-01 10:00:00    NaN     NaN  181.882048\n",
       "2012-08-01 11:00:00    NaN     NaN  254.413540\n",
       "2012-08-01 12:00:00    NaN     NaN  321.936175\n",
       "2012-08-01 13:00:00    NaN     NaN  341.839483\n",
       "2012-08-01 14:00:00    NaN     NaN  282.672780\n",
       "2012-08-01 15:00:00    NaN     NaN  269.921336\n",
       "2012-08-01 16:00:00    NaN     NaN  183.057121\n",
       "2012-08-01 17:00:00    NaN     NaN   90.580695\n",
       "2012-08-01 18:00:00    NaN     NaN   28.952974\n",
       "2012-08-01 19:00:00    NaN     NaN    9.540404\n",
       "2012-08-01 20:00:00    NaN     NaN         NaN\n",
       "2012-08-01 21:00:00    NaN     NaN         NaN\n",
       "2012-08-01 22:00:00    NaN     NaN         NaN\n",
       "2012-08-01 23:00:00    NaN     NaN         NaN\n",
       "2012-08-02 00:00:00    NaN     NaN         NaN\n",
       "2012-08-02 01:00:00    NaN     NaN         NaN\n",
       "2012-08-02 02:00:00    NaN     NaN         NaN\n",
       "2012-08-02 03:00:00    NaN     NaN         NaN\n",
       "2012-08-02 04:00:00    NaN     NaN         NaN\n",
       "2012-08-02 05:00:00    NaN     NaN         NaN\n",
       "...                    ...     ...         ...\n",
       "2019-05-09 18:00:00    0.0     0.0   22.570635\n",
       "2019-05-09 19:00:00    0.0     0.0    2.862754\n",
       "2019-05-09 20:00:00    0.0     0.0         NaN\n",
       "2019-05-09 21:00:00    0.0     0.0         NaN\n",
       "2019-05-09 22:00:00    0.0     0.0         NaN\n",
       "2019-05-09 23:00:00    0.0     0.0         NaN\n",
       "2019-05-10 00:00:00    0.0     0.0         NaN\n",
       "2019-05-10 01:00:00    0.0     0.0         NaN\n",
       "2019-05-10 02:00:00    0.0     0.0         NaN\n",
       "2019-05-10 03:00:00    0.0     0.0         NaN\n",
       "2019-05-10 04:00:00    0.0     0.0         NaN\n",
       "2019-05-10 05:00:00    0.0     0.0    3.988479\n",
       "2019-05-10 06:00:00    0.0     0.0   23.451208\n",
       "2019-05-10 07:00:00    0.0     0.0   50.771355\n",
       "2019-05-10 08:00:00    0.0     0.0   72.787403\n",
       "2019-05-10 09:00:00    NaN     NaN    0.000000\n",
       "2019-05-10 10:00:00    NaN     NaN    0.000000\n",
       "2019-05-10 11:00:00    NaN     NaN    0.000000\n",
       "2019-05-10 12:00:00    NaN     NaN    0.000000\n",
       "2019-05-10 13:00:00    NaN     NaN    0.000000\n",
       "2019-05-10 14:00:00    NaN     NaN    0.000000\n",
       "2019-05-10 15:00:00    NaN     NaN    0.000000\n",
       "2019-05-10 16:00:00    NaN     NaN    0.000000\n",
       "2019-05-10 17:00:00    NaN     NaN    0.000000\n",
       "2019-05-10 18:00:00    NaN     NaN    0.000000\n",
       "2019-05-10 19:00:00    NaN     NaN    0.000000\n",
       "2019-05-10 20:00:00    NaN     NaN         NaN\n",
       "2019-05-10 21:00:00    NaN     NaN         NaN\n",
       "2019-05-10 22:00:00    NaN     NaN         NaN\n",
       "2019-05-10 23:00:00    NaN     NaN         NaN\n",
       "\n",
       "[59376 rows x 3 columns]"
      ]
     },
     "execution_count": 240,
     "metadata": {},
     "output_type": "execute_result"
    }
   ],
   "source": [
    "dfEL"
   ]
  },
  {
   "cell_type": "code",
   "execution_count": 243,
   "metadata": {
    "scrolled": true
   },
   "outputs": [
    {
     "data": {
      "text/plain": [
       "<matplotlib.axes._subplots.AxesSubplot at 0x7fd20c55cda0>"
      ]
     },
     "execution_count": 243,
     "metadata": {},
     "output_type": "execute_result"
    },
    {
     "data": {
      "image/png": "[encoded data removed]",
      "text/plain": [
       "<Figure size 432x288 with 1 Axes>"
      ]
     },
     "metadata": {},
     "output_type": "display_data"
    },
    {
     "data": {
      "image/png": "[encoded data removed]",
      "text/plain": [
       "<Figure size 432x288 with 1 Axes>"
      ]
     },
     "metadata": {},
     "output_type": "display_data"
    },
    {
     "data": {
      "image/png": "[encoded data removed]",
      "text/plain": [
       "<Figure size 432x288 with 1 Axes>"
      ]
     },
     "metadata": {},
     "output_type": "display_data"
    }
   ],
   "source": [
    "dfEL[['EL PT']].plot()\n",
    "dfEL[['EL FAO']].plot()\n",
    "dfEL[['EL SO']].plot()"
   ]
  },
  {
   "cell_type": "code",
   "execution_count": null,
   "metadata": {},
   "outputs": [],
   "source": []
  }
 ],
 "metadata": {
  "kernelspec": {
   "display_name": "Python 3",
   "language": "python",
   "name": "python3"
  },
  "language_info": {
   "codemirror_mode": {
    "name": "ipython",
    "version": 3
   },
   "file_extension": ".py",
   "mimetype": "text/x-python",
   "name": "python",
   "nbconvert_exporter": "python",
   "pygments_lexer": "ipython3",
   "version": "3.6.8"
  }
 },
 "nbformat": 4,
 "nbformat_minor": 2
}
