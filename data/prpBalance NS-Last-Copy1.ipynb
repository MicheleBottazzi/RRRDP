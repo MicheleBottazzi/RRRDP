{
 "cells": [
  {
   "cell_type": "code",
   "execution_count": 1,
   "metadata": {},
   "outputs": [],
   "source": [
    "import pandas as pd\n",
    "import numpy as np\n",
    "import matplotlib.pyplot as plt\n",
    "import os"
   ]
  },
  {
   "cell_type": "code",
   "execution_count": 2,
   "metadata": {},
   "outputs": [],
   "source": [
    "#define and set path to the inut folder\n",
    "path = \"/home/drugo/Sim/RRRDP/\"                \n",
    "os.chdir(path)"
   ]
  },
  {
   "cell_type": "code",
   "execution_count": 3,
   "metadata": {
    "scrolled": false
   },
   "outputs": [],
   "source": [
    "dfsoS= pd.read_csv('output/RioRessiOut/Calibrazione/Storage_1_RioRessi_SO_NS_validated.csv',\n",
    "                  parse_dates=['yyyy-MM-dd HH:mm'],sep=',',skiprows=6,low_memory=False, na_values=-9999)\n",
    "dfsoS.columns = ['','Date','so_storage']\n",
    "dfsoS.index = dfsoS['Date']\n",
    "dfsoS = dfsoS.iloc[:,2:]\n",
    "\n",
    "dfsogS= pd.read_csv('output/RioRessiOut/Calibrazione/Storage_1_RioRessi_SO_NS_validated_FG.csv',\n",
    "                  parse_dates=['yyyy-MM-dd HH:mm'],sep=',',skiprows=6,low_memory=False, na_values=-9999)\n",
    "dfsogS.columns = ['','Date','sog_storage']\n",
    "dfsogS.index = dfsogS['Date']\n",
    "dfsogS = dfsogS.iloc[:,2:]\n",
    "\n",
    "dfptS= pd.read_csv('output/RioRessiOut/Calibrazione/Storage_1_RioRessi_PT_NS_validated.csv',\n",
    "                  parse_dates=['yyyy-MM-dd HH:mm'],sep=',',skiprows=6,low_memory=False, na_values=-9999)\n",
    "dfptS.columns = ['','Date','pt_storage']\n",
    "dfptS.index = dfptS['Date']\n",
    "dfptS = dfptS.iloc[:,2:]\n",
    "\n",
    "dffaoS= pd.read_csv('output/RioRessiOut/Calibrazione/Storage_1_RioRessi_FAO_NS_validated.csv',\n",
    "                  parse_dates=['yyyy-MM-dd HH:mm'],sep=',',skiprows=6,low_memory=False, na_values=-9999)\n",
    "dffaoS.columns = ['','Date','fao_storage']\n",
    "dffaoS.index = dffaoS['Date']\n",
    "dffaoS = dffaoS.iloc[:,2:]\n",
    "\n",
    "\n",
    "dfsoROS= pd.read_csv('output/RioRessiOut/Calibrazione/Idrogramma_1_RioRessi_SO_NS_validated.csv',\n",
    "                  parse_dates=['yyyy-MM-dd HH:mm'],sep=',',skiprows=6,low_memory=False, na_values=-9999)\n",
    "dfsoROS.columns = ['','Date','so_runoff']\n",
    "dfsoROS.index = dfsoROS['Date']\n",
    "dfsoROS = dfsoROS.iloc[:,2:]\n",
    "\n",
    "dfsogROS= pd.read_csv('output/RioRessiOut/Calibrazione/Idrogramma_1_RioRessi_SO_NS_validated_FG.csv',\n",
    "                  parse_dates=['yyyy-MM-dd HH:mm'],sep=',',skiprows=6,low_memory=False, na_values=-9999)\n",
    "dfsogROS.columns = ['','Date','sog_runoff']\n",
    "dfsogROS.index = dfsogROS['Date']\n",
    "dfsogROS = dfsogROS.iloc[:,2:]\n",
    "\n",
    "dfptROS= pd.read_csv('output/RioRessiOut/Calibrazione/Idrogramma_1_RioRessi_PT_NS_validated.csv',\n",
    "                  parse_dates=['yyyy-MM-dd HH:mm'],sep=',',skiprows=6,low_memory=False, na_values=-9999)\n",
    "dfptROS.columns = ['','Date','pt_runoff']\n",
    "dfptROS.index = dfptROS['Date']\n",
    "dfptROS = dfptROS.iloc[:,2:]\n",
    "\n",
    "dffaoROS= pd.read_csv('output/RioRessiOut/Calibrazione/Idrogramma_1_RioRessi_FAO_NS_validated.csv',\n",
    "                  parse_dates=['yyyy-MM-dd HH:mm'],sep=',',skiprows=6,low_memory=False, na_values=-9999)\n",
    "dffaoROS.columns = ['','Date','fao_runoff']\n",
    "dffaoROS.index = dffaoROS['Date']\n",
    "dffaoROS = dffaoROS.iloc[:,2:]\n",
    "\n",
    "dfObsS= pd.read_csv('data/RioRessi/1/RioRessi_Root.csv',\n",
    "                  parse_dates=[1],sep=',',skiprows=2,low_memory=False, na_values=-9999)\n",
    "dfObsS.columns = ['','Date','obs_storage']\n",
    "dfObsS.index = dfObsS['Date']\n",
    "dfObsS = dfObsS.iloc[:,2:]\n",
    "\n",
    "dfObsR= pd.read_csv('data/RioRessi/1/RioRessi_RUNOFF.csv',\n",
    "                  parse_dates=[1],sep=',',skiprows=2,low_memory=False, na_values=-9999)\n",
    "dfObsR.columns = ['','Date','obs_runoff']\n",
    "dfObsR.index = dfObsR['Date']\n",
    "dfObsR = dfObsR.iloc[:,2:]\n",
    "\n",
    "dfPrp= pd.read_csv('data/RioRessi/1/RioRessi_PRP.csv',parse_dates=[1],sep=',',skiprows=2,low_memory=False, na_values=-9999)\n",
    "dfPrp.columns = ['','Date','prp']\n",
    "dfPrp.index = dfPrp['Date']\n",
    "dfPrp = dfPrp.iloc[:,2:]\n",
    "\n",
    "dfso= pd.read_csv('data/RioRessi/1/RioRessi_ET_SOSt.csv',\n",
    "                  parse_dates=['yyyy-MM-dd HH:mm'],sep=',',skiprows=6,low_memory=False, na_values=-9999)\n",
    "dfso.columns = ['','Date','so_et']\n",
    "dfso.index = dfso['Date']\n",
    "dfso = dfso.iloc[:,2:]\n",
    "\n",
    "dfsog = pd.read_csv('data/RioRessi/1/RioRessi_ET_SO_FG.csv',\n",
    "                  parse_dates=['yyyy-MM-dd HH:mm'],sep=',',skiprows=6,low_memory=False, na_values=-9999)\n",
    "dfsog.columns = ['','Date','sog_et']\n",
    "dfsog.index = dfsog['Date']\n",
    "dfsog = dfsog.iloc[:,2:]\n",
    "\n",
    "dfpt= pd.read_csv('data/RioRessi/1/RioRessi_ET_PT126.csv',\n",
    "                  parse_dates=['yyyy-MM-dd HH:mm'],sep=',',skiprows=6,low_memory=False, na_values=-9999)\n",
    "dfpt.columns = ['','Date','pt_et']\n",
    "dfpt.index = dfpt['Date']\n",
    "dfpt = dfpt.iloc[:,2:]\n",
    "\n",
    "dffao= pd.read_csv('data/RioRessi/1/RioRessi_ET_FAO.csv',\n",
    "                  parse_dates=['yyyy-MM-dd HH:mm'],sep=',',skiprows=6,low_memory=False, na_values=-9999)\n",
    "dffao.columns = ['','Date','fao_et']\n",
    "dffao.index = dffao['Date']\n",
    "dffao = dffao.iloc[:,2:]"
   ]
  },
  {
   "cell_type": "code",
   "execution_count": 4,
   "metadata": {},
   "outputs": [
    {
     "data": {
      "text/html": [
       "<div>\n",
       "<style scoped>\n",
       "    .dataframe tbody tr th:only-of-type {\n",
       "        vertical-align: middle;\n",
       "    }\n",
       "\n",
       "    .dataframe tbody tr th {\n",
       "        vertical-align: top;\n",
       "    }\n",
       "\n",
       "    .dataframe thead th {\n",
       "        text-align: right;\n",
       "    }\n",
       "</style>\n",
       "<table border=\"1\" class=\"dataframe\">\n",
       "  <thead>\n",
       "    <tr style=\"text-align: right;\">\n",
       "      <th></th>\n",
       "      <th>storage_gw</th>\n",
       "    </tr>\n",
       "    <tr>\n",
       "      <th>Date</th>\n",
       "      <th></th>\n",
       "    </tr>\n",
       "  </thead>\n",
       "  <tbody>\n",
       "    <tr>\n",
       "      <th>2014-01-01 01:00:00</th>\n",
       "      <td>492.0</td>\n",
       "    </tr>\n",
       "    <tr>\n",
       "      <th>2014-01-01 02:00:00</th>\n",
       "      <td>492.0</td>\n",
       "    </tr>\n",
       "    <tr>\n",
       "      <th>2014-01-01 03:00:00</th>\n",
       "      <td>492.0</td>\n",
       "    </tr>\n",
       "    <tr>\n",
       "      <th>2014-01-01 04:00:00</th>\n",
       "      <td>492.0</td>\n",
       "    </tr>\n",
       "    <tr>\n",
       "      <th>2014-01-01 05:00:00</th>\n",
       "      <td>492.0</td>\n",
       "    </tr>\n",
       "  </tbody>\n",
       "</table>\n",
       "</div>"
      ],
      "text/plain": [
       "                     storage_gw\n",
       "Date                           \n",
       "2014-01-01 01:00:00       492.0\n",
       "2014-01-01 02:00:00       492.0\n",
       "2014-01-01 03:00:00       492.0\n",
       "2014-01-01 04:00:00       492.0\n",
       "2014-01-01 05:00:00       492.0"
      ]
     },
     "execution_count": 4,
     "metadata": {},
     "output_type": "execute_result"
    }
   ],
   "source": [
    "dfsgw= pd.read_csv('data/RioRessi/1/RioRessi_RootGW.csv',\n",
    "                  parse_dates=['yyyy-MM-dd HH:mm'],sep=',',skiprows=6,low_memory=False, na_values=-9999)\n",
    "dfsgw.columns = ['','Date','storage_gw']\n",
    "dfsgw.index = dfsgw['Date']\n",
    "dfsgw = dfsgw.iloc[:,2:]\n",
    "dfsgw.head()"
   ]
  },
  {
   "cell_type": "code",
   "execution_count": 5,
   "metadata": {
    "scrolled": true
   },
   "outputs": [
    {
     "data": {
      "text/html": [
       "<div>\n",
       "<style scoped>\n",
       "    .dataframe tbody tr th:only-of-type {\n",
       "        vertical-align: middle;\n",
       "    }\n",
       "\n",
       "    .dataframe tbody tr th {\n",
       "        vertical-align: top;\n",
       "    }\n",
       "\n",
       "    .dataframe thead th {\n",
       "        text-align: right;\n",
       "    }\n",
       "</style>\n",
       "<table border=\"1\" class=\"dataframe\">\n",
       "  <thead>\n",
       "    <tr style=\"text-align: right;\">\n",
       "      <th></th>\n",
       "      <th>obs_runoff</th>\n",
       "      <th>prp</th>\n",
       "      <th>so_et</th>\n",
       "      <th>sog_et</th>\n",
       "      <th>so_runoff</th>\n",
       "      <th>sog_runoff</th>\n",
       "      <th>pt_runoff</th>\n",
       "      <th>fao_runoff</th>\n",
       "      <th>fao_et</th>\n",
       "      <th>pt_et</th>\n",
       "      <th>obs_storage</th>\n",
       "      <th>so_storage</th>\n",
       "      <th>sog_storage</th>\n",
       "      <th>fao_storage</th>\n",
       "      <th>pt_storage</th>\n",
       "      <th>storage_gw</th>\n",
       "    </tr>\n",
       "    <tr>\n",
       "      <th>Date</th>\n",
       "      <th></th>\n",
       "      <th></th>\n",
       "      <th></th>\n",
       "      <th></th>\n",
       "      <th></th>\n",
       "      <th></th>\n",
       "      <th></th>\n",
       "      <th></th>\n",
       "      <th></th>\n",
       "      <th></th>\n",
       "      <th></th>\n",
       "      <th></th>\n",
       "      <th></th>\n",
       "      <th></th>\n",
       "      <th></th>\n",
       "      <th></th>\n",
       "    </tr>\n",
       "  </thead>\n",
       "  <tbody>\n",
       "    <tr>\n",
       "      <th>2014-01-01 00:00:00</th>\n",
       "      <td>0.000858</td>\n",
       "      <td>0.0</td>\n",
       "      <td>NaN</td>\n",
       "      <td>NaN</td>\n",
       "      <td>5.927601e-13</td>\n",
       "      <td>0.001680</td>\n",
       "      <td>5.148190e-10</td>\n",
       "      <td>4.568406e-13</td>\n",
       "      <td>0.010114</td>\n",
       "      <td>0.0</td>\n",
       "      <td>291.94050</td>\n",
       "      <td>259.00337</td>\n",
       "      <td>48.7229</td>\n",
       "      <td>224.763988</td>\n",
       "      <td>208.345172</td>\n",
       "      <td>NaN</td>\n",
       "    </tr>\n",
       "    <tr>\n",
       "      <th>2014-01-01 01:00:00</th>\n",
       "      <td>0.000850</td>\n",
       "      <td>0.0</td>\n",
       "      <td>NaN</td>\n",
       "      <td>NaN</td>\n",
       "      <td>6.475211e-13</td>\n",
       "      <td>0.001764</td>\n",
       "      <td>5.716940e-10</td>\n",
       "      <td>4.999549e-13</td>\n",
       "      <td>0.010065</td>\n",
       "      <td>0.0</td>\n",
       "      <td>291.51000</td>\n",
       "      <td>259.00337</td>\n",
       "      <td>48.7229</td>\n",
       "      <td>224.762224</td>\n",
       "      <td>208.345116</td>\n",
       "      <td>492.0</td>\n",
       "    </tr>\n",
       "    <tr>\n",
       "      <th>2014-01-01 02:00:00</th>\n",
       "      <td>0.000846</td>\n",
       "      <td>0.0</td>\n",
       "      <td>NaN</td>\n",
       "      <td>NaN</td>\n",
       "      <td>6.029241e-13</td>\n",
       "      <td>0.001688</td>\n",
       "      <td>5.256259e-10</td>\n",
       "      <td>4.635961e-13</td>\n",
       "      <td>0.012050</td>\n",
       "      <td>0.0</td>\n",
       "      <td>291.23325</td>\n",
       "      <td>259.00337</td>\n",
       "      <td>48.7229</td>\n",
       "      <td>224.760036</td>\n",
       "      <td>208.345060</td>\n",
       "      <td>492.0</td>\n",
       "    </tr>\n",
       "    <tr>\n",
       "      <th>2014-01-01 03:00:00</th>\n",
       "      <td>0.000838</td>\n",
       "      <td>0.0</td>\n",
       "      <td>NaN</td>\n",
       "      <td>NaN</td>\n",
       "      <td>6.392436e-13</td>\n",
       "      <td>0.001748</td>\n",
       "      <td>5.629723e-10</td>\n",
       "      <td>4.942579e-13</td>\n",
       "      <td>0.012755</td>\n",
       "      <td>0.0</td>\n",
       "      <td>290.80275</td>\n",
       "      <td>259.00337</td>\n",
       "      <td>48.7229</td>\n",
       "      <td>224.757637</td>\n",
       "      <td>208.345004</td>\n",
       "      <td>492.0</td>\n",
       "    </tr>\n",
       "    <tr>\n",
       "      <th>2014-01-01 04:00:00</th>\n",
       "      <td>0.000821</td>\n",
       "      <td>0.0</td>\n",
       "      <td>NaN</td>\n",
       "      <td>NaN</td>\n",
       "      <td>6.096653e-13</td>\n",
       "      <td>0.001694</td>\n",
       "      <td>5.327282e-10</td>\n",
       "      <td>4.684004e-13</td>\n",
       "      <td>0.008917</td>\n",
       "      <td>0.0</td>\n",
       "      <td>290.43375</td>\n",
       "      <td>259.00337</td>\n",
       "      <td>48.7229</td>\n",
       "      <td>224.755919</td>\n",
       "      <td>208.344948</td>\n",
       "      <td>492.0</td>\n",
       "    </tr>\n",
       "  </tbody>\n",
       "</table>\n",
       "</div>"
      ],
      "text/plain": [
       "                     obs_runoff  prp  so_et  sog_et     so_runoff  sog_runoff  \\\n",
       "Date                                                                            \n",
       "2014-01-01 00:00:00    0.000858  0.0    NaN     NaN  5.927601e-13    0.001680   \n",
       "2014-01-01 01:00:00    0.000850  0.0    NaN     NaN  6.475211e-13    0.001764   \n",
       "2014-01-01 02:00:00    0.000846  0.0    NaN     NaN  6.029241e-13    0.001688   \n",
       "2014-01-01 03:00:00    0.000838  0.0    NaN     NaN  6.392436e-13    0.001748   \n",
       "2014-01-01 04:00:00    0.000821  0.0    NaN     NaN  6.096653e-13    0.001694   \n",
       "\n",
       "                        pt_runoff    fao_runoff    fao_et  pt_et  obs_storage  \\\n",
       "Date                                                                            \n",
       "2014-01-01 00:00:00  5.148190e-10  4.568406e-13  0.010114    0.0    291.94050   \n",
       "2014-01-01 01:00:00  5.716940e-10  4.999549e-13  0.010065    0.0    291.51000   \n",
       "2014-01-01 02:00:00  5.256259e-10  4.635961e-13  0.012050    0.0    291.23325   \n",
       "2014-01-01 03:00:00  5.629723e-10  4.942579e-13  0.012755    0.0    290.80275   \n",
       "2014-01-01 04:00:00  5.327282e-10  4.684004e-13  0.008917    0.0    290.43375   \n",
       "\n",
       "                     so_storage  sog_storage  fao_storage  pt_storage  \\\n",
       "Date                                                                    \n",
       "2014-01-01 00:00:00   259.00337      48.7229   224.763988  208.345172   \n",
       "2014-01-01 01:00:00   259.00337      48.7229   224.762224  208.345116   \n",
       "2014-01-01 02:00:00   259.00337      48.7229   224.760036  208.345060   \n",
       "2014-01-01 03:00:00   259.00337      48.7229   224.757637  208.345004   \n",
       "2014-01-01 04:00:00   259.00337      48.7229   224.755919  208.344948   \n",
       "\n",
       "                     storage_gw  \n",
       "Date                             \n",
       "2014-01-01 00:00:00         NaN  \n",
       "2014-01-01 01:00:00       492.0  \n",
       "2014-01-01 02:00:00       492.0  \n",
       "2014-01-01 03:00:00       492.0  \n",
       "2014-01-01 04:00:00       492.0  "
      ]
     },
     "execution_count": 5,
     "metadata": {},
     "output_type": "execute_result"
    }
   ],
   "source": [
    "df = pd.concat([dfObsR,dfPrp.iloc[12432:,:],dfso.iloc[12432:,:],dfsog.iloc[12432:,:],\n",
    "                dfsoROS,dfsogROS,dfptROS,dffaoROS,\n",
    "                dffao.iloc[12432:,:],dfpt.iloc[12432:,:], dfObsS.iloc[12432:,:],dfsoS,dfsogS,dffaoS,dfptS,dfsgw],axis=1)\n",
    "df.head()"
   ]
  },
  {
   "cell_type": "code",
   "execution_count": 6,
   "metadata": {},
   "outputs": [
    {
     "data": {
      "text/plain": [
       "(46944, 16)"
      ]
     },
     "execution_count": 6,
     "metadata": {},
     "output_type": "execute_result"
    }
   ],
   "source": [
    "df.shape"
   ]
  },
  {
   "cell_type": "code",
   "execution_count": 7,
   "metadata": {},
   "outputs": [],
   "source": [
    "df2=df.dropna(subset=['obs_runoff','so_runoff','sog_runoff','pt_runoff','fao_runoff','prp',\n",
    "                     'obs_storage','so_storage','sog_storage','fao_storage','pt_storage','storage_gw'])"
   ]
  },
  {
   "cell_type": "code",
   "execution_count": 8,
   "metadata": {},
   "outputs": [
    {
     "data": {
      "text/plain": [
       "(27900, 16)"
      ]
     },
     "execution_count": 8,
     "metadata": {},
     "output_type": "execute_result"
    }
   ],
   "source": [
    "df2.shape"
   ]
  },
  {
   "cell_type": "code",
   "execution_count": 9,
   "metadata": {},
   "outputs": [
    {
     "data": {
      "text/html": [
       "<div>\n",
       "<style scoped>\n",
       "    .dataframe tbody tr th:only-of-type {\n",
       "        vertical-align: middle;\n",
       "    }\n",
       "\n",
       "    .dataframe tbody tr th {\n",
       "        vertical-align: top;\n",
       "    }\n",
       "\n",
       "    .dataframe thead th {\n",
       "        text-align: right;\n",
       "    }\n",
       "</style>\n",
       "<table border=\"1\" class=\"dataframe\">\n",
       "  <thead>\n",
       "    <tr style=\"text-align: right;\">\n",
       "      <th></th>\n",
       "      <th>obs_runoff</th>\n",
       "      <th>prp</th>\n",
       "      <th>so_et</th>\n",
       "      <th>sog_et</th>\n",
       "      <th>so_runoff</th>\n",
       "      <th>sog_runoff</th>\n",
       "      <th>pt_runoff</th>\n",
       "      <th>fao_runoff</th>\n",
       "      <th>fao_et</th>\n",
       "      <th>pt_et</th>\n",
       "      <th>obs_storage</th>\n",
       "      <th>so_storage</th>\n",
       "      <th>sog_storage</th>\n",
       "      <th>fao_storage</th>\n",
       "      <th>pt_storage</th>\n",
       "      <th>storage_gw</th>\n",
       "    </tr>\n",
       "    <tr>\n",
       "      <th>Date</th>\n",
       "      <th></th>\n",
       "      <th></th>\n",
       "      <th></th>\n",
       "      <th></th>\n",
       "      <th></th>\n",
       "      <th></th>\n",
       "      <th></th>\n",
       "      <th></th>\n",
       "      <th></th>\n",
       "      <th></th>\n",
       "      <th></th>\n",
       "      <th></th>\n",
       "      <th></th>\n",
       "      <th></th>\n",
       "      <th></th>\n",
       "      <th></th>\n",
       "    </tr>\n",
       "  </thead>\n",
       "  <tbody>\n",
       "    <tr>\n",
       "      <th>2017-12-12 07:00:00</th>\n",
       "      <td>0.007196</td>\n",
       "      <td>0.0</td>\n",
       "      <td>NaN</td>\n",
       "      <td>NaN</td>\n",
       "      <td>0.001366</td>\n",
       "      <td>0.007593</td>\n",
       "      <td>0.005859</td>\n",
       "      <td>0.001755</td>\n",
       "      <td>0.000290</td>\n",
       "      <td>0.000000</td>\n",
       "      <td>227.5875</td>\n",
       "      <td>406.973570</td>\n",
       "      <td>76.522594</td>\n",
       "      <td>360.070097</td>\n",
       "      <td>322.396380</td>\n",
       "      <td>356.0</td>\n",
       "    </tr>\n",
       "    <tr>\n",
       "      <th>2017-12-12 08:00:00</th>\n",
       "      <td>0.006363</td>\n",
       "      <td>0.0</td>\n",
       "      <td>0.000980</td>\n",
       "      <td>0.000488</td>\n",
       "      <td>0.001371</td>\n",
       "      <td>0.007155</td>\n",
       "      <td>0.005547</td>\n",
       "      <td>0.001790</td>\n",
       "      <td>0.000224</td>\n",
       "      <td>0.000000</td>\n",
       "      <td>227.9550</td>\n",
       "      <td>406.845329</td>\n",
       "      <td>76.309374</td>\n",
       "      <td>360.021957</td>\n",
       "      <td>321.287176</td>\n",
       "      <td>360.0</td>\n",
       "    </tr>\n",
       "    <tr>\n",
       "      <th>2017-12-12 09:00:00</th>\n",
       "      <td>0.005755</td>\n",
       "      <td>0.0</td>\n",
       "      <td>0.005354</td>\n",
       "      <td>0.004186</td>\n",
       "      <td>0.001379</td>\n",
       "      <td>0.006762</td>\n",
       "      <td>0.005241</td>\n",
       "      <td>0.001835</td>\n",
       "      <td>0.000186</td>\n",
       "      <td>0.000000</td>\n",
       "      <td>229.1260</td>\n",
       "      <td>406.774536</td>\n",
       "      <td>76.126888</td>\n",
       "      <td>360.044174</td>\n",
       "      <td>320.254114</td>\n",
       "      <td>364.0</td>\n",
       "    </tr>\n",
       "    <tr>\n",
       "      <th>2017-12-12 10:00:00</th>\n",
       "      <td>0.005307</td>\n",
       "      <td>0.0</td>\n",
       "      <td>0.016122</td>\n",
       "      <td>0.013651</td>\n",
       "      <td>0.001392</td>\n",
       "      <td>0.006405</td>\n",
       "      <td>0.005169</td>\n",
       "      <td>0.001890</td>\n",
       "      <td>0.002708</td>\n",
       "      <td>0.003355</td>\n",
       "      <td>230.6400</td>\n",
       "      <td>406.736145</td>\n",
       "      <td>75.968592</td>\n",
       "      <td>360.103860</td>\n",
       "      <td>319.289401</td>\n",
       "      <td>368.0</td>\n",
       "    </tr>\n",
       "    <tr>\n",
       "      <th>2017-12-12 11:00:00</th>\n",
       "      <td>0.004890</td>\n",
       "      <td>0.0</td>\n",
       "      <td>0.023910</td>\n",
       "      <td>0.020138</td>\n",
       "      <td>0.001409</td>\n",
       "      <td>0.006082</td>\n",
       "      <td>0.005040</td>\n",
       "      <td>0.001960</td>\n",
       "      <td>0.015322</td>\n",
       "      <td>0.020300</td>\n",
       "      <td>231.7335</td>\n",
       "      <td>406.767817</td>\n",
       "      <td>75.828499</td>\n",
       "      <td>360.242168</td>\n",
       "      <td>318.386136</td>\n",
       "      <td>372.0</td>\n",
       "    </tr>\n",
       "  </tbody>\n",
       "</table>\n",
       "</div>"
      ],
      "text/plain": [
       "                     obs_runoff  prp     so_et    sog_et  so_runoff  \\\n",
       "Date                                                                  \n",
       "2017-12-12 07:00:00    0.007196  0.0       NaN       NaN   0.001366   \n",
       "2017-12-12 08:00:00    0.006363  0.0  0.000980  0.000488   0.001371   \n",
       "2017-12-12 09:00:00    0.005755  0.0  0.005354  0.004186   0.001379   \n",
       "2017-12-12 10:00:00    0.005307  0.0  0.016122  0.013651   0.001392   \n",
       "2017-12-12 11:00:00    0.004890  0.0  0.023910  0.020138   0.001409   \n",
       "\n",
       "                     sog_runoff  pt_runoff  fao_runoff    fao_et     pt_et  \\\n",
       "Date                                                                         \n",
       "2017-12-12 07:00:00    0.007593   0.005859    0.001755  0.000290  0.000000   \n",
       "2017-12-12 08:00:00    0.007155   0.005547    0.001790  0.000224  0.000000   \n",
       "2017-12-12 09:00:00    0.006762   0.005241    0.001835  0.000186  0.000000   \n",
       "2017-12-12 10:00:00    0.006405   0.005169    0.001890  0.002708  0.003355   \n",
       "2017-12-12 11:00:00    0.006082   0.005040    0.001960  0.015322  0.020300   \n",
       "\n",
       "                     obs_storage  so_storage  sog_storage  fao_storage  \\\n",
       "Date                                                                     \n",
       "2017-12-12 07:00:00     227.5875  406.973570    76.522594   360.070097   \n",
       "2017-12-12 08:00:00     227.9550  406.845329    76.309374   360.021957   \n",
       "2017-12-12 09:00:00     229.1260  406.774536    76.126888   360.044174   \n",
       "2017-12-12 10:00:00     230.6400  406.736145    75.968592   360.103860   \n",
       "2017-12-12 11:00:00     231.7335  406.767817    75.828499   360.242168   \n",
       "\n",
       "                     pt_storage  storage_gw  \n",
       "Date                                         \n",
       "2017-12-12 07:00:00  322.396380       356.0  \n",
       "2017-12-12 08:00:00  321.287176       360.0  \n",
       "2017-12-12 09:00:00  320.254114       364.0  \n",
       "2017-12-12 10:00:00  319.289401       368.0  \n",
       "2017-12-12 11:00:00  318.386136       372.0  "
      ]
     },
     "execution_count": 9,
     "metadata": {},
     "output_type": "execute_result"
    }
   ],
   "source": [
    "df2.tail()"
   ]
  },
  {
   "cell_type": "code",
   "execution_count": 10,
   "metadata": {},
   "outputs": [
    {
     "data": {
      "text/html": [
       "<div>\n",
       "<style scoped>\n",
       "    .dataframe tbody tr th:only-of-type {\n",
       "        vertical-align: middle;\n",
       "    }\n",
       "\n",
       "    .dataframe tbody tr th {\n",
       "        vertical-align: top;\n",
       "    }\n",
       "\n",
       "    .dataframe thead th {\n",
       "        text-align: right;\n",
       "    }\n",
       "</style>\n",
       "<table border=\"1\" class=\"dataframe\">\n",
       "  <thead>\n",
       "    <tr style=\"text-align: right;\">\n",
       "      <th></th>\n",
       "      <th>obs_runoff</th>\n",
       "      <th>prp</th>\n",
       "      <th>so_et</th>\n",
       "      <th>sog_et</th>\n",
       "      <th>so_runoff</th>\n",
       "      <th>sog_runoff</th>\n",
       "      <th>pt_runoff</th>\n",
       "      <th>fao_runoff</th>\n",
       "      <th>fao_et</th>\n",
       "      <th>pt_et</th>\n",
       "      <th>obs_storage</th>\n",
       "      <th>so_storage</th>\n",
       "      <th>sog_storage</th>\n",
       "      <th>fao_storage</th>\n",
       "      <th>pt_storage</th>\n",
       "      <th>storage_gw</th>\n",
       "    </tr>\n",
       "    <tr>\n",
       "      <th>Date</th>\n",
       "      <th></th>\n",
       "      <th></th>\n",
       "      <th></th>\n",
       "      <th></th>\n",
       "      <th></th>\n",
       "      <th></th>\n",
       "      <th></th>\n",
       "      <th></th>\n",
       "      <th></th>\n",
       "      <th></th>\n",
       "      <th></th>\n",
       "      <th></th>\n",
       "      <th></th>\n",
       "      <th></th>\n",
       "      <th></th>\n",
       "      <th></th>\n",
       "    </tr>\n",
       "  </thead>\n",
       "  <tbody>\n",
       "    <tr>\n",
       "      <th>2019-05-10 19:00:00</th>\n",
       "      <td>NaN</td>\n",
       "      <td>NaN</td>\n",
       "      <td>0.0</td>\n",
       "      <td>0.0</td>\n",
       "      <td>NaN</td>\n",
       "      <td>NaN</td>\n",
       "      <td>NaN</td>\n",
       "      <td>NaN</td>\n",
       "      <td>0.011843</td>\n",
       "      <td>0.000589</td>\n",
       "      <td>NaN</td>\n",
       "      <td>NaN</td>\n",
       "      <td>NaN</td>\n",
       "      <td>NaN</td>\n",
       "      <td>NaN</td>\n",
       "      <td>NaN</td>\n",
       "    </tr>\n",
       "    <tr>\n",
       "      <th>2019-05-10 20:00:00</th>\n",
       "      <td>NaN</td>\n",
       "      <td>NaN</td>\n",
       "      <td>NaN</td>\n",
       "      <td>NaN</td>\n",
       "      <td>NaN</td>\n",
       "      <td>NaN</td>\n",
       "      <td>NaN</td>\n",
       "      <td>NaN</td>\n",
       "      <td>0.011843</td>\n",
       "      <td>0.000589</td>\n",
       "      <td>NaN</td>\n",
       "      <td>NaN</td>\n",
       "      <td>NaN</td>\n",
       "      <td>NaN</td>\n",
       "      <td>NaN</td>\n",
       "      <td>NaN</td>\n",
       "    </tr>\n",
       "    <tr>\n",
       "      <th>2019-05-10 21:00:00</th>\n",
       "      <td>NaN</td>\n",
       "      <td>NaN</td>\n",
       "      <td>NaN</td>\n",
       "      <td>NaN</td>\n",
       "      <td>NaN</td>\n",
       "      <td>NaN</td>\n",
       "      <td>NaN</td>\n",
       "      <td>NaN</td>\n",
       "      <td>0.011843</td>\n",
       "      <td>0.000589</td>\n",
       "      <td>NaN</td>\n",
       "      <td>NaN</td>\n",
       "      <td>NaN</td>\n",
       "      <td>NaN</td>\n",
       "      <td>NaN</td>\n",
       "      <td>NaN</td>\n",
       "    </tr>\n",
       "    <tr>\n",
       "      <th>2019-05-10 22:00:00</th>\n",
       "      <td>NaN</td>\n",
       "      <td>NaN</td>\n",
       "      <td>NaN</td>\n",
       "      <td>NaN</td>\n",
       "      <td>NaN</td>\n",
       "      <td>NaN</td>\n",
       "      <td>NaN</td>\n",
       "      <td>NaN</td>\n",
       "      <td>0.011843</td>\n",
       "      <td>0.000589</td>\n",
       "      <td>NaN</td>\n",
       "      <td>NaN</td>\n",
       "      <td>NaN</td>\n",
       "      <td>NaN</td>\n",
       "      <td>NaN</td>\n",
       "      <td>NaN</td>\n",
       "    </tr>\n",
       "    <tr>\n",
       "      <th>2019-05-10 23:00:00</th>\n",
       "      <td>NaN</td>\n",
       "      <td>NaN</td>\n",
       "      <td>NaN</td>\n",
       "      <td>NaN</td>\n",
       "      <td>NaN</td>\n",
       "      <td>NaN</td>\n",
       "      <td>NaN</td>\n",
       "      <td>NaN</td>\n",
       "      <td>0.011843</td>\n",
       "      <td>0.000589</td>\n",
       "      <td>NaN</td>\n",
       "      <td>NaN</td>\n",
       "      <td>NaN</td>\n",
       "      <td>NaN</td>\n",
       "      <td>NaN</td>\n",
       "      <td>NaN</td>\n",
       "    </tr>\n",
       "  </tbody>\n",
       "</table>\n",
       "</div>"
      ],
      "text/plain": [
       "                     obs_runoff  prp  so_et  sog_et  so_runoff  sog_runoff  \\\n",
       "Date                                                                         \n",
       "2019-05-10 19:00:00         NaN  NaN    0.0     0.0        NaN         NaN   \n",
       "2019-05-10 20:00:00         NaN  NaN    NaN     NaN        NaN         NaN   \n",
       "2019-05-10 21:00:00         NaN  NaN    NaN     NaN        NaN         NaN   \n",
       "2019-05-10 22:00:00         NaN  NaN    NaN     NaN        NaN         NaN   \n",
       "2019-05-10 23:00:00         NaN  NaN    NaN     NaN        NaN         NaN   \n",
       "\n",
       "                     pt_runoff  fao_runoff    fao_et     pt_et  obs_storage  \\\n",
       "Date                                                                          \n",
       "2019-05-10 19:00:00        NaN         NaN  0.011843  0.000589          NaN   \n",
       "2019-05-10 20:00:00        NaN         NaN  0.011843  0.000589          NaN   \n",
       "2019-05-10 21:00:00        NaN         NaN  0.011843  0.000589          NaN   \n",
       "2019-05-10 22:00:00        NaN         NaN  0.011843  0.000589          NaN   \n",
       "2019-05-10 23:00:00        NaN         NaN  0.011843  0.000589          NaN   \n",
       "\n",
       "                     so_storage  sog_storage  fao_storage  pt_storage  \\\n",
       "Date                                                                    \n",
       "2019-05-10 19:00:00         NaN          NaN          NaN         NaN   \n",
       "2019-05-10 20:00:00         NaN          NaN          NaN         NaN   \n",
       "2019-05-10 21:00:00         NaN          NaN          NaN         NaN   \n",
       "2019-05-10 22:00:00         NaN          NaN          NaN         NaN   \n",
       "2019-05-10 23:00:00         NaN          NaN          NaN         NaN   \n",
       "\n",
       "                     storage_gw  \n",
       "Date                             \n",
       "2019-05-10 19:00:00         NaN  \n",
       "2019-05-10 20:00:00         NaN  \n",
       "2019-05-10 21:00:00         NaN  \n",
       "2019-05-10 22:00:00         NaN  \n",
       "2019-05-10 23:00:00         NaN  "
      ]
     },
     "execution_count": 10,
     "metadata": {},
     "output_type": "execute_result"
    }
   ],
   "source": [
    "df.tail()"
   ]
  },
  {
   "cell_type": "code",
   "execution_count": 11,
   "metadata": {},
   "outputs": [],
   "source": [
    "idf = pd.date_range('2014-01-01 00:00','2017-12-12 11:00',freq='1H')\n",
    "df = df.reindex(idf)"
   ]
  },
  {
   "cell_type": "code",
   "execution_count": 12,
   "metadata": {},
   "outputs": [],
   "source": [
    "df = df2\n",
    "df3 = df2"
   ]
  },
  {
   "cell_type": "code",
   "execution_count": 13,
   "metadata": {},
   "outputs": [
    {
     "data": {
      "text/html": [
       "<div>\n",
       "<style scoped>\n",
       "    .dataframe tbody tr th:only-of-type {\n",
       "        vertical-align: middle;\n",
       "    }\n",
       "\n",
       "    .dataframe tbody tr th {\n",
       "        vertical-align: top;\n",
       "    }\n",
       "\n",
       "    .dataframe thead th {\n",
       "        text-align: right;\n",
       "    }\n",
       "</style>\n",
       "<table border=\"1\" class=\"dataframe\">\n",
       "  <thead>\n",
       "    <tr style=\"text-align: right;\">\n",
       "      <th></th>\n",
       "      <th>obs_runoff</th>\n",
       "      <th>prp</th>\n",
       "      <th>so_et</th>\n",
       "      <th>sog_et</th>\n",
       "      <th>so_runoff</th>\n",
       "      <th>sog_runoff</th>\n",
       "      <th>pt_runoff</th>\n",
       "      <th>fao_runoff</th>\n",
       "      <th>fao_et</th>\n",
       "      <th>pt_et</th>\n",
       "      <th>obs_storage</th>\n",
       "      <th>so_storage</th>\n",
       "      <th>sog_storage</th>\n",
       "      <th>fao_storage</th>\n",
       "      <th>pt_storage</th>\n",
       "      <th>storage_gw</th>\n",
       "    </tr>\n",
       "    <tr>\n",
       "      <th>Date</th>\n",
       "      <th></th>\n",
       "      <th></th>\n",
       "      <th></th>\n",
       "      <th></th>\n",
       "      <th></th>\n",
       "      <th></th>\n",
       "      <th></th>\n",
       "      <th></th>\n",
       "      <th></th>\n",
       "      <th></th>\n",
       "      <th></th>\n",
       "      <th></th>\n",
       "      <th></th>\n",
       "      <th></th>\n",
       "      <th></th>\n",
       "      <th></th>\n",
       "    </tr>\n",
       "  </thead>\n",
       "  <tbody>\n",
       "    <tr>\n",
       "      <th>2017-12-12 07:00:00</th>\n",
       "      <td>0.007196</td>\n",
       "      <td>0.0</td>\n",
       "      <td>NaN</td>\n",
       "      <td>NaN</td>\n",
       "      <td>0.001366</td>\n",
       "      <td>0.007593</td>\n",
       "      <td>0.005859</td>\n",
       "      <td>0.001755</td>\n",
       "      <td>0.000290</td>\n",
       "      <td>0.000000</td>\n",
       "      <td>227.5875</td>\n",
       "      <td>406.973570</td>\n",
       "      <td>76.522594</td>\n",
       "      <td>360.070097</td>\n",
       "      <td>322.396380</td>\n",
       "      <td>356.0</td>\n",
       "    </tr>\n",
       "    <tr>\n",
       "      <th>2017-12-12 08:00:00</th>\n",
       "      <td>0.006363</td>\n",
       "      <td>0.0</td>\n",
       "      <td>0.000980</td>\n",
       "      <td>0.000488</td>\n",
       "      <td>0.001371</td>\n",
       "      <td>0.007155</td>\n",
       "      <td>0.005547</td>\n",
       "      <td>0.001790</td>\n",
       "      <td>0.000224</td>\n",
       "      <td>0.000000</td>\n",
       "      <td>227.9550</td>\n",
       "      <td>406.845329</td>\n",
       "      <td>76.309374</td>\n",
       "      <td>360.021957</td>\n",
       "      <td>321.287176</td>\n",
       "      <td>360.0</td>\n",
       "    </tr>\n",
       "    <tr>\n",
       "      <th>2017-12-12 09:00:00</th>\n",
       "      <td>0.005755</td>\n",
       "      <td>0.0</td>\n",
       "      <td>0.005354</td>\n",
       "      <td>0.004186</td>\n",
       "      <td>0.001379</td>\n",
       "      <td>0.006762</td>\n",
       "      <td>0.005241</td>\n",
       "      <td>0.001835</td>\n",
       "      <td>0.000186</td>\n",
       "      <td>0.000000</td>\n",
       "      <td>229.1260</td>\n",
       "      <td>406.774536</td>\n",
       "      <td>76.126888</td>\n",
       "      <td>360.044174</td>\n",
       "      <td>320.254114</td>\n",
       "      <td>364.0</td>\n",
       "    </tr>\n",
       "    <tr>\n",
       "      <th>2017-12-12 10:00:00</th>\n",
       "      <td>0.005307</td>\n",
       "      <td>0.0</td>\n",
       "      <td>0.016122</td>\n",
       "      <td>0.013651</td>\n",
       "      <td>0.001392</td>\n",
       "      <td>0.006405</td>\n",
       "      <td>0.005169</td>\n",
       "      <td>0.001890</td>\n",
       "      <td>0.002708</td>\n",
       "      <td>0.003355</td>\n",
       "      <td>230.6400</td>\n",
       "      <td>406.736145</td>\n",
       "      <td>75.968592</td>\n",
       "      <td>360.103860</td>\n",
       "      <td>319.289401</td>\n",
       "      <td>368.0</td>\n",
       "    </tr>\n",
       "    <tr>\n",
       "      <th>2017-12-12 11:00:00</th>\n",
       "      <td>0.004890</td>\n",
       "      <td>0.0</td>\n",
       "      <td>0.023910</td>\n",
       "      <td>0.020138</td>\n",
       "      <td>0.001409</td>\n",
       "      <td>0.006082</td>\n",
       "      <td>0.005040</td>\n",
       "      <td>0.001960</td>\n",
       "      <td>0.015322</td>\n",
       "      <td>0.020300</td>\n",
       "      <td>231.7335</td>\n",
       "      <td>406.767817</td>\n",
       "      <td>75.828499</td>\n",
       "      <td>360.242168</td>\n",
       "      <td>318.386136</td>\n",
       "      <td>372.0</td>\n",
       "    </tr>\n",
       "  </tbody>\n",
       "</table>\n",
       "</div>"
      ],
      "text/plain": [
       "                     obs_runoff  prp     so_et    sog_et  so_runoff  \\\n",
       "Date                                                                  \n",
       "2017-12-12 07:00:00    0.007196  0.0       NaN       NaN   0.001366   \n",
       "2017-12-12 08:00:00    0.006363  0.0  0.000980  0.000488   0.001371   \n",
       "2017-12-12 09:00:00    0.005755  0.0  0.005354  0.004186   0.001379   \n",
       "2017-12-12 10:00:00    0.005307  0.0  0.016122  0.013651   0.001392   \n",
       "2017-12-12 11:00:00    0.004890  0.0  0.023910  0.020138   0.001409   \n",
       "\n",
       "                     sog_runoff  pt_runoff  fao_runoff    fao_et     pt_et  \\\n",
       "Date                                                                         \n",
       "2017-12-12 07:00:00    0.007593   0.005859    0.001755  0.000290  0.000000   \n",
       "2017-12-12 08:00:00    0.007155   0.005547    0.001790  0.000224  0.000000   \n",
       "2017-12-12 09:00:00    0.006762   0.005241    0.001835  0.000186  0.000000   \n",
       "2017-12-12 10:00:00    0.006405   0.005169    0.001890  0.002708  0.003355   \n",
       "2017-12-12 11:00:00    0.006082   0.005040    0.001960  0.015322  0.020300   \n",
       "\n",
       "                     obs_storage  so_storage  sog_storage  fao_storage  \\\n",
       "Date                                                                     \n",
       "2017-12-12 07:00:00     227.5875  406.973570    76.522594   360.070097   \n",
       "2017-12-12 08:00:00     227.9550  406.845329    76.309374   360.021957   \n",
       "2017-12-12 09:00:00     229.1260  406.774536    76.126888   360.044174   \n",
       "2017-12-12 10:00:00     230.6400  406.736145    75.968592   360.103860   \n",
       "2017-12-12 11:00:00     231.7335  406.767817    75.828499   360.242168   \n",
       "\n",
       "                     pt_storage  storage_gw  \n",
       "Date                                         \n",
       "2017-12-12 07:00:00  322.396380       356.0  \n",
       "2017-12-12 08:00:00  321.287176       360.0  \n",
       "2017-12-12 09:00:00  320.254114       364.0  \n",
       "2017-12-12 10:00:00  319.289401       368.0  \n",
       "2017-12-12 11:00:00  318.386136       372.0  "
      ]
     },
     "execution_count": 13,
     "metadata": {},
     "output_type": "execute_result"
    }
   ],
   "source": [
    "df3.tail()"
   ]
  },
  {
   "cell_type": "code",
   "execution_count": 14,
   "metadata": {},
   "outputs": [
    {
     "ename": "KeyError",
     "evalue": "'obs_mm_runoff'",
     "output_type": "error",
     "traceback": [
      "\u001b[0;31m---------------------------------------------------------------------------\u001b[0m",
      "\u001b[0;31mKeyError\u001b[0m                                  Traceback (most recent call last)",
      "\u001b[0;32m~/anaconda3/lib/python3.6/site-packages/pandas/core/indexes/base.py\u001b[0m in \u001b[0;36mget_loc\u001b[0;34m(self, key, method, tolerance)\u001b[0m\n\u001b[1;32m   2896\u001b[0m             \u001b[0;32mtry\u001b[0m\u001b[0;34m:\u001b[0m\u001b[0;34m\u001b[0m\u001b[0;34m\u001b[0m\u001b[0m\n\u001b[0;32m-> 2897\u001b[0;31m                 \u001b[0;32mreturn\u001b[0m \u001b[0mself\u001b[0m\u001b[0;34m.\u001b[0m\u001b[0m_engine\u001b[0m\u001b[0;34m.\u001b[0m\u001b[0mget_loc\u001b[0m\u001b[0;34m(\u001b[0m\u001b[0mkey\u001b[0m\u001b[0;34m)\u001b[0m\u001b[0;34m\u001b[0m\u001b[0;34m\u001b[0m\u001b[0m\n\u001b[0m\u001b[1;32m   2898\u001b[0m             \u001b[0;32mexcept\u001b[0m \u001b[0mKeyError\u001b[0m\u001b[0;34m:\u001b[0m\u001b[0;34m\u001b[0m\u001b[0;34m\u001b[0m\u001b[0m\n",
      "\u001b[0;32mpandas/_libs/index.pyx\u001b[0m in \u001b[0;36mpandas._libs.index.IndexEngine.get_loc\u001b[0;34m()\u001b[0m\n",
      "\u001b[0;32mpandas/_libs/index.pyx\u001b[0m in \u001b[0;36mpandas._libs.index.IndexEngine.get_loc\u001b[0;34m()\u001b[0m\n",
      "\u001b[0;32mpandas/_libs/hashtable_class_helper.pxi\u001b[0m in \u001b[0;36mpandas._libs.hashtable.PyObjectHashTable.get_item\u001b[0;34m()\u001b[0m\n",
      "\u001b[0;32mpandas/_libs/hashtable_class_helper.pxi\u001b[0m in \u001b[0;36mpandas._libs.hashtable.PyObjectHashTable.get_item\u001b[0;34m()\u001b[0m\n",
      "\u001b[0;31mKeyError\u001b[0m: 'obs_mm_runoff'",
      "\nDuring handling of the above exception, another exception occurred:\n",
      "\u001b[0;31mKeyError\u001b[0m                                  Traceback (most recent call last)",
      "\u001b[0;32m<ipython-input-14-c5c745e12252>\u001b[0m in \u001b[0;36m<module>\u001b[0;34m\u001b[0m\n\u001b[0;32m----> 1\u001b[0;31m \u001b[0mdf\u001b[0m\u001b[0;34m[\u001b[0m\u001b[0;34m'residual_obs + et_obs'\u001b[0m\u001b[0;34m]\u001b[0m \u001b[0;34m=\u001b[0m \u001b[0mdf\u001b[0m\u001b[0;34m[\u001b[0m\u001b[0;34m'prp'\u001b[0m\u001b[0;34m]\u001b[0m \u001b[0;34m-\u001b[0m \u001b[0mdf\u001b[0m\u001b[0;34m[\u001b[0m\u001b[0;34m'obs_mm_runoff'\u001b[0m\u001b[0;34m]\u001b[0m \u001b[0;34m-\u001b[0m \u001b[0mdf\u001b[0m\u001b[0;34m[\u001b[0m\u001b[0;34m'obs_D_storage'\u001b[0m\u001b[0;34m]\u001b[0m\u001b[0;31m#-df['D_storage_gw']\u001b[0m\u001b[0;34m\u001b[0m\u001b[0;34m\u001b[0m\u001b[0m\n\u001b[0m\u001b[1;32m      2\u001b[0m \u001b[0mdf\u001b[0m\u001b[0;34m[\u001b[0m\u001b[0;34m'obs_D_storage'\u001b[0m\u001b[0;34m]\u001b[0m \u001b[0;34m=\u001b[0m \u001b[0mdf\u001b[0m\u001b[0;34m[\u001b[0m\u001b[0;34m'obs_storage'\u001b[0m\u001b[0;34m]\u001b[0m\u001b[0;34m.\u001b[0m\u001b[0mdiff\u001b[0m\u001b[0;34m(\u001b[0m\u001b[0;34m)\u001b[0m\u001b[0;34m\u001b[0m\u001b[0;34m\u001b[0m\u001b[0m\n\u001b[1;32m      3\u001b[0m \u001b[0mdf\u001b[0m\u001b[0;34m[\u001b[0m\u001b[0;34m'so_D_storage'\u001b[0m\u001b[0;34m]\u001b[0m \u001b[0;34m=\u001b[0m \u001b[0mdf\u001b[0m\u001b[0;34m[\u001b[0m\u001b[0;34m'so_storage'\u001b[0m\u001b[0;34m]\u001b[0m\u001b[0;34m.\u001b[0m\u001b[0mdiff\u001b[0m\u001b[0;34m(\u001b[0m\u001b[0;34m)\u001b[0m\u001b[0;34m\u001b[0m\u001b[0;34m\u001b[0m\u001b[0m\n\u001b[1;32m      4\u001b[0m \u001b[0mdf\u001b[0m\u001b[0;34m[\u001b[0m\u001b[0;34m'sog_D_storage'\u001b[0m\u001b[0;34m]\u001b[0m \u001b[0;34m=\u001b[0m \u001b[0mdf\u001b[0m\u001b[0;34m[\u001b[0m\u001b[0;34m'sog_storage'\u001b[0m\u001b[0;34m]\u001b[0m\u001b[0;34m.\u001b[0m\u001b[0mdiff\u001b[0m\u001b[0;34m(\u001b[0m\u001b[0;34m)\u001b[0m\u001b[0;34m\u001b[0m\u001b[0;34m\u001b[0m\u001b[0m\n\u001b[1;32m      5\u001b[0m \u001b[0mdf\u001b[0m\u001b[0;34m[\u001b[0m\u001b[0;34m'fao_D_storage'\u001b[0m\u001b[0;34m]\u001b[0m \u001b[0;34m=\u001b[0m \u001b[0mdf\u001b[0m\u001b[0;34m[\u001b[0m\u001b[0;34m'fao_storage'\u001b[0m\u001b[0;34m]\u001b[0m\u001b[0;34m.\u001b[0m\u001b[0mdiff\u001b[0m\u001b[0;34m(\u001b[0m\u001b[0;34m)\u001b[0m\u001b[0;34m\u001b[0m\u001b[0;34m\u001b[0m\u001b[0m\n",
      "\u001b[0;32m~/anaconda3/lib/python3.6/site-packages/pandas/core/frame.py\u001b[0m in \u001b[0;36m__getitem__\u001b[0;34m(self, key)\u001b[0m\n\u001b[1;32m   2993\u001b[0m             \u001b[0;32mif\u001b[0m \u001b[0mself\u001b[0m\u001b[0;34m.\u001b[0m\u001b[0mcolumns\u001b[0m\u001b[0;34m.\u001b[0m\u001b[0mnlevels\u001b[0m \u001b[0;34m>\u001b[0m \u001b[0;36m1\u001b[0m\u001b[0;34m:\u001b[0m\u001b[0;34m\u001b[0m\u001b[0;34m\u001b[0m\u001b[0m\n\u001b[1;32m   2994\u001b[0m                 \u001b[0;32mreturn\u001b[0m \u001b[0mself\u001b[0m\u001b[0;34m.\u001b[0m\u001b[0m_getitem_multilevel\u001b[0m\u001b[0;34m(\u001b[0m\u001b[0mkey\u001b[0m\u001b[0;34m)\u001b[0m\u001b[0;34m\u001b[0m\u001b[0;34m\u001b[0m\u001b[0m\n\u001b[0;32m-> 2995\u001b[0;31m             \u001b[0mindexer\u001b[0m \u001b[0;34m=\u001b[0m \u001b[0mself\u001b[0m\u001b[0;34m.\u001b[0m\u001b[0mcolumns\u001b[0m\u001b[0;34m.\u001b[0m\u001b[0mget_loc\u001b[0m\u001b[0;34m(\u001b[0m\u001b[0mkey\u001b[0m\u001b[0;34m)\u001b[0m\u001b[0;34m\u001b[0m\u001b[0;34m\u001b[0m\u001b[0m\n\u001b[0m\u001b[1;32m   2996\u001b[0m             \u001b[0;32mif\u001b[0m \u001b[0mis_integer\u001b[0m\u001b[0;34m(\u001b[0m\u001b[0mindexer\u001b[0m\u001b[0;34m)\u001b[0m\u001b[0;34m:\u001b[0m\u001b[0;34m\u001b[0m\u001b[0;34m\u001b[0m\u001b[0m\n\u001b[1;32m   2997\u001b[0m                 \u001b[0mindexer\u001b[0m \u001b[0;34m=\u001b[0m \u001b[0;34m[\u001b[0m\u001b[0mindexer\u001b[0m\u001b[0;34m]\u001b[0m\u001b[0;34m\u001b[0m\u001b[0;34m\u001b[0m\u001b[0m\n",
      "\u001b[0;32m~/anaconda3/lib/python3.6/site-packages/pandas/core/indexes/base.py\u001b[0m in \u001b[0;36mget_loc\u001b[0;34m(self, key, method, tolerance)\u001b[0m\n\u001b[1;32m   2897\u001b[0m                 \u001b[0;32mreturn\u001b[0m \u001b[0mself\u001b[0m\u001b[0;34m.\u001b[0m\u001b[0m_engine\u001b[0m\u001b[0;34m.\u001b[0m\u001b[0mget_loc\u001b[0m\u001b[0;34m(\u001b[0m\u001b[0mkey\u001b[0m\u001b[0;34m)\u001b[0m\u001b[0;34m\u001b[0m\u001b[0;34m\u001b[0m\u001b[0m\n\u001b[1;32m   2898\u001b[0m             \u001b[0;32mexcept\u001b[0m \u001b[0mKeyError\u001b[0m\u001b[0;34m:\u001b[0m\u001b[0;34m\u001b[0m\u001b[0;34m\u001b[0m\u001b[0m\n\u001b[0;32m-> 2899\u001b[0;31m                 \u001b[0;32mreturn\u001b[0m \u001b[0mself\u001b[0m\u001b[0;34m.\u001b[0m\u001b[0m_engine\u001b[0m\u001b[0;34m.\u001b[0m\u001b[0mget_loc\u001b[0m\u001b[0;34m(\u001b[0m\u001b[0mself\u001b[0m\u001b[0;34m.\u001b[0m\u001b[0m_maybe_cast_indexer\u001b[0m\u001b[0;34m(\u001b[0m\u001b[0mkey\u001b[0m\u001b[0;34m)\u001b[0m\u001b[0;34m)\u001b[0m\u001b[0;34m\u001b[0m\u001b[0;34m\u001b[0m\u001b[0m\n\u001b[0m\u001b[1;32m   2900\u001b[0m         \u001b[0mindexer\u001b[0m \u001b[0;34m=\u001b[0m \u001b[0mself\u001b[0m\u001b[0;34m.\u001b[0m\u001b[0mget_indexer\u001b[0m\u001b[0;34m(\u001b[0m\u001b[0;34m[\u001b[0m\u001b[0mkey\u001b[0m\u001b[0;34m]\u001b[0m\u001b[0;34m,\u001b[0m \u001b[0mmethod\u001b[0m\u001b[0;34m=\u001b[0m\u001b[0mmethod\u001b[0m\u001b[0;34m,\u001b[0m \u001b[0mtolerance\u001b[0m\u001b[0;34m=\u001b[0m\u001b[0mtolerance\u001b[0m\u001b[0;34m)\u001b[0m\u001b[0;34m\u001b[0m\u001b[0;34m\u001b[0m\u001b[0m\n\u001b[1;32m   2901\u001b[0m         \u001b[0;32mif\u001b[0m \u001b[0mindexer\u001b[0m\u001b[0;34m.\u001b[0m\u001b[0mndim\u001b[0m \u001b[0;34m>\u001b[0m \u001b[0;36m1\u001b[0m \u001b[0;32mor\u001b[0m \u001b[0mindexer\u001b[0m\u001b[0;34m.\u001b[0m\u001b[0msize\u001b[0m \u001b[0;34m>\u001b[0m \u001b[0;36m1\u001b[0m\u001b[0;34m:\u001b[0m\u001b[0;34m\u001b[0m\u001b[0;34m\u001b[0m\u001b[0m\n",
      "\u001b[0;32mpandas/_libs/index.pyx\u001b[0m in \u001b[0;36mpandas._libs.index.IndexEngine.get_loc\u001b[0;34m()\u001b[0m\n",
      "\u001b[0;32mpandas/_libs/index.pyx\u001b[0m in \u001b[0;36mpandas._libs.index.IndexEngine.get_loc\u001b[0;34m()\u001b[0m\n",
      "\u001b[0;32mpandas/_libs/hashtable_class_helper.pxi\u001b[0m in \u001b[0;36mpandas._libs.hashtable.PyObjectHashTable.get_item\u001b[0;34m()\u001b[0m\n",
      "\u001b[0;32mpandas/_libs/hashtable_class_helper.pxi\u001b[0m in \u001b[0;36mpandas._libs.hashtable.PyObjectHashTable.get_item\u001b[0;34m()\u001b[0m\n",
      "\u001b[0;31mKeyError\u001b[0m: 'obs_mm_runoff'"
     ]
    }
   ],
   "source": [
    "df['residual_obs + et_obs'] = df['prp'] - df['obs_mm_runoff'] - df['obs_D_storage']#-df['D_storage_gw']\n",
    "df['obs_D_storage'] = df['obs_storage'].diff()\n",
    "df['so_D_storage'] = df['so_storage'].diff()\n",
    "df['sog_D_storage'] = df['sog_storage'].diff()\n",
    "df['fao_D_storage'] = df['fao_storage'].diff()\n",
    "df['pt_D_storage'] = df['pt_storage'].diff()\n",
    "df['D_storage_gw'] = df['storage_gw'].diff()\n",
    "\n",
    "df['obs_mm_runoff'] = df['obs_runoff']*1000*3600/21930\n",
    "df['so_mm_runoff'] = df['so_runoff']*1000*3600/21930\n",
    "df['sog_mm_runoff'] = df['sog_runoff']*1000*3600/21930\n",
    "df['pt_mm_runoff'] = df['pt_runoff']*1000*3600/21930\n",
    "df['fao_mm_runoff'] = df['fao_runoff']*1000*3600/21930\n",
    "\n",
    "df['obs_runoff'] = df['obs_runoff']*3.6\n",
    "df['so_runoff'] = df['so_runoff']*3.6\n",
    "df['sog_runoff'] = df['sog_runoff']*3.6\n",
    "df['pt_runoff'] = df['pt_runoff']*3.6\n",
    "df['fao_runoff'] = df['fao_runoff']*3.6"
   ]
  },
  {
   "cell_type": "code",
   "execution_count": null,
   "metadata": {},
   "outputs": [],
   "source": [
    "df.head()"
   ]
  },
  {
   "cell_type": "code",
   "execution_count": null,
   "metadata": {},
   "outputs": [],
   "source": [
    "df['residual_obs + et_obs'] = df['prp'] - df['obs_mm_runoff'] - df['obs_D_storage']#-df['D_storage_gw']\n",
    "df['residual_obs'] = df['prp'] - df['obs_mm_runoff'] - df['obs_D_storage']-df['D_storage_gw']\n",
    "df['residual_so'] = df['prp'] - df['so_mm_runoff'] - df['so_D_storage'] - df['so_et']\n",
    "df['residual_sog'] = df['prp'] - df['obs_mm_runoff'] - df['obs_D_storage'] - df['sog_et']\n",
    "df['residual_pt'] = df['prp'] - df['obs_mm_runoff'] - df['fao_D_storage'] - df['pt_et']\n",
    "df['residual_fao'] = df['prp'] - df['obs_mm_runoff'] - df['pt_D_storage'] - df['fao_et']\n",
    "\n",
    "df['residual_so + et_so'] = df['so_et'] + df['residual_so']\n",
    "df['residual_fao + et_fao'] = df['fao_et'] + df['residual_fao']\n",
    "df['residual_obs + et_so'] = df['so_et'] + df['residual_obs']\n",
    "df['residual_pt + et_pt'] = df['pt_et'] + df['residual_pt']"
   ]
  },
  {
   "cell_type": "code",
   "execution_count": null,
   "metadata": {},
   "outputs": [],
   "source": [
    "dfMon = df.resample('1MS').agg('sum')\n",
    "dfAnn = df.resample('1YS').agg('sum')"
   ]
  },
  {
   "cell_type": "code",
   "execution_count": null,
   "metadata": {},
   "outputs": [],
   "source": [
    "dfDay = df.resample('1D').agg('sum')"
   ]
  },
  {
   "cell_type": "code",
   "execution_count": null,
   "metadata": {},
   "outputs": [],
   "source": [
    "df2 = df"
   ]
  },
  {
   "cell_type": "code",
   "execution_count": null,
   "metadata": {},
   "outputs": [],
   "source": [
    "dfMon['month'] = pd.DatetimeIndex(dfMon.index).year#.month\n",
    "dfMon['Date'] = dfMon.index"
   ]
  },
  {
   "cell_type": "code",
   "execution_count": null,
   "metadata": {},
   "outputs": [],
   "source": [
    "dfMon.head()"
   ]
  },
  {
   "cell_type": "code",
   "execution_count": null,
   "metadata": {},
   "outputs": [],
   "source": [
    "dfM = dfMon[['so_et','prp','obs_mm_runoff','so_D_storage']]\n",
    "dfM.columns = ['ET_Ps','Rainfall','Runoff sim.','Storage sim.']"
   ]
  },
  {
   "cell_type": "code",
   "execution_count": null,
   "metadata": {},
   "outputs": [],
   "source": [
    "dfM['Date'] = dfM.index"
   ]
  },
  {
   "cell_type": "code",
   "execution_count": null,
   "metadata": {},
   "outputs": [],
   "source": [
    "dfM.head()"
   ]
  },
  {
   "cell_type": "code",
   "execution_count": null,
   "metadata": {},
   "outputs": [],
   "source": [
    "dataM = dfM.melt(id_vars=['Date'], var_name='Components', value_name='Water budget')\n"
   ]
  },
  {
   "cell_type": "code",
   "execution_count": null,
   "metadata": {},
   "outputs": [],
   "source": [
    "import seaborn as sns\n",
    "import matplotlib.dates as mdates"
   ]
  },
  {
   "cell_type": "markdown",
   "metadata": {},
   "source": [
    "Accent, Accent_r, Blues, Blues_r, BrBG, BrBG_r, BuGn, BuGn_r, BuPu, BuPu_r, CMRmap, CMRmap_r, Dark2, Dark2_r, GnBu, GnBu_r, Greens, Greens_r, Greys, Greys_r, OrRd, OrRd_r, Oranges, Oranges_r, PRGn, PRGn_r, Paired, Paired_r, Pastel1, Pastel1_r, Pastel2, Pastel2_r, PiYG, PiYG_r, PuBu, PuBuGn, PuBuGn_r, PuBu_r, PuOr, PuOr_r, PuRd, PuRd_r, Purples, Purples_r, RdBu, RdBu_r, RdGy, RdGy_r, RdPu, RdPu_r, RdYlBu, RdYlBu_r, RdYlGn, RdYlGn_r, Reds, Reds_r, Set1, Set1_r, Set2, Set2_r, Set3, Set3_r, Spectral, Spectral_r, Wistia, Wistia_r, YlGn, YlGnBu, YlGnBu_r, YlGn_r, YlOrBr, YlOrBr_r, YlOrRd, YlOrRd_r, afmhot, afmhot_r, autumn, autumn_r, binary, binary_r, bone, bone_r, brg, brg_r, bwr, bwr_r, cividis, cividis_r, cool, cool_r, coolwarm, coolwarm_r, copper, copper_r, cubehelix, cubehelix_r, flag, flag_r, gist_earth, gist_earth_r, gist_gray, gist_gray_r, gist_heat, gist_heat_r, gist_ncar, gist_ncar_r, gist_rainbow, gist_rainbow_r, gist_stern, gist_stern_r, gist_yarg, gist_yarg_r, gnuplot, gnuplot2, gnuplot2_r, gnuplot_r, gray, gray_r, hot, hot_r, hsv, hsv_r, icefire, icefire_r, inferno, inferno_r, jet, jet_r, magma, magma_r, mako, mako_r, nipy_spectral, nipy_spectral_r, ocean, ocean_r, pink, pink_r, plasma, plasma_r, prism, prism_r, rainbow, rainbow_r, rocket, rocket_r, seismic, seismic_r, spring, spring_r, summer, summer_r, tab10, tab10_r, tab20, tab20_r, tab20b, tab20b_r, tab20c, tab20c_r, terrain, terrain_r, twilight, twilight_r, twilight_shifted, twilight_shifted_r, viridis, viridis_r, vlag, vlag_r, winter, winter_r\n"
   ]
  },
  {
   "cell_type": "code",
   "execution_count": null,
   "metadata": {},
   "outputs": [],
   "source": [
    "from matplotlib.dates import YearLocator, MonthLocator, WeekdayLocator, DateFormatter"
   ]
  },
  {
   "cell_type": "code",
   "execution_count": null,
   "metadata": {},
   "outputs": [],
   "source": [
    "import datetime\n",
    "import matplotlib.ticker as mticker"
   ]
  },
  {
   "cell_type": "code",
   "execution_count": null,
   "metadata": {},
   "outputs": [],
   "source": [
    "import matplotlib.ticker as tkr"
   ]
  },
  {
   "cell_type": "code",
   "execution_count": null,
   "metadata": {},
   "outputs": [],
   "source": [
    "idy = pd.date_range('2014-01-01','2017-12-12',freq='1MS')"
   ]
  },
  {
   "cell_type": "code",
   "execution_count": null,
   "metadata": {},
   "outputs": [],
   "source": [
    "dfMon.head()"
   ]
  },
  {
   "cell_type": "code",
   "execution_count": null,
   "metadata": {},
   "outputs": [],
   "source": [
    "dfMon['Data'] = idy\n",
    "dfMon['Data'] = pd.to_datetime(dfMon['Data'], dayfirst=True)\n",
    "dfMon['Data'] = dfMon['Data'].dt.strftime('%Y-%m')\n",
    "dfMon.index = dfMon['Data']"
   ]
  },
  {
   "cell_type": "code",
   "execution_count": null,
   "metadata": {},
   "outputs": [],
   "source": [
    "import calendar\n",
    "import matplotlib.dates as mdates"
   ]
  },
  {
   "cell_type": "code",
   "execution_count": null,
   "metadata": {},
   "outputs": [],
   "source": [
    "dfMon.columns"
   ]
  },
  {
   "cell_type": "code",
   "execution_count": null,
   "metadata": {},
   "outputs": [],
   "source": [
    "dfETTNull = dfMon[['residual_obs + et_obs',\n",
    "                   'residual_so + et_so',\n",
    "                   'residual_pt + et_pt',\n",
    "                   'residual_fao + et_fao',\n",
    "#                    'residual_obs + et_obs', \n",
    "                   'pt_et','fao_et',\n",
    "                   'so_et','residual_so']]\n",
    "# dfETTNull= df[['a','b']]\n",
    "# pd.concat(dfMon['residual_obs + et_obs'],dfMon[['so_et']])\n",
    "# df1 = pd.DataFrame([['a', 1], ['b', 2]],\n",
    "# ...                    columns=['letter', 'number'])"
   ]
  },
  {
   "cell_type": "code",
   "execution_count": null,
   "metadata": {},
   "outputs": [],
   "source": [
    "dfETTNull['residual_so+so_et']=dfETTNull['so_et']+dfETTNull['residual_so']"
   ]
  },
  {
   "cell_type": "code",
   "execution_count": null,
   "metadata": {},
   "outputs": [],
   "source": [
    "dfETTNull.head()"
   ]
  },
  {
   "cell_type": "code",
   "execution_count": null,
   "metadata": {},
   "outputs": [],
   "source": [
    "dfETTNull[dfETTNull < 0] = 0"
   ]
  },
  {
   "cell_type": "code",
   "execution_count": null,
   "metadata": {},
   "outputs": [],
   "source": [
    "dfETTNull['Data'] = dfMon['Data']"
   ]
  },
  {
   "cell_type": "code",
   "execution_count": null,
   "metadata": {},
   "outputs": [],
   "source": [
    "dfMon.head()"
   ]
  },
  {
   "cell_type": "code",
   "execution_count": null,
   "metadata": {},
   "outputs": [],
   "source": [
    "dfM.head()"
   ]
  },
  {
   "cell_type": "code",
   "execution_count": null,
   "metadata": {},
   "outputs": [],
   "source": [
    "dfMon['ETdelta']=dfMon['residual_so']+dfMon['so_et']"
   ]
  },
  {
   "cell_type": "code",
   "execution_count": null,
   "metadata": {},
   "outputs": [],
   "source": [
    "# def fmt(x, pos=0, max_i=len(ticklabels)-1):\n",
    "#     i = int(x) \n",
    "#     i = 0 if i < 0 else max_i if i > max_i else i\n",
    "#     return dates[i]"
   ]
  },
  {
   "cell_type": "code",
   "execution_count": null,
   "metadata": {},
   "outputs": [],
   "source": [
    "ticklabels = ['']*len(dfMon)\n",
    "def fmt(x, pos=0, max_i=len(ticklabels)-1):\n",
    "    i = int(x) \n",
    "    i = 0 if i < 0 else max_i if i > max_i else i\n",
    "    return dates[i]"
   ]
  },
  {
   "cell_type": "code",
   "execution_count": null,
   "metadata": {},
   "outputs": [],
   "source": [
    "fig, ax = plt.subplots(nrows = 1, ncols =1,figsize=(30,15))\n",
    "ax11 = ax\n",
    "\n",
    "dfETTNull.plot(x='Data',y=['residual_obs + et_obs','so_et','fao_et','pt_et'],kind='bar', ax = ax11,  edgecolor=\".3\",linewidth=1,width=0.75,\n",
    "               colormap='Accent', alpha=1,\n",
    "               label = ['ET$_{obs}+\\Delta$','ET$_{Ps}$','ET$_{fao}$','ET$_{pt}$'],rot = -0,stacked=False)\n",
    "\n",
    "ticklabels = ['']*len(dfMon)\n",
    "skip = 3\n",
    "ticklabels[0::skip] = dfMon['Date'].iloc[0::skip].dt.strftime('%Y-%m')\n",
    "\n",
    "for ax in [ax11]:#, ax21, ax22]:\n",
    "    ax.tick_params(axis='both', which='major', labelsize=30)\n",
    "    ax.tick_params(axis = 'both', which = 'minor', labelsize = 30)\n",
    "    ax.set_xlabel('',fontsize=30)\n",
    "    ax.fmt_xdata = fmt\n",
    "    ax.legend(loc='upper right',fontsize=30, ncol=2)\n",
    "    ax.xaxis.set_major_formatter(mticker.FixedFormatter(ticklabels))\n",
    "    ax.xaxis.set_major_formatter(mticker.FixedFormatter(ticklabels))\n",
    "\n",
    "ax11.set_ylim([-1,250])\n",
    "ax11.set_ylabel('Evapotranspiration [mm]',fontsize=30,fontweight='bold')\n",
    "fig.autofmt_xdate(rotation=90)\n",
    "ax11.grid(True)\n",
    "\n",
    "def fmt(x, pos=0, max_i=len(ticklabels)-1):\n",
    "    i = int(x) \n",
    "    i = 0 if i < 0 else max_i if i > max_i else i\n",
    "    return dates[i]"
   ]
  },
  {
   "cell_type": "code",
   "execution_count": null,
   "metadata": {},
   "outputs": [],
   "source": [
    "fig, ax = plt.subplots(nrows = 1, ncols =1,figsize=(30,15))\n",
    "# ax11 = ax[0]\n",
    "# ax12 = ax[1]\n",
    "ax13 = ax\n",
    "\n",
    "# dfETTNull.plot(x='Data',y=['residual_obs + et_obs','so_et'],kind='bar', ax = ax11,  edgecolor=\".3\",linewidth=1,width=0.75,\n",
    "#                color=['seagreen','lime'],alpha=1,label = ['ET$_{obs}+\\Delta$','ET$_{Ps}$'],rot = -0,stacked=False)\n",
    "\n",
    "# dfMon.plot(x='Data',y=['obs_D_storage','sog_D_storage'],kind='bar', ax = ax12,  edgecolor=\".3\",linewidth=2.5,\n",
    "#            color=['crimson','peru'],alpha=1,label = ['Storage obs.','Storage sim.'],rot = -0,stacked=False)\n",
    "\n",
    "dfMon.plot(y=['obs_runoff','so_runoff','fao_runoff','pt_runoff'],kind='bar', ax = ax13,  edgecolor=\".3\",linewidth=1,width=0.75,\n",
    "           colormap='Accent',alpha=1,label = ['Runoff obs','Runoff sim$_{ps}$','Runoff sim$_{fao}$','Runoff sim$_{pt}$'],rot = -0,stacked=False)\n",
    "\n",
    "ticklabels = ['']*len(dfMon)\n",
    "skip = 3#len(dfMon)//24\n",
    "ticklabels[0::skip] = dfMon['Date'].iloc[0::skip].dt.strftime('%Y-%m')\n",
    "\n",
    "for ax in [ax13]:#, ax21, ax22]:\n",
    "    ax.tick_params(axis='both', which='major', labelsize=30)\n",
    "    ax.tick_params(axis = 'both', which = 'minor', labelsize = 30)\n",
    "    ax.set_xlabel('',fontsize=30)\n",
    "#     ax.set_ylim([-100,400])\n",
    "    ax.fmt_xdata = fmt\n",
    "    ax.legend(loc='upper right',fontsize=30)\n",
    "    ax.xaxis.set_major_formatter(mticker.FixedFormatter(ticklabels))\n",
    "    ax.xaxis.set_major_formatter(mticker.FixedFormatter(ticklabels))\n",
    "\n",
    "\n",
    "# ax11.set_ylim([-1,250])\n",
    "# ax12.set_ylim([-100,100])\n",
    "ax13.set_ylim([-0.,16])\n",
    "# ax11.set_title('Simulated', fontdict={'fontsize': 30, 'fontweight': 'bold'})\n",
    "\n",
    "# ax11.set_ylabel('Evapotranspiration [mm]',fontsize=30,fontweight='bold')\n",
    "ax13.set_ylabel('Runoff [10$^{3}$ m$^{3}$]',fontsize=30,fontweight='bold')\n",
    " \n",
    "\n",
    "fig.autofmt_xdate(rotation=90)\n",
    "ax13.grid(True)\n",
    "def fmt(x, pos=0, max_i=len(ticklabels)-1):\n",
    "    i = int(x) \n",
    "    i = 0 if i < 0 else max_i if i > max_i else i\n",
    "    return dates[i]\n"
   ]
  },
  {
   "cell_type": "code",
   "execution_count": null,
   "metadata": {},
   "outputs": [],
   "source": [
    "dfMon.columns"
   ]
  },
  {
   "cell_type": "code",
   "execution_count": null,
   "metadata": {},
   "outputs": [],
   "source": [
    "dfETT = dfMon[['Data','residual_obs + et_obs','so_et','sog_et','fao_et','pt_et','residual_so','residual_sog','residual_fao','residual_pt']]"
   ]
  },
  {
   "cell_type": "code",
   "execution_count": null,
   "metadata": {},
   "outputs": [],
   "source": [
    "dfETT['soet+r']= dfETT['so_et']+dfETT['residual_so']\n",
    "dfETT['soget+r']= dfETT['sog_et']+dfETT['residual_sog']\n",
    "dfETT['faoet+r']= dfETT['fao_et']+dfETT['residual_fao']\n",
    "dfETT['ptet+r']= dfETT['pt_et']+dfETT['residual_pt']"
   ]
  },
  {
   "cell_type": "code",
   "execution_count": null,
   "metadata": {},
   "outputs": [],
   "source": [
    "skip = len(dfMon)//4\n",
    "print(skip)"
   ]
  },
  {
   "cell_type": "code",
   "execution_count": null,
   "metadata": {},
   "outputs": [],
   "source": [
    "dfMon.head()"
   ]
  },
  {
   "cell_type": "code",
   "execution_count": null,
   "metadata": {},
   "outputs": [],
   "source": [
    "dfAnn.head()"
   ]
  },
  {
   "cell_type": "code",
   "execution_count": null,
   "metadata": {},
   "outputs": [],
   "source": [
    "ticklabelsY = ['2012', '', '', '', '', \n",
    "               '2013', '', '', '', '', '', '', '', '', '', '', '', \n",
    "               '2014', '', '', '', '', '', '', '', '', '', '', '',\n",
    "               '2015', '', '', '', '', '', '', '', '', '', '', '',\n",
    "               '2016', '', '', '', '', '', '', '', '', '', '']\n",
    "               \n",
    "print(ticklabelsY)"
   ]
  },
  {
   "cell_type": "code",
   "execution_count": null,
   "metadata": {},
   "outputs": [],
   "source": [
    "dfAnn.columns"
   ]
  },
  {
   "cell_type": "code",
   "execution_count": null,
   "metadata": {},
   "outputs": [],
   "source": [
    "df11 = dfso.resample('1YS').agg('sum')\n",
    "df21 = dfsog.resample('1YS').agg('sum')\n",
    "df31 = dffao.resample('1YS').agg('sum')\n",
    "df41 = dfpt.resample('1YS').agg('sum')\n",
    "df51 = dfPrp.resample('1YS').agg('sum')\n",
    "df61 = df['residual_obs + et_obs'].resample('1YS').agg('sum')"
   ]
  },
  {
   "cell_type": "code",
   "execution_count": null,
   "metadata": {},
   "outputs": [],
   "source": [
    "dfprpet = pd.concat([df11,df21,df31,df41,df51,df61],axis=1)"
   ]
  },
  {
   "cell_type": "code",
   "execution_count": null,
   "metadata": {},
   "outputs": [],
   "source": [
    "dfprpet"
   ]
  },
  {
   "cell_type": "code",
   "execution_count": null,
   "metadata": {},
   "outputs": [],
   "source": [
    "dfprpet.index"
   ]
  },
  {
   "cell_type": "code",
   "execution_count": null,
   "metadata": {},
   "outputs": [],
   "source": [
    "dfprpet = dfprpet.iloc[2:6,:]"
   ]
  },
  {
   "cell_type": "code",
   "execution_count": null,
   "metadata": {},
   "outputs": [],
   "source": [
    "dfprpet.head()"
   ]
  },
  {
   "cell_type": "code",
   "execution_count": null,
   "metadata": {},
   "outputs": [],
   "source": [
    "years = mdates.YearLocator()\n",
    "dfprpet.index = dfprpet.index.strftime('%Y')\n",
    "dfprpet.index"
   ]
  },
  {
   "cell_type": "code",
   "execution_count": null,
   "metadata": {},
   "outputs": [],
   "source": [
    "dfprpet['ET GF%'] =100*dfprpet['so_et']/( dfprpet['prp'])\n",
    "dfprpet['ET Obs%'] =100*dfprpet['residual_obs + et_obs']/( dfprpet['prp'])\n",
    "dfprpet['ET FAO%'] =100*dfprpet['fao_et']/( dfprpet['prp'])\n",
    "dfprpet['ET PT%'] =100*dfprpet['pt_et']/( dfprpet['prp'])\n",
    "dfprpet['prp%'] =1"
   ]
  },
  {
   "cell_type": "code",
   "execution_count": null,
   "metadata": {},
   "outputs": [],
   "source": [
    "# ITALIANO\n",
    "plt.style.use('default')\n",
    "fig = plt.figure(figsize=(30,10))\n",
    "ax = fig.add_subplot(111)\n",
    "axy = ax.twinx()\n",
    "\n",
    "\n",
    "\n",
    "dfprpet.plot(y=['ET GF%'],kind='line', ax = axy, label = ['%ET$_{Ps}$'],color='r',linewidth=5, rot = -0,stacked=False)\n",
    "dfprpet.plot(y=['ET Obs%'],kind='line', ax = axy, label = ['%ET$_{obs}$'],color='orange',linewidth=5, rot = -0,stacked=False)\n",
    "\n",
    "dfprpet.plot(y=['so_et','fao_et','pt_et','residual_obs + et_obs','prp'],kind='bar', ax = ax, \n",
    "             colormap='GnBu',edgecolor=\".3\",linewidth=1.5, rot = -0,stacked=False,\n",
    "             label = ['ET$_{Ps}$','ET$_{FAO}$','ET$_{PT}$','ET$_{obs}$+$\\Delta$','PRP'])\n",
    "\n",
    "major_ticks = np.arange(0, 3001, 600)\n",
    "axy.set_ylim([0,100])\n",
    "ax.set_ylim([-1,3000])\n",
    "ax.set_yticks(major_ticks)\n",
    "ax.set_ylabel('ET-PRP [mm]',fontsize=40,fontweight='bold')\n",
    "ax.set_xlabel('Data',fontsize=40,fontweight='bold')\n",
    "# ax.legend(loc='upper center',fontsize=30, ncol=3,handleheight=1, labelspacing=0.05)   \n",
    "ax.legend(loc='upper center',fontsize=30, bbox_to_anchor=(0.35, 1.15),ncol=5,handleheight=1, labelspacing=0.05)   \n",
    "\n",
    "axy.legend(loc='upper center',fontsize=30, bbox_to_anchor=(0.85, 1.15),ncol=2,handleheight=1, labelspacing=0.05)  \n",
    "plt.grid(True)\n",
    "for ax in [ ax,axy]:\n",
    "    ax.tick_params(axis='both', which='major', labelsize=40)\n",
    "    # ax.tick_params(axis = 'both', which = 'minor', labelsize = 20)  \n",
    "#     ax.legend(loc='upper right',fontsize=20)             \n",
    "    "
   ]
  },
  {
   "cell_type": "code",
   "execution_count": null,
   "metadata": {},
   "outputs": [],
   "source": [
    "f=open('output/EFC-luca_15_RioRessi_SO_NS_1500/out/luca_summary.txt')\n",
    "lines=f.readlines()\n",
    "a_so = lines[293]\n",
    "b_so = a_so[40:-1]\n",
    "b_so = float(b_so)\n",
    "b_so"
   ]
  },
  {
   "cell_type": "code",
   "execution_count": null,
   "metadata": {},
   "outputs": [],
   "source": [
    "f=open('output/EFC-luca_15_RioRessi_PT_NS_1500/out/luca_summary.txt')\n",
    "lines=f.readlines()\n",
    "a_pt = lines[293]\n",
    "b_pt = a_pt[40:-1]\n",
    "b_pt = float(b_pt)\n",
    "b_pt"
   ]
  },
  {
   "cell_type": "code",
   "execution_count": null,
   "metadata": {},
   "outputs": [],
   "source": [
    "f=open('output/EFC-luca_15_RioRessi_FAO_NS_1500/out/luca_summary.txt')\n",
    "lines=f.readlines()\n",
    "a_fao = lines[293]\n",
    "b_fao = a_fao[40:-1]\n",
    "b_fao = float(b_fao)\n",
    "b_fao"
   ]
  },
  {
   "cell_type": "code",
   "execution_count": null,
   "metadata": {
    "scrolled": true
   },
   "outputs": [],
   "source": [
    "df2.head()"
   ]
  },
  {
   "cell_type": "code",
   "execution_count": null,
   "metadata": {},
   "outputs": [],
   "source": [
    "df2.tail()"
   ]
  },
  {
   "cell_type": "code",
   "execution_count": null,
   "metadata": {},
   "outputs": [],
   "source": [
    "df2 = df3"
   ]
  },
  {
   "cell_type": "code",
   "execution_count": null,
   "metadata": {},
   "outputs": [],
   "source": [
    "df3[['obs_storage','so_storage','sog_storage','pt_storage','fao_storage','storage_gw']].tail()"
   ]
  },
  {
   "cell_type": "code",
   "execution_count": null,
   "metadata": {},
   "outputs": [],
   "source": [
    "df3[['obs_storage','so_storage','sog_storage','pt_storage','fao_storage','storage_gw']].plot()"
   ]
  },
  {
   "cell_type": "code",
   "execution_count": null,
   "metadata": {},
   "outputs": [],
   "source": [
    "dfS2 =df3[['obs_storage','so_storage','sog_storage','pt_storage','fao_storage','storage_gw']]\n",
    "dfMonM = dfS2.resample('MS').agg('mean')\n",
    "dfS2['sog_storage']=df3['obs_storage']+df3['storage_gw']\n",
    "\n",
    "dfS2[dfS2 < 0]=np.nan"
   ]
  },
  {
   "cell_type": "code",
   "execution_count": null,
   "metadata": {},
   "outputs": [],
   "source": [
    "dfS2['month'] = pd.DatetimeIndex(dfS2.index).month"
   ]
  },
  {
   "cell_type": "code",
   "execution_count": null,
   "metadata": {},
   "outputs": [],
   "source": [
    "dfMonM[['obs_storage','so_storage','sog_storage','pt_storage','fao_storage','storage_gw']].plot()"
   ]
  },
  {
   "cell_type": "code",
   "execution_count": null,
   "metadata": {},
   "outputs": [],
   "source": [
    "dfS2.tail()"
   ]
  },
  {
   "cell_type": "code",
   "execution_count": null,
   "metadata": {},
   "outputs": [],
   "source": [
    "fig, ax = plt.subplots(figsize=(30,10))\n",
    "ax11 = ax\n",
    "# ax21 = ax.twinx()\n",
    "################################################################################\n",
    "dfS2.plot(ax=ax11, y=['obs_storage','so_storage','sog_storage','pt_storage','fao_storage'],\n",
    "          kind='line', stacked=False, colormap='Dark2', alpha =0.9,linewidth=3,\n",
    "                  label=['GEOframe','FAO','Storage RZ + GW','PT','Obs.'])\n",
    "################################################################################\n",
    "ax11.legend(loc='upper center',fontsize=25, bbox_to_anchor=(0.5, 1.12), ncol=5, frameon =True)\n",
    "\n",
    "for ax in [ax11]:\n",
    "    ax.set_ylim([50,500])\n",
    "    ax.set_ylabel('Storage Root Zone [mm/m$^{2}$]',fontsize=30)\n",
    "    ax.set_xlabel('',fontsize=30)\n",
    "    ax.tick_params(axis='both', which='major', labelsize=30)\n",
    "    ax.tick_params(axis = 'both', which = 'minor', labelsize = 30)  \n",
    "    \n"
   ]
  },
  {
   "cell_type": "code",
   "execution_count": null,
   "metadata": {},
   "outputs": [],
   "source": [
    "df2 = df3"
   ]
  },
  {
   "cell_type": "code",
   "execution_count": null,
   "metadata": {},
   "outputs": [],
   "source": [
    "df2[df2==-9999]=np.nan"
   ]
  },
  {
   "cell_type": "code",
   "execution_count": null,
   "metadata": {},
   "outputs": [],
   "source": [
    "maskYear = (df2.index >= '2015-01-01 00:00') & (df2.index <= '2016-11-23 11:00')\n"
   ]
  },
  {
   "cell_type": "code",
   "execution_count": null,
   "metadata": {},
   "outputs": [],
   "source": [
    "df2 = df2.loc[maskYear].dropna(how='any')"
   ]
  },
  {
   "cell_type": "code",
   "execution_count": null,
   "metadata": {},
   "outputs": [],
   "source": [
    "dfRun = df3"
   ]
  },
  {
   "cell_type": "code",
   "execution_count": null,
   "metadata": {},
   "outputs": [],
   "source": [
    "dfRun['obs_runoff_cum'] = dfRun[['obs_runoff']].resample('48MS').agg(['cumsum'])"
   ]
  },
  {
   "cell_type": "code",
   "execution_count": null,
   "metadata": {},
   "outputs": [],
   "source": [
    "dfRun['obs_litri_runoff'] = dfRun['obs_runoff']*1000\n",
    "dfRun['so_litri_runoff'] = dfRun['so_runoff']*1000\n",
    "dfRun['sog_litri_runoff'] = dfRun['sog_runoff']*1000\n",
    "dfRun['pt_litri_runoff'] = dfRun['pt_runoff']*1000\n",
    "dfRun['fao_litri_runoff'] = dfRun['fao_runoff']*1000\n",
    "\n",
    "\n",
    "dfRun['obs_runoff_cum'] = dfRun[['obs_runoff']].resample('48MS').agg(['cumsum'])\n",
    "dfRun['so_runoff_cum'] = dfRun[['so_runoff']].resample('48MS').agg(['cumsum'])\n",
    "dfRun['sog_runoff_cum'] = dfRun[['sog_runoff']].resample('48MS').agg(['cumsum'])\n",
    "dfRun['pt_runoff_cum'] = dfRun[['pt_runoff']].resample('48MS').agg(['cumsum'])\n",
    "dfRun['fao_runoff_cum'] = dfRun[['fao_runoff']].resample('48MS').agg(['cumsum'])"
   ]
  },
  {
   "cell_type": "code",
   "execution_count": null,
   "metadata": {},
   "outputs": [],
   "source": [
    "dfRun.tail()"
   ]
  },
  {
   "cell_type": "code",
   "execution_count": null,
   "metadata": {},
   "outputs": [],
   "source": [
    "from mpl_toolkits.axes_grid1 import host_subplot\n",
    "import mpl_toolkits.axisartist as AA\n",
    "import matplotlib.pyplot as plt"
   ]
  },
  {
   "cell_type": "code",
   "execution_count": null,
   "metadata": {},
   "outputs": [],
   "source": [
    "import matplotlib.pyplot as plt\n",
    "\n",
    "\n",
    "def make_patch_spines_invisible(ax):\n",
    "    ax.set_frame_on(True)\n",
    "    ax.patch.set_visible(False)\n",
    "    for sp in ax.spines.values():\n",
    "        sp.set_visible(False)\n",
    "\n",
    "\n",
    "# fig, host = plt.subplots()\n",
    "fig, host = plt.subplots(figsize=(30,20))\n",
    "\n",
    "fig.subplots_adjust(right=0.75)\n",
    "\n",
    "par1 = host.twinx()\n",
    "par2 = host.twinx()\n",
    "\n",
    "par2.spines[\"right\"].set_position((\"axes\", 1.09))\n",
    "make_patch_spines_invisible(par2)\n",
    "par2.spines[\"right\"].set_visible(True)\n",
    "\n",
    "dfRun.plot(kind='line', y=['so_litri_runoff'], ax=host,linewidth=3,  label=['Runoff sim.'],rot = 30,\n",
    "        color=['red'],alpha = 0.75)\n",
    "dfRun.plot(kind='line', y=['obs_runoff_cum','so_runoff_cum'], ax=par1,linewidth=3, label=['Obs. cum.','Sim. cum.'],rot = -0,\n",
    "         color=['gray','orange'],alpha = 1)\n",
    "dfRun.plot(kind='line', y=['obs_litri_runoff'], ax=host,linewidth=3, label=['Runoff obs.'],rot = 30,\n",
    "         color=['k'],alpha = 0.5)\n",
    "par2.plot(dfRun.index,-dfRun['prp'],label='Rainfall',color=\"blue\",linewidth=3)\n",
    "\n",
    "host.set_ylim(0, 120)\n",
    "par1.set_ylim(0, 120)\n",
    "par2.set_ylim(-80, 0)\n",
    "\n",
    "host.set_xlabel('Date',fontsize=30)\n",
    "host.set_ylabel('Runoff [l/s]',fontsize=30)\n",
    "par1.set_ylabel('Cumulated Runoff [10$^{3}$ m$^{3}$]',fontsize=30)\n",
    "par2.set_ylabel('Rainfall [mm]',fontsize=30)\n",
    "plt.title('Runoff - Prospero \\n \\n',size=30)\n",
    "\n",
    "tkw = dict(size=4, width=1.5)\n",
    "host.tick_params(axis='y')#, colors=p1.get_color(), **tkw)\n",
    "par1.tick_params(axis='y')#, colors=p2.get_color(), **tkw)\n",
    "par2.tick_params(axis='y')#, colors=p3.get_color(), **tkw)\n",
    "host.tick_params(axis='x')#, **tkw)\n",
    "\n",
    "y2_ticks = np.linspace(80,0, 9)\n",
    "y2_ticklabels = [str(i) for i in y2_ticks]\n",
    "par2.set_yticklabels(y2_ticklabels)\n",
    "\n",
    "ax11.legend(loc='upper left',fontsize=15)\n",
    "for ax in [ host,par1, par2]:\n",
    "    ax.set_xlabel('Date',fontsize=30)\n",
    "    ax.tick_params(axis='both', which='major', labelsize=30)\n",
    "    ax.tick_params(axis = 'both', which = 'minor', labelsize = 30) \n",
    "    \n",
    "# lines = [p1, p2, p3]\n",
    "host.legend(loc='upper center',fontsize=30, bbox_to_anchor=(0.15, 1.07), ncol=2, frameon =False)\n",
    "par1.legend(loc='upper right',fontsize=30, bbox_to_anchor=(0.8, 1.07), ncol=2, frameon =False)\n",
    "par2.legend(loc='upper left',fontsize=30, bbox_to_anchor=(0.85, 1.07), ncol=1, frameon =False)\n",
    "\n",
    "plt.show()"
   ]
  },
  {
   "cell_type": "code",
   "execution_count": null,
   "metadata": {},
   "outputs": [],
   "source": []
  }
 ],
 "metadata": {
  "kernelspec": {
   "display_name": "Python 3",
   "language": "python",
   "name": "python3"
  },
  "language_info": {
   "codemirror_mode": {
    "name": "ipython",
    "version": 3
   },
   "file_extension": ".py",
   "mimetype": "text/x-python",
   "name": "python",
   "nbconvert_exporter": "python",
   "pygments_lexer": "ipython3",
   "version": "3.6.7"
  }
 },
 "nbformat": 4,
 "nbformat_minor": 2
}
